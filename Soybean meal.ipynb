{
  "cells": [
    {
      "cell_type": "markdown",
      "metadata": {
        "id": "view-in-github",
        "colab_type": "text"
      },
      "source": [
        "<a href=\"https://colab.research.google.com/github/suhaodatascichem/Soybean-Meal-price/blob/main/Soybean%20meal.ipynb\" target=\"_parent\"><img src=\"https://colab.research.google.com/assets/colab-badge.svg\" alt=\"Open In Colab\"/></a>"
      ]
    },
    {
      "cell_type": "markdown",
      "source": [
        "# Import required libraries"
      ],
      "metadata": {
        "id": "HJ2eUlaZVw7L"
      }
    },
    {
      "cell_type": "code",
      "execution_count": null,
      "metadata": {
        "id": "lWDl6nBj-0xx"
      },
      "outputs": [],
      "source": [
        "# required libraries\n",
        "import pandas as pd\n",
        "import numpy as np\n",
        "import datetime as dt\n",
        "\n",
        "# for plots\n",
        "import matplotlib.pyplot as plt\n",
        "import seaborn as sns"
      ]
    },
    {
      "cell_type": "code",
      "execution_count": null,
      "metadata": {
        "id": "0aP0gYHY_AUU"
      },
      "outputs": [],
      "source": [
        "from sklearn.preprocessing import MinMaxScaler\n",
        "import math, time\n",
        "from sklearn.metrics import mean_squared_error\n",
        "import time\n",
        "from sklearn.metrics import mean_squared_error"
      ]
    },
    {
      "cell_type": "code",
      "execution_count": null,
      "metadata": {
        "id": "ev8PGZHK_AXc"
      },
      "outputs": [],
      "source": [
        "import torch\n",
        "import torch.nn as nn\n",
        "from torch.utils.data import TensorDataset, DataLoader"
      ]
    },
    {
      "cell_type": "markdown",
      "source": [
        "# Read Data"
      ],
      "metadata": {
        "id": "GSk0SaQbVqAI"
      }
    },
    {
      "cell_type": "code",
      "source": [
        "# import from github\n",
        "url = 'https://raw.githubusercontent.com/suhaodatascichem/Soybean-Meal-price/refs/heads/main/US%20Soybean%20Meal%20Futures%20Historical%20Data-daily.csv'\n",
        "df_raw = pd.read_csv(url)"
      ],
      "metadata": {
        "id": "k46DKg6O0NgT"
      },
      "execution_count": null,
      "outputs": []
    },
    {
      "cell_type": "code",
      "source": [
        "startdate = df_raw['Date'].min()\n",
        "print('startdate is ', startdate)\n",
        "enddate = df_raw['Date'].max()\n",
        "print(\"startdate is \", enddate)\n"
      ],
      "metadata": {
        "id": "akKnr5iccIK5",
        "outputId": "08e992f5-af42-4284-ae59-e4bae5fb5d24",
        "colab": {
          "base_uri": "https://localhost:8080/"
        }
      },
      "execution_count": null,
      "outputs": [
        {
          "output_type": "stream",
          "name": "stdout",
          "text": [
            "startdate is  2017-01-03 00:00:00\n",
            "startdate is  2024-12-27 00:00:00\n"
          ]
        }
      ]
    },
    {
      "cell_type": "code",
      "source": [
        "df_raw.head(1)"
      ],
      "metadata": {
        "id": "Kl3EjYmhdKXB",
        "outputId": "4a83f2ae-207e-419c-e33b-e16d14641b80",
        "colab": {
          "base_uri": "https://localhost:8080/",
          "height": 81
        }
      },
      "execution_count": null,
      "outputs": [
        {
          "output_type": "execute_result",
          "data": {
            "text/plain": [
              "         Date  Price   Open   High    Low Vol. Change %\n",
              "0  12/27/2024  310.5  315.2  315.6  310.1  NaN   -1.40%"
            ],
            "text/html": [
              "\n",
              "  <div id=\"df-1baa0c0b-b515-4c61-9a4b-6bafcf2a0f7f\" class=\"colab-df-container\">\n",
              "    <div>\n",
              "<style scoped>\n",
              "    .dataframe tbody tr th:only-of-type {\n",
              "        vertical-align: middle;\n",
              "    }\n",
              "\n",
              "    .dataframe tbody tr th {\n",
              "        vertical-align: top;\n",
              "    }\n",
              "\n",
              "    .dataframe thead th {\n",
              "        text-align: right;\n",
              "    }\n",
              "</style>\n",
              "<table border=\"1\" class=\"dataframe\">\n",
              "  <thead>\n",
              "    <tr style=\"text-align: right;\">\n",
              "      <th></th>\n",
              "      <th>Date</th>\n",
              "      <th>Price</th>\n",
              "      <th>Open</th>\n",
              "      <th>High</th>\n",
              "      <th>Low</th>\n",
              "      <th>Vol.</th>\n",
              "      <th>Change %</th>\n",
              "    </tr>\n",
              "  </thead>\n",
              "  <tbody>\n",
              "    <tr>\n",
              "      <th>0</th>\n",
              "      <td>12/27/2024</td>\n",
              "      <td>310.5</td>\n",
              "      <td>315.2</td>\n",
              "      <td>315.6</td>\n",
              "      <td>310.1</td>\n",
              "      <td>NaN</td>\n",
              "      <td>-1.40%</td>\n",
              "    </tr>\n",
              "  </tbody>\n",
              "</table>\n",
              "</div>\n",
              "    <div class=\"colab-df-buttons\">\n",
              "\n",
              "  <div class=\"colab-df-container\">\n",
              "    <button class=\"colab-df-convert\" onclick=\"convertToInteractive('df-1baa0c0b-b515-4c61-9a4b-6bafcf2a0f7f')\"\n",
              "            title=\"Convert this dataframe to an interactive table.\"\n",
              "            style=\"display:none;\">\n",
              "\n",
              "  <svg xmlns=\"http://www.w3.org/2000/svg\" height=\"24px\" viewBox=\"0 -960 960 960\">\n",
              "    <path d=\"M120-120v-720h720v720H120Zm60-500h600v-160H180v160Zm220 220h160v-160H400v160Zm0 220h160v-160H400v160ZM180-400h160v-160H180v160Zm440 0h160v-160H620v160ZM180-180h160v-160H180v160Zm440 0h160v-160H620v160Z\"/>\n",
              "  </svg>\n",
              "    </button>\n",
              "\n",
              "  <style>\n",
              "    .colab-df-container {\n",
              "      display:flex;\n",
              "      gap: 12px;\n",
              "    }\n",
              "\n",
              "    .colab-df-convert {\n",
              "      background-color: #E8F0FE;\n",
              "      border: none;\n",
              "      border-radius: 50%;\n",
              "      cursor: pointer;\n",
              "      display: none;\n",
              "      fill: #1967D2;\n",
              "      height: 32px;\n",
              "      padding: 0 0 0 0;\n",
              "      width: 32px;\n",
              "    }\n",
              "\n",
              "    .colab-df-convert:hover {\n",
              "      background-color: #E2EBFA;\n",
              "      box-shadow: 0px 1px 2px rgba(60, 64, 67, 0.3), 0px 1px 3px 1px rgba(60, 64, 67, 0.15);\n",
              "      fill: #174EA6;\n",
              "    }\n",
              "\n",
              "    .colab-df-buttons div {\n",
              "      margin-bottom: 4px;\n",
              "    }\n",
              "\n",
              "    [theme=dark] .colab-df-convert {\n",
              "      background-color: #3B4455;\n",
              "      fill: #D2E3FC;\n",
              "    }\n",
              "\n",
              "    [theme=dark] .colab-df-convert:hover {\n",
              "      background-color: #434B5C;\n",
              "      box-shadow: 0px 1px 3px 1px rgba(0, 0, 0, 0.15);\n",
              "      filter: drop-shadow(0px 1px 2px rgba(0, 0, 0, 0.3));\n",
              "      fill: #FFFFFF;\n",
              "    }\n",
              "  </style>\n",
              "\n",
              "    <script>\n",
              "      const buttonEl =\n",
              "        document.querySelector('#df-1baa0c0b-b515-4c61-9a4b-6bafcf2a0f7f button.colab-df-convert');\n",
              "      buttonEl.style.display =\n",
              "        google.colab.kernel.accessAllowed ? 'block' : 'none';\n",
              "\n",
              "      async function convertToInteractive(key) {\n",
              "        const element = document.querySelector('#df-1baa0c0b-b515-4c61-9a4b-6bafcf2a0f7f');\n",
              "        const dataTable =\n",
              "          await google.colab.kernel.invokeFunction('convertToInteractive',\n",
              "                                                    [key], {});\n",
              "        if (!dataTable) return;\n",
              "\n",
              "        const docLinkHtml = 'Like what you see? Visit the ' +\n",
              "          '<a target=\"_blank\" href=https://colab.research.google.com/notebooks/data_table.ipynb>data table notebook</a>'\n",
              "          + ' to learn more about interactive tables.';\n",
              "        element.innerHTML = '';\n",
              "        dataTable['output_type'] = 'display_data';\n",
              "        await google.colab.output.renderOutput(dataTable, element);\n",
              "        const docLink = document.createElement('div');\n",
              "        docLink.innerHTML = docLinkHtml;\n",
              "        element.appendChild(docLink);\n",
              "      }\n",
              "    </script>\n",
              "  </div>\n",
              "\n",
              "\n",
              "    </div>\n",
              "  </div>\n"
            ],
            "application/vnd.google.colaboratory.intrinsic+json": {
              "type": "dataframe",
              "variable_name": "df_raw",
              "summary": "{\n  \"name\": \"df_raw\",\n  \"rows\": 2058,\n  \"fields\": [\n    {\n      \"column\": \"Date\",\n      \"properties\": {\n        \"dtype\": \"object\",\n        \"num_unique_values\": 2058,\n        \"samples\": [\n          \"12/16/2019\",\n          \"09/08/2022\",\n          \"11/18/2019\"\n        ],\n        \"semantic_type\": \"\",\n        \"description\": \"\"\n      }\n    },\n    {\n      \"column\": \"Price\",\n      \"properties\": {\n        \"dtype\": \"number\",\n        \"std\": 54.103410130675435,\n        \"min\": 282.0,\n        \"max\": 493.4,\n        \"num_unique_values\": 1168,\n        \"samples\": [\n          356.5,\n          319.8,\n          326.8\n        ],\n        \"semantic_type\": \"\",\n        \"description\": \"\"\n      }\n    },\n    {\n      \"column\": \"Open\",\n      \"properties\": {\n        \"dtype\": \"number\",\n        \"std\": 54.030245678663235,\n        \"min\": 282.0,\n        \"max\": 493.3,\n        \"num_unique_values\": 1141,\n        \"samples\": [\n          385.0,\n          305.3,\n          398.3\n        ],\n        \"semantic_type\": \"\",\n        \"description\": \"\"\n      }\n    },\n    {\n      \"column\": \"High\",\n      \"properties\": {\n        \"dtype\": \"number\",\n        \"std\": 55.321191608468915,\n        \"min\": 283.55,\n        \"max\": 498.0,\n        \"num_unique_values\": 1169,\n        \"samples\": [\n          356.2,\n          321.9,\n          345.8\n        ],\n        \"semantic_type\": \"\",\n        \"description\": \"\"\n      }\n    },\n    {\n      \"column\": \"Low\",\n      \"properties\": {\n        \"dtype\": \"number\",\n        \"std\": 52.92671388959259,\n        \"min\": 281.9,\n        \"max\": 492.8,\n        \"num_unique_values\": 1142,\n        \"samples\": [\n          334.1,\n          390.6,\n          395.8\n        ],\n        \"semantic_type\": \"\",\n        \"description\": \"\"\n      }\n    },\n    {\n      \"column\": \"Vol.\",\n      \"properties\": {\n        \"dtype\": \"string\",\n        \"num_unique_values\": 1781,\n        \"samples\": [\n          \"13.20K\",\n          \"19.85K\",\n          \"68.39K\"\n        ],\n        \"semantic_type\": \"\",\n        \"description\": \"\"\n      }\n    },\n    {\n      \"column\": \"Change %\",\n      \"properties\": {\n        \"dtype\": \"category\",\n        \"num_unique_values\": 566,\n        \"samples\": [\n          \"-3.28%\",\n          \"-1.88%\",\n          \"-0.11%\"\n        ],\n        \"semantic_type\": \"\",\n        \"description\": \"\"\n      }\n    }\n  ]\n}"
            }
          },
          "metadata": {},
          "execution_count": 6
        }
      ]
    },
    {
      "cell_type": "code",
      "source": [
        "plt.plot(df_raw['Date'], df_raw[\"Price\"])\n",
        "plt.xlabel(\"Date\")\n",
        "plt.ylabel(\"Daily price\")\n",
        "plt.figure(figsize=(32,2))\n",
        "plt.show()"
      ],
      "metadata": {
        "id": "OLlgupQtI5jx",
        "outputId": "fa55beeb-1d35-4da9-ece2-6c0e7a7dc599",
        "colab": {
          "base_uri": "https://localhost:8080/",
          "height": 466
        }
      },
      "execution_count": null,
      "outputs": [
        {
          "output_type": "display_data",
          "data": {
            "text/plain": [
              "<Figure size 640x480 with 1 Axes>"
            ],
            "image/png": "[encoded data removed]"
          },
          "metadata": {}
        },
        {
          "output_type": "display_data",
          "data": {
            "text/plain": [
              "<Figure size 3200x200 with 0 Axes>"
            ]
          },
          "metadata": {}
        }
      ]
    },
    {
      "cell_type": "code",
      "source": [
        "df_raw['Date'] = pd.to_datetime(df_raw['Date'])\n",
        "# df = df_raw[(df_raw['Date'] > '2019-12-31') & (df_raw['Date'] < '2022-12-31')]\n",
        "df = df_raw[df_raw['Date'] > '2022-06-30']\n",
        "plt.plot(df['Date'], df[\"Price\"])\n",
        "plt.xlabel(\"Date\")\n",
        "plt.ylabel(\"Daily price\")\n",
        "plt.figure(figsize=(32,2))\n",
        "plt.show()"
      ],
      "metadata": {
        "id": "6FjYD8K_xeaM",
        "colab": {
          "base_uri": "https://localhost:8080/",
          "height": 466
        },
        "outputId": "79c62e3c-00de-4418-f5b8-d134d2d3dd84"
      },
      "execution_count": null,
      "outputs": [
        {
          "output_type": "display_data",
          "data": {
            "text/plain": [
              "<Figure size 640x480 with 1 Axes>"
            ],
            "image/png": "[encoded data removed]"
          },
          "metadata": {}
        },
        {
          "output_type": "display_data",
          "data": {
            "text/plain": [
              "<Figure size 3200x200 with 0 Axes>"
            ]
          },
          "metadata": {}
        }
      ]
    },
    {
      "cell_type": "code",
      "source": [
        "# min-max nomalization\n",
        "from sklearn.preprocessing import MinMaxScaler\n",
        "\n",
        "scaler = MinMaxScaler(feature_range=(0, 1))\n",
        "df[['Price']] = scaler.fit_transform(df[['Price']])"
      ],
      "metadata": {
        "id": "A80wLBUot7Hv",
        "outputId": "1ac8d077-319e-4ed3-b243-18b956171378",
        "colab": {
          "base_uri": "https://localhost:8080/"
        }
      },
      "execution_count": null,
      "outputs": [
        {
          "output_type": "stream",
          "name": "stderr",
          "text": [
            "<ipython-input-13-bcbce0cf0b0b>:5: SettingWithCopyWarning: \n",
            "A value is trying to be set on a copy of a slice from a DataFrame.\n",
            "Try using .loc[row_indexer,col_indexer] = value instead\n",
            "\n",
            "See the caveats in the documentation: https://pandas.pydata.org/pandas-docs/stable/user_guide/indexing.html#returning-a-view-versus-a-copy\n",
            "  df[['Price']] = scaler.fit_transform(df[['Price']])\n"
          ]
        }
      ]
    },
    {
      "cell_type": "markdown",
      "source": [
        "# LSTM only consider the period after covid, 2022-07 onwards"
      ],
      "metadata": {
        "id": "RXCm1osZLlWP"
      }
    },
    {
      "cell_type": "markdown",
      "metadata": {
        "id": "Ey6mH5e6-5dH"
      },
      "source": [
        "## Data Prep"
      ]
    },
    {
      "cell_type": "code",
      "source": [
        "#Function to perform the train test split on the df based on the desired window_size (ws)\n",
        "def train_test_prep(series, x_variables, y_variables,  window_size, test_size):\n",
        "  # series should be a numpy series\n",
        "  x_series = series[x_variables].to_numpy()\n",
        "  y_series = series[y_variables].to_numpy()\n",
        "\n",
        "  x_data = []\n",
        "  y_data = []\n",
        "  for i in range(len(x_series) - window_size):\n",
        "    x_data.append(x_series[i: i+window_size])\n",
        "    y_data.append(y_series[i+window_size])\n",
        "  x_data = np.array(x_data)\n",
        "  y_data = np.array(y_data)\n",
        "\n",
        "  train_size = x_data.shape[0] - test_size\n",
        "\n",
        "  train_x = x_data[:train_size, :,:]\n",
        "  train_y = y_data[:train_size, :]\n",
        "\n",
        "  test_x = x_data[train_size:train_size+test_size, :,:]\n",
        "  test_y = y_data[train_size:train_size+test_size:, :]\n",
        "\n",
        "  return [train_x, train_y, test_x, test_y]"
      ],
      "metadata": {
        "id": "du2Bh7tDSZx1"
      },
      "execution_count": null,
      "outputs": []
    },
    {
      "cell_type": "code",
      "source": [
        "ws = 30\n",
        "test_size = 180"
      ],
      "metadata": {
        "id": "l-pAntwd5LcY"
      },
      "execution_count": null,
      "outputs": []
    },
    {
      "cell_type": "code",
      "execution_count": null,
      "metadata": {
        "id": "5PSrzvxwqv55"
      },
      "outputs": [],
      "source": [
        "x_train, y_train, x_test, y_test = train_test_prep(df, [\"Price\"],[\"Price\"], ws,test_size)"
      ]
    },
    {
      "cell_type": "code",
      "source": [
        "x_train.shape, x_test.shape, y_train.shape, y_test.shape"
      ],
      "metadata": {
        "id": "h3uHiaRJVCkN",
        "colab": {
          "base_uri": "https://localhost:8080/"
        },
        "outputId": "42a3ab82-3845-4db0-b7c5-cfdacd3fadcc"
      },
      "execution_count": null,
      "outputs": [
        {
          "output_type": "execute_result",
          "data": {
            "text/plain": [
              "((431, 30, 1), (180, 30, 1), (431, 1), (180, 1))"
            ]
          },
          "metadata": {},
          "execution_count": 18
        }
      ]
    },
    {
      "cell_type": "code",
      "source": [
        "#Function to obtain train, test data as tensors for torch\n",
        "def array_to_tensor(x_train, x_test, y_train, y_test):\n",
        "  x_train_torch = torch.from_numpy(x_train).type(torch.Tensor).cuda()\n",
        "  x_test_torch = torch.from_numpy(x_test).type(torch.Tensor).cuda()\n",
        "  y_train_torch = torch.from_numpy(y_train).type(torch.Tensor).cuda()\n",
        "  y_test_torch = torch.from_numpy(y_test).type(torch.Tensor).cuda()\n",
        "  return x_train_torch, x_test_torch, y_train_torch, y_test_torch"
      ],
      "metadata": {
        "id": "rP4I-W8vXZ94"
      },
      "execution_count": null,
      "outputs": []
    },
    {
      "cell_type": "code",
      "source": [
        "x_train_torch, x_test_torch, y_train_torch, y_test_torch = array_to_tensor(x_train, x_test, y_train, y_test)"
      ],
      "metadata": {
        "id": "tVVkPr0pXlK1"
      },
      "execution_count": null,
      "outputs": []
    },
    {
      "cell_type": "code",
      "source": [
        "x_train_torch.shape, x_test_torch.shape, y_train_torch.shape, y_test_torch.shape"
      ],
      "metadata": {
        "id": "uEZ_iuaCVXYR",
        "outputId": "acdec889-b5b9-44fe-b01e-33503bab70d1",
        "colab": {
          "base_uri": "https://localhost:8080/"
        }
      },
      "execution_count": null,
      "outputs": [
        {
          "output_type": "execute_result",
          "data": {
            "text/plain": [
              "(torch.Size([431, 30, 1]),\n",
              " torch.Size([180, 30, 1]),\n",
              " torch.Size([431, 1]),\n",
              " torch.Size([180, 1]))"
            ]
          },
          "metadata": {},
          "execution_count": 21
        }
      ]
    },
    {
      "cell_type": "markdown",
      "source": [
        "# Baseline model"
      ],
      "metadata": {
        "id": "KFNXecrkW4-3"
      }
    },
    {
      "cell_type": "code",
      "source": [
        "# base line model that uses the previous time stamp's demand as the predicted demand\n",
        "\n",
        "#function for baseline model\n",
        "def baseline_rmse(df, ws, y_train_data, column_name):\n",
        "  y_base_test = np.array(df[column_name][ws+y_train.shape[0]-1:-1],dtype=np.float32)\n",
        "  y_base_label = np.array(df[column_name][ws+y_train.shape[0]:],dtype=np.float32)\n",
        "\n",
        "  print(y_base_test, y_base_label)\n",
        "  rmse_loss_test = np.sqrt(mean_squared_error(y_base_test, y_base_label))\n",
        "  return rmse_loss_test"
      ],
      "metadata": {
        "id": "VgvhGAq-Puyj"
      },
      "execution_count": null,
      "outputs": []
    },
    {
      "cell_type": "code",
      "source": [
        "baseline_rmse(df, ws, y_train, 'Price')"
      ],
      "metadata": {
        "id": "-QRbM0_PP-Kf",
        "outputId": "641dc59e-5992-48de-f68c-e871f4ae7d0b",
        "colab": {
          "base_uri": "https://localhost:8080/"
        }
      },
      "execution_count": null,
      "outputs": [
        {
          "output_type": "stream",
          "name": "stdout",
          "text": [
            "[0.9417105  0.93263257 0.9641663  0.9689441  0.9632107  0.97324413\n",
            " 1.         0.94218826 0.89918774 0.8896321  0.87434304 0.94457716\n",
            " 0.93597704 0.9264214  0.9240325  0.9436216  0.9897277  0.9973722\n",
            " 0.9116101  0.9130435  0.9116101  0.94792163 0.9617773  0.9369326\n",
            " 0.9264214  0.8862876  0.8772097  0.909699   0.9393216  0.9159102\n",
            " 0.88533205 0.881032   0.89727664 0.83755374 0.8499761  0.8060201\n",
            " 0.78690875 0.7802198  0.79741997 0.8222647  0.841376   0.8705208\n",
            " 0.9182991  0.94218826 0.91017675 0.88294315 0.8896321  0.9245103\n",
            " 0.8638318  0.8533206  0.8647874  0.8929766  0.8332537  0.84663165\n",
            " 0.7821309  0.79885334 0.78451985 0.8055423  0.78929764 0.7740086\n",
            " 0.841376   0.8050645  0.8408982  0.8036311  0.7935977  0.89584327\n",
            " 0.87099856 0.83564264 0.78595316 0.707119   0.6688963  0.6569517\n",
            " 0.638796   0.59006214 0.6096512  0.5838509  0.588151   0.58910656\n",
            " 0.57763976 0.59197325 0.58289534 0.56569517 0.5728619  0.5871954\n",
            " 0.56426185 0.5709508  0.55566174 0.6125179  0.6192069  0.61538464\n",
            " 0.61490685 0.58958435 0.6349737  0.638796   0.6450072  0.63115144\n",
            " 0.59149545 0.5633063  0.58958435 0.5652174  0.60296226 0.5862399\n",
            " 0.537506   0.54276156 0.581462   0.6067845  0.60630673 0.6220736\n",
            " 0.5824176  0.58098423 0.55709505 0.5222169  0.54658383 0.5609173\n",
            " 0.5790731  0.56808406 0.588151   0.61442906 0.6187291  0.63736266\n",
            " 0.66507405 0.6918299  0.73913044 0.7419971  0.693741   0.6574295\n",
            " 0.68752986 0.6951744  0.6918299  0.7439083  0.6244625  0.5972289\n",
            " 0.62541807 0.6043956  0.61562353 0.63951266 0.6684185  0.6617296\n",
            " 0.65265167 0.69613    0.71428573 0.7166746  0.643096   0.71046346\n",
            " 0.7052078  0.65312946 0.59197325 0.61586237 0.581462   0.55709505\n",
            " 0.6043956  0.86287624 0.82369804 0.790731   0.7883421  0.72766364\n",
            " 0.7329193  0.80936456 0.7037745  0.7171524  0.6956522  0.7563306\n",
            " 0.7596751  0.77353084 0.7209747  0.62637365 0.5504061  0.56760633\n",
            " 0.5848065  0.5838509  0.5953177  0.5738175  0.7396082  0.7314859\n",
            " 0.6722408  0.71094126 0.7032967  0.66602963 0.62828475 0.60344005] [0.93263257 0.9641663  0.9689441  0.9632107  0.97324413 1.\n",
            " 0.94218826 0.89918774 0.8896321  0.87434304 0.94457716 0.93597704\n",
            " 0.9264214  0.9240325  0.9436216  0.9897277  0.9973722  0.9116101\n",
            " 0.9130435  0.9116101  0.94792163 0.9617773  0.9369326  0.9264214\n",
            " 0.8862876  0.8772097  0.909699   0.9393216  0.9159102  0.88533205\n",
            " 0.881032   0.89727664 0.83755374 0.8499761  0.8060201  0.78690875\n",
            " 0.7802198  0.79741997 0.8222647  0.841376   0.8705208  0.9182991\n",
            " 0.94218826 0.91017675 0.88294315 0.8896321  0.9245103  0.8638318\n",
            " 0.8533206  0.8647874  0.8929766  0.8332537  0.84663165 0.7821309\n",
            " 0.79885334 0.78451985 0.8055423  0.78929764 0.7740086  0.841376\n",
            " 0.8050645  0.8408982  0.8036311  0.7935977  0.89584327 0.87099856\n",
            " 0.83564264 0.78595316 0.707119   0.6688963  0.6569517  0.638796\n",
            " 0.59006214 0.6096512  0.5838509  0.588151   0.58910656 0.57763976\n",
            " 0.59197325 0.58289534 0.56569517 0.5728619  0.5871954  0.56426185\n",
            " 0.5709508  0.55566174 0.6125179  0.6192069  0.61538464 0.61490685\n",
            " 0.58958435 0.6349737  0.638796   0.6450072  0.63115144 0.59149545\n",
            " 0.5633063  0.58958435 0.5652174  0.60296226 0.5862399  0.537506\n",
            " 0.54276156 0.581462   0.6067845  0.60630673 0.6220736  0.5824176\n",
            " 0.58098423 0.55709505 0.5222169  0.54658383 0.5609173  0.5790731\n",
            " 0.56808406 0.588151   0.61442906 0.6187291  0.63736266 0.66507405\n",
            " 0.6918299  0.73913044 0.7419971  0.693741   0.6574295  0.68752986\n",
            " 0.6951744  0.6918299  0.7439083  0.6244625  0.5972289  0.62541807\n",
            " 0.6043956  0.61562353 0.63951266 0.6684185  0.6617296  0.65265167\n",
            " 0.69613    0.71428573 0.7166746  0.643096   0.71046346 0.7052078\n",
            " 0.65312946 0.59197325 0.61586237 0.581462   0.55709505 0.6043956\n",
            " 0.86287624 0.82369804 0.790731   0.7883421  0.72766364 0.7329193\n",
            " 0.80936456 0.7037745  0.7171524  0.6956522  0.7563306  0.7596751\n",
            " 0.77353084 0.7209747  0.62637365 0.5504061  0.56760633 0.5848065\n",
            " 0.5838509  0.5953177  0.5738175  0.7396082  0.7314859  0.6722408\n",
            " 0.71094126 0.7032967  0.66602963 0.62828475 0.60344005 0.6593407 ]\n"
          ]
        },
        {
          "output_type": "execute_result",
          "data": {
            "text/plain": [
              "0.042309467570889464"
            ]
          },
          "metadata": {},
          "execution_count": 23
        }
      ]
    },
    {
      "cell_type": "markdown",
      "metadata": {
        "id": "73Ip-SqqS11j"
      },
      "source": [
        "# LSTM Model Architecture\n"
      ]
    },
    {
      "cell_type": "code",
      "execution_count": null,
      "metadata": {
        "id": "OEtzYAFbU01B"
      },
      "outputs": [],
      "source": [
        "class LSTM(nn.Module):\n",
        "    def __init__(self, input_dim, hidden_dim, num_layers, output_dim, num_epochs, dropout_rate):\n",
        "        super(LSTM, self).__init__()\n",
        "        self.hidden_dim = hidden_dim\n",
        "        self.num_layers = num_layers\n",
        "\n",
        "        self.lstm = nn.LSTM(input_dim, hidden_dim, num_layers, batch_first=True)\n",
        "        self.fc = nn.Linear(hidden_dim, output_dim)\n",
        "\n",
        "    def forward(self, x):\n",
        "        h0 = torch.zeros(self.num_layers, x.size(0), self.hidden_dim).requires_grad_().cuda()\n",
        "        c0 = torch.zeros(self.num_layers, x.size(0), self.hidden_dim).requires_grad_().cuda()\n",
        "        out, (hn, cn) = self.lstm(x, (h0, c0))\n",
        "        out = self.fc(out[:, -1, :])\n",
        "        return out"
      ]
    },
    {
      "cell_type": "code",
      "source": [
        "def build_lstm_model(input_dim, hidden_dim, num_layers, output_dim, num_epochs, dropout_rate):\n",
        "  model = LSTM(input_dim=input_dim, hidden_dim=hidden_dim, output_dim=output_dim, num_layers=num_layers, num_epochs=num_epochs, dropout_rate=dropout_rate)\n",
        "  model = model.cuda()\n",
        "  cr = torch.nn.MSELoss(reduction='mean')\n",
        "  optimizer = torch.optim.Adam(model.parameters(), lr=0.01)\n",
        "  return model, cr, optimizer"
      ],
      "metadata": {
        "id": "jCOJmN4-SBaS"
      },
      "execution_count": null,
      "outputs": []
    },
    {
      "cell_type": "code",
      "source": [
        "input_dim = 1\n",
        "output_dim = 1\n",
        "dropout_rate = 0.3\n",
        "# other Parameters\n",
        "#num_layers = 2\n",
        "#hidden_dim = 50\n",
        "#num_epochs = 100\n"
      ],
      "metadata": {
        "id": "HZqDYtW5qkLU"
      },
      "execution_count": null,
      "outputs": []
    },
    {
      "cell_type": "markdown",
      "source": [
        "# Train LSTM Model"
      ],
      "metadata": {
        "id": "zfQGXVvcYQMx"
      }
    },
    {
      "cell_type": "code",
      "source": [
        "def train_model(model, cr, optimizer, x_train_torch, y_train_torch, x_test_torch, y_test_torch, num_epochs):\n",
        "  torch.manual_seed(42)\n",
        "  torch.cuda.manual_seed(42)\n",
        "  torch.cuda.manual_seed_all(42)\n",
        "  np.random.seed(42)\n",
        "  torch.backends.cudnn.deterministic = True\n",
        "\n",
        "  train_hist = np.zeros(num_epochs)\n",
        "  test_hist = np.zeros(num_epochs)\n",
        "  start_time = time.time()\n",
        "  lstm = []\n",
        "\n",
        "\n",
        "  for t in range(num_epochs):\n",
        "    model.train()\n",
        "    y_train_pred = model(x_train_torch)\n",
        "    loss = cr(y_train_pred, y_train_torch)\n",
        "    train_hist[t] = loss.item()\n",
        "\n",
        "    optimizer.zero_grad()\n",
        "    loss.backward()\n",
        "    optimizer.step()\n",
        "\n",
        "    model.eval()\n",
        "    with torch.no_grad():\n",
        "      y_test_pred = model(x_test_torch)\n",
        "      loss = cr(y_test_pred, y_test_torch)\n",
        "      test_hist[t] = loss.item()\n",
        "      #print(\"Epoch \", t, \"train MSE: \", train_hist[t], \"Test MSE:\", test_hist[t])\n",
        "\n",
        "  training_time = time.time()-start_time\n",
        "  #print(\"Training time: {}\".format(training_time))\n",
        "  return y_train_pred, y_test_pred"
      ],
      "metadata": {
        "id": "jhjJL08dUa70"
      },
      "execution_count": null,
      "outputs": []
    },
    {
      "cell_type": "markdown",
      "source": [
        "# Get_RMSE\n",
        "\n"
      ],
      "metadata": {
        "id": "T45S68m9YeKD"
      }
    },
    {
      "cell_type": "code",
      "source": [
        "def get_RMSE(y_train_pred, y_train_torch , type='Train'):\n",
        "  # invert predictions\n",
        "  y_train_pred = y_train_pred.cpu().detach().numpy()\n",
        "  y_train_final = y_train_torch.cpu().detach().numpy()\n",
        "\n",
        "  # calculate root mean squared error\n",
        "  trainScore = math.sqrt(mean_squared_error(y_train_final[:,0], y_train_pred[:,0]))\n",
        "  print(f\"{type} RMSE: \",trainScore)\n",
        "\n",
        "  return trainScore"
      ],
      "metadata": {
        "id": "UHoCKoRTOVWp"
      },
      "execution_count": null,
      "outputs": []
    },
    {
      "cell_type": "markdown",
      "source": [
        "#Model parameters fine tuneing"
      ],
      "metadata": {
        "id": "RsBaVqjLGYrk"
      }
    },
    {
      "cell_type": "code",
      "source": [
        "# Function to vary the number of layers and hidden dimensions, and epochs to find the combination with the best RMSE\n",
        "def model_tuning(x_train_torch, y_train_torch, x_test_torch, y_test_torch, input_dim, output_dim):\n",
        "  torch.manual_seed(42)\n",
        "  torch.cuda.manual_seed(42)\n",
        "  torch.cuda.manual_seed_all(42)\n",
        "  np.random.seed(42)\n",
        "  torch.backends.cudnn.deterministic = True\n",
        "  testscore = 0\n",
        "  nl = 0\n",
        "  hd = 0\n",
        "  epochs = 0\n",
        "  summary = []\n",
        "  for num_epochs in [100, 200, 300, 400]:\n",
        "    for num_layers in [2, 3, 4, 5]:\n",
        "      for hidden_dim in [25, 50, 75, 100]:\n",
        "        model, cr, optimizer = build_lstm_model(input_dim, hidden_dim, num_layers, output_dim, num_epochs,dropout_rate)\n",
        "        y_train_pred, y_test_pred = train_model(model, cr, optimizer, x_train_torch, y_train_torch, x_test_torch, y_test_torch, num_epochs)\n",
        "        train_score = get_RMSE(y_train_torch, y_train_pred, type='Train')\n",
        "        # test_score = get_test_rmse(x_test_torch, y_test_torch, model, ws, test_size)\n",
        "        test_score = get_RMSE(y_test_torch, y_test_pred, type='Test')\n",
        "        print(\", Number of layers: \", num_layers, \", Hidden dimensions: \", hidden_dim, \", Number of Epochs:\", num_epochs)\n",
        "        summary.append({\n",
        "            'Number of layers': num_layers,\n",
        "            'Hidden dimensions': hidden_dim,\n",
        "            'Number of Epochs': num_epochs,\n",
        "            'Train RMSE': train_score,\n",
        "            'Test RMSE': test_score\n",
        "        })\n",
        "\n",
        "        if test_score < testscore or testscore == 0 :\n",
        "          testscore = test_score\n",
        "          nl = num_layers\n",
        "          hd = hidden_dim\n",
        "          epochs = num_epochs\n",
        "  print(\"Optimum Number of layers:\", nl, \"Optimum Hidden dimensions:\", hd, \"Optimum Number of Epochs:\",epochs,\"Test RMSE:\", testscore)\n",
        "  return nl, hd, epochs, summary"
      ],
      "metadata": {
        "id": "UHTxP8QT25m5"
      },
      "execution_count": null,
      "outputs": []
    },
    {
      "cell_type": "code",
      "source": [
        "nl, hd, epochs, summary = model_tuning(x_train_torch, y_train_torch, x_test_torch, y_test_torch, input_dim, output_dim)"
      ],
      "metadata": {
        "id": "cjr2I5lAUYox",
        "outputId": "43ef2142-7d51-410e-bc41-2a50727171f0",
        "colab": {
          "base_uri": "https://localhost:8080/"
        }
      },
      "execution_count": null,
      "outputs": [
        {
          "output_type": "stream",
          "name": "stdout",
          "text": [
            "Train RMSE:  0.04205332923510241\n",
            "Test RMSE:  0.05759641305145134\n",
            ", Number of layers:  2 , Hidden dimensions:  25 , Number of Epochs: 100\n",
            "Train RMSE:  0.0438879340482717\n",
            "Test RMSE:  0.058901935955072655\n",
            ", Number of layers:  2 , Hidden dimensions:  50 , Number of Epochs: 100\n",
            "Train RMSE:  0.04563688517357873\n",
            "Test RMSE:  0.06091501810071137\n",
            ", Number of layers:  2 , Hidden dimensions:  75 , Number of Epochs: 100\n",
            "Train RMSE:  0.04201628442718852\n",
            "Test RMSE:  0.06297363066512444\n",
            ", Number of layers:  2 , Hidden dimensions:  100 , Number of Epochs: 100\n",
            "Train RMSE:  0.04055392444984389\n",
            "Test RMSE:  0.057980792338380605\n",
            ", Number of layers:  3 , Hidden dimensions:  25 , Number of Epochs: 100\n",
            "Train RMSE:  0.03859629029772812\n",
            "Test RMSE:  0.0546827101312817\n",
            ", Number of layers:  3 , Hidden dimensions:  50 , Number of Epochs: 100\n",
            "Train RMSE:  0.05164206581082341\n",
            "Test RMSE:  0.07735600494821518\n",
            ", Number of layers:  3 , Hidden dimensions:  75 , Number of Epochs: 100\n",
            "Train RMSE:  0.03516251951846253\n",
            "Test RMSE:  0.050452601684527434\n",
            ", Number of layers:  3 , Hidden dimensions:  100 , Number of Epochs: 100\n",
            "Train RMSE:  0.04318529665050964\n",
            "Test RMSE:  0.06071490958607279\n",
            ", Number of layers:  4 , Hidden dimensions:  25 , Number of Epochs: 100\n",
            "Train RMSE:  0.042636435667680536\n",
            "Test RMSE:  0.06193784007466029\n",
            ", Number of layers:  4 , Hidden dimensions:  50 , Number of Epochs: 100\n",
            "Train RMSE:  0.03828599697235378\n",
            "Test RMSE:  0.054519098141841194\n",
            ", Number of layers:  4 , Hidden dimensions:  75 , Number of Epochs: 100\n",
            "Train RMSE:  0.21695707605354297\n",
            "Test RMSE:  0.32423129689401414\n",
            ", Number of layers:  4 , Hidden dimensions:  100 , Number of Epochs: 100\n",
            "Train RMSE:  0.05144927216340915\n",
            "Test RMSE:  0.06911490697516638\n",
            ", Number of layers:  5 , Hidden dimensions:  25 , Number of Epochs: 100\n",
            "Train RMSE:  0.04210510154370769\n",
            "Test RMSE:  0.05593995895721769\n",
            ", Number of layers:  5 , Hidden dimensions:  50 , Number of Epochs: 100\n",
            "Train RMSE:  0.051271166094191356\n",
            "Test RMSE:  0.07097402948636898\n",
            ", Number of layers:  5 , Hidden dimensions:  75 , Number of Epochs: 100\n",
            "Train RMSE:  0.21695233690711443\n",
            "Test RMSE:  0.32581214712531065\n",
            ", Number of layers:  5 , Hidden dimensions:  100 , Number of Epochs: 100\n",
            "Train RMSE:  0.03423367902145347\n",
            "Test RMSE:  0.049484758730316866\n",
            ", Number of layers:  2 , Hidden dimensions:  25 , Number of Epochs: 200\n",
            "Train RMSE:  0.0366894529016214\n",
            "Test RMSE:  0.051389848221614395\n",
            ", Number of layers:  2 , Hidden dimensions:  50 , Number of Epochs: 200\n",
            "Train RMSE:  0.0370173835571156\n",
            "Test RMSE:  0.05191426428173682\n",
            ", Number of layers:  2 , Hidden dimensions:  75 , Number of Epochs: 200\n",
            "Train RMSE:  0.03531674335311677\n",
            "Test RMSE:  0.05107664199171632\n",
            ", Number of layers:  2 , Hidden dimensions:  100 , Number of Epochs: 200\n",
            "Train RMSE:  0.038428947473206986\n",
            "Test RMSE:  0.04731385857569735\n",
            ", Number of layers:  3 , Hidden dimensions:  25 , Number of Epochs: 200\n",
            "Train RMSE:  0.03141301448172439\n",
            "Test RMSE:  0.04259149523016107\n",
            ", Number of layers:  3 , Hidden dimensions:  50 , Number of Epochs: 200\n",
            "Train RMSE:  0.03568243108618539\n",
            "Test RMSE:  0.05131944996394538\n",
            ", Number of layers:  3 , Hidden dimensions:  75 , Number of Epochs: 200\n",
            "Train RMSE:  0.03043565626393418\n",
            "Test RMSE:  0.04338385281963311\n",
            ", Number of layers:  3 , Hidden dimensions:  100 , Number of Epochs: 200\n",
            "Train RMSE:  0.03172567740849403\n",
            "Test RMSE:  0.04583609943595358\n",
            ", Number of layers:  4 , Hidden dimensions:  25 , Number of Epochs: 200\n",
            "Train RMSE:  0.0302968309754671\n",
            "Test RMSE:  0.04244465935506659\n",
            ", Number of layers:  4 , Hidden dimensions:  50 , Number of Epochs: 200\n",
            "Train RMSE:  0.0320268169975768\n",
            "Test RMSE:  0.045300127366795596\n",
            ", Number of layers:  4 , Hidden dimensions:  75 , Number of Epochs: 200\n",
            "Train RMSE:  0.22011985337167064\n",
            "Test RMSE:  0.36182857601069957\n",
            ", Number of layers:  4 , Hidden dimensions:  100 , Number of Epochs: 200\n",
            "Train RMSE:  0.034170764371412664\n",
            "Test RMSE:  0.0494830766291614\n",
            ", Number of layers:  5 , Hidden dimensions:  25 , Number of Epochs: 200\n",
            "Train RMSE:  0.03085967392716307\n",
            "Test RMSE:  0.04324037814511647\n",
            ", Number of layers:  5 , Hidden dimensions:  50 , Number of Epochs: 200\n",
            "Train RMSE:  0.04110906096791224\n",
            "Test RMSE:  0.05146744312547861\n",
            ", Number of layers:  5 , Hidden dimensions:  75 , Number of Epochs: 200\n",
            "Train RMSE:  0.21709395150345093\n",
            "Test RMSE:  0.32955533447448093\n",
            ", Number of layers:  5 , Hidden dimensions:  100 , Number of Epochs: 200\n",
            "Train RMSE:  0.030021841976914064\n",
            "Test RMSE:  0.04309625429250055\n",
            ", Number of layers:  2 , Hidden dimensions:  25 , Number of Epochs: 300\n",
            "Train RMSE:  0.032804135976580835\n",
            "Test RMSE:  0.04764491585497067\n",
            ", Number of layers:  2 , Hidden dimensions:  50 , Number of Epochs: 300\n",
            "Train RMSE:  0.03244699961025636\n",
            "Test RMSE:  0.047563155697640115\n",
            ", Number of layers:  2 , Hidden dimensions:  75 , Number of Epochs: 300\n",
            "Train RMSE:  0.03290076234923985\n",
            "Test RMSE:  0.047937449916374525\n",
            ", Number of layers:  2 , Hidden dimensions:  100 , Number of Epochs: 300\n",
            "Train RMSE:  0.02964692107036757\n",
            "Test RMSE:  0.04262517939588196\n",
            ", Number of layers:  3 , Hidden dimensions:  25 , Number of Epochs: 300\n",
            "Train RMSE:  0.028785323386406596\n",
            "Test RMSE:  0.042416824974151154\n",
            ", Number of layers:  3 , Hidden dimensions:  50 , Number of Epochs: 300\n",
            "Train RMSE:  0.029446731203506004\n",
            "Test RMSE:  0.04278822114290361\n",
            ", Number of layers:  3 , Hidden dimensions:  75 , Number of Epochs: 300\n",
            "Train RMSE:  0.029603897115800467\n",
            "Test RMSE:  0.04244106619330451\n",
            ", Number of layers:  3 , Hidden dimensions:  100 , Number of Epochs: 300\n",
            "Train RMSE:  0.029431457154045586\n",
            "Test RMSE:  0.04210245271061195\n",
            ", Number of layers:  4 , Hidden dimensions:  25 , Number of Epochs: 300\n",
            "Train RMSE:  0.02897005076012394\n",
            "Test RMSE:  0.04265675742682444\n",
            ", Number of layers:  4 , Hidden dimensions:  50 , Number of Epochs: 300\n",
            "Train RMSE:  0.029367200567098472\n",
            "Test RMSE:  0.04201964794554805\n",
            ", Number of layers:  4 , Hidden dimensions:  75 , Number of Epochs: 300\n",
            "Train RMSE:  0.053582808080338266\n",
            "Test RMSE:  0.0878170871384972\n",
            ", Number of layers:  4 , Hidden dimensions:  100 , Number of Epochs: 300\n",
            "Train RMSE:  0.029437272113160436\n",
            "Test RMSE:  0.04297190351184961\n",
            ", Number of layers:  5 , Hidden dimensions:  25 , Number of Epochs: 300\n",
            "Train RMSE:  0.03200560195662434\n",
            "Test RMSE:  0.06610458942340863\n",
            ", Number of layers:  5 , Hidden dimensions:  50 , Number of Epochs: 300\n",
            "Train RMSE:  0.029007664350310606\n",
            "Test RMSE:  0.042110825827257545\n",
            ", Number of layers:  5 , Hidden dimensions:  75 , Number of Epochs: 300\n",
            "Train RMSE:  0.19039055837975213\n",
            "Test RMSE:  0.2685765899049751\n",
            ", Number of layers:  5 , Hidden dimensions:  100 , Number of Epochs: 300\n",
            "Train RMSE:  0.029255878056034374\n",
            "Test RMSE:  0.042099697249658626\n",
            ", Number of layers:  2 , Hidden dimensions:  25 , Number of Epochs: 400\n",
            "Train RMSE:  0.030656946474246192\n",
            "Test RMSE:  0.045018708517372434\n",
            ", Number of layers:  2 , Hidden dimensions:  50 , Number of Epochs: 400\n",
            "Train RMSE:  0.030287011817963935\n",
            "Test RMSE:  0.04367404367448213\n",
            ", Number of layers:  2 , Hidden dimensions:  75 , Number of Epochs: 400\n",
            "Train RMSE:  0.03085246212404261\n",
            "Test RMSE:  0.04468839549454521\n",
            ", Number of layers:  2 , Hidden dimensions:  100 , Number of Epochs: 400\n",
            "Train RMSE:  0.029120588403765\n",
            "Test RMSE:  0.042151152993511666\n",
            ", Number of layers:  3 , Hidden dimensions:  25 , Number of Epochs: 400\n",
            "Train RMSE:  0.028717709897366318\n",
            "Test RMSE:  0.04257025492841553\n",
            ", Number of layers:  3 , Hidden dimensions:  50 , Number of Epochs: 400\n",
            "Train RMSE:  0.028806800503603618\n",
            "Test RMSE:  0.04240101887975823\n",
            ", Number of layers:  3 , Hidden dimensions:  75 , Number of Epochs: 400\n",
            "Train RMSE:  0.029533564597330045\n",
            "Test RMSE:  0.04247331284947227\n",
            ", Number of layers:  3 , Hidden dimensions:  100 , Number of Epochs: 400\n",
            "Train RMSE:  0.029011569993439117\n",
            "Test RMSE:  0.04221230578971622\n",
            ", Number of layers:  4 , Hidden dimensions:  25 , Number of Epochs: 400\n",
            "Train RMSE:  0.02871253275169826\n",
            "Test RMSE:  0.04272464479717421\n",
            ", Number of layers:  4 , Hidden dimensions:  50 , Number of Epochs: 400\n",
            "Train RMSE:  0.0288112414889014\n",
            "Test RMSE:  0.04240188510089719\n",
            ", Number of layers:  4 , Hidden dimensions:  75 , Number of Epochs: 400\n",
            "Train RMSE:  0.03070788649742655\n",
            "Test RMSE:  0.04564732738070794\n",
            ", Number of layers:  4 , Hidden dimensions:  100 , Number of Epochs: 400\n",
            "Train RMSE:  0.02909740651940569\n",
            "Test RMSE:  0.04412962356545598\n",
            ", Number of layers:  5 , Hidden dimensions:  25 , Number of Epochs: 400\n",
            "Train RMSE:  0.02895370905535909\n",
            "Test RMSE:  0.04238249316073236\n",
            ", Number of layers:  5 , Hidden dimensions:  50 , Number of Epochs: 400\n",
            "Train RMSE:  0.02867222693484564\n",
            "Test RMSE:  0.04237750746447098\n",
            ", Number of layers:  5 , Hidden dimensions:  75 , Number of Epochs: 400\n",
            "Train RMSE:  0.2169688891273436\n",
            "Test RMSE:  0.32388876012533657\n",
            ", Number of layers:  5 , Hidden dimensions:  100 , Number of Epochs: 400\n",
            "Optimum Number of layers: 4 Optimum Hidden dimensions: 75 Optimum Number of Epochs: 300 Test RMSE: 0.04201964794554805\n"
          ]
        }
      ]
    },
    {
      "cell_type": "code",
      "source": [
        "summary_df = pd.DataFrame(summary)\n",
        "summary_df"
      ],
      "metadata": {
        "id": "KeXNdqYoWZmA",
        "outputId": "65b0b6fe-35ea-4bf5-b3e6-534e564a1bff",
        "colab": {
          "base_uri": "https://localhost:8080/",
          "height": 424
        }
      },
      "execution_count": null,
      "outputs": [
        {
          "output_type": "execute_result",
          "data": {
            "text/plain": [
              "    Number of layers  Hidden dimensions  Number of Epochs  Train RMSE  \\\n",
              "0                  2                 25               100    0.042053   \n",
              "1                  2                 50               100    0.043888   \n",
              "2                  2                 75               100    0.045637   \n",
              "3                  2                100               100    0.042016   \n",
              "4                  3                 25               100    0.040554   \n",
              "..               ...                ...               ...         ...   \n",
              "59                 4                100               400    0.030708   \n",
              "60                 5                 25               400    0.029097   \n",
              "61                 5                 50               400    0.028954   \n",
              "62                 5                 75               400    0.028672   \n",
              "63                 5                100               400    0.216969   \n",
              "\n",
              "    Test RMSE  \n",
              "0    0.057596  \n",
              "1    0.058902  \n",
              "2    0.060915  \n",
              "3    0.062974  \n",
              "4    0.057981  \n",
              "..        ...  \n",
              "59   0.045647  \n",
              "60   0.044130  \n",
              "61   0.042382  \n",
              "62   0.042378  \n",
              "63   0.323889  \n",
              "\n",
              "[64 rows x 5 columns]"
            ],
            "text/html": [
              "\n",
              "  <div id=\"df-d57417e8-6761-4115-9514-4143f375c7a5\" class=\"colab-df-container\">\n",
              "    <div>\n",
              "<style scoped>\n",
              "    .dataframe tbody tr th:only-of-type {\n",
              "        vertical-align: middle;\n",
              "    }\n",
              "\n",
              "    .dataframe tbody tr th {\n",
              "        vertical-align: top;\n",
              "    }\n",
              "\n",
              "    .dataframe thead th {\n",
              "        text-align: right;\n",
              "    }\n",
              "</style>\n",
              "<table border=\"1\" class=\"dataframe\">\n",
              "  <thead>\n",
              "    <tr style=\"text-align: right;\">\n",
              "      <th></th>\n",
              "      <th>Number of layers</th>\n",
              "      <th>Hidden dimensions</th>\n",
              "      <th>Number of Epochs</th>\n",
              "      <th>Train RMSE</th>\n",
              "      <th>Test RMSE</th>\n",
              "    </tr>\n",
              "  </thead>\n",
              "  <tbody>\n",
              "    <tr>\n",
              "      <th>0</th>\n",
              "      <td>2</td>\n",
              "      <td>25</td>\n",
              "      <td>100</td>\n",
              "      <td>0.042053</td>\n",
              "      <td>0.057596</td>\n",
              "    </tr>\n",
              "    <tr>\n",
              "      <th>1</th>\n",
              "      <td>2</td>\n",
              "      <td>50</td>\n",
              "      <td>100</td>\n",
              "      <td>0.043888</td>\n",
              "      <td>0.058902</td>\n",
              "    </tr>\n",
              "    <tr>\n",
              "      <th>2</th>\n",
              "      <td>2</td>\n",
              "      <td>75</td>\n",
              "      <td>100</td>\n",
              "      <td>0.045637</td>\n",
              "      <td>0.060915</td>\n",
              "    </tr>\n",
              "    <tr>\n",
              "      <th>3</th>\n",
              "      <td>2</td>\n",
              "      <td>100</td>\n",
              "      <td>100</td>\n",
              "      <td>0.042016</td>\n",
              "      <td>0.062974</td>\n",
              "    </tr>\n",
              "    <tr>\n",
              "      <th>4</th>\n",
              "      <td>3</td>\n",
              "      <td>25</td>\n",
              "      <td>100</td>\n",
              "      <td>0.040554</td>\n",
              "      <td>0.057981</td>\n",
              "    </tr>\n",
              "    <tr>\n",
              "      <th>...</th>\n",
              "      <td>...</td>\n",
              "      <td>...</td>\n",
              "      <td>...</td>\n",
              "      <td>...</td>\n",
              "      <td>...</td>\n",
              "    </tr>\n",
              "    <tr>\n",
              "      <th>59</th>\n",
              "      <td>4</td>\n",
              "      <td>100</td>\n",
              "      <td>400</td>\n",
              "      <td>0.030708</td>\n",
              "      <td>0.045647</td>\n",
              "    </tr>\n",
              "    <tr>\n",
              "      <th>60</th>\n",
              "      <td>5</td>\n",
              "      <td>25</td>\n",
              "      <td>400</td>\n",
              "      <td>0.029097</td>\n",
              "      <td>0.044130</td>\n",
              "    </tr>\n",
              "    <tr>\n",
              "      <th>61</th>\n",
              "      <td>5</td>\n",
              "      <td>50</td>\n",
              "      <td>400</td>\n",
              "      <td>0.028954</td>\n",
              "      <td>0.042382</td>\n",
              "    </tr>\n",
              "    <tr>\n",
              "      <th>62</th>\n",
              "      <td>5</td>\n",
              "      <td>75</td>\n",
              "      <td>400</td>\n",
              "      <td>0.028672</td>\n",
              "      <td>0.042378</td>\n",
              "    </tr>\n",
              "    <tr>\n",
              "      <th>63</th>\n",
              "      <td>5</td>\n",
              "      <td>100</td>\n",
              "      <td>400</td>\n",
              "      <td>0.216969</td>\n",
              "      <td>0.323889</td>\n",
              "    </tr>\n",
              "  </tbody>\n",
              "</table>\n",
              "<p>64 rows × 5 columns</p>\n",
              "</div>\n",
              "    <div class=\"colab-df-buttons\">\n",
              "\n",
              "  <div class=\"colab-df-container\">\n",
              "    <button class=\"colab-df-convert\" onclick=\"convertToInteractive('df-d57417e8-6761-4115-9514-4143f375c7a5')\"\n",
              "            title=\"Convert this dataframe to an interactive table.\"\n",
              "            style=\"display:none;\">\n",
              "\n",
              "  <svg xmlns=\"http://www.w3.org/2000/svg\" height=\"24px\" viewBox=\"0 -960 960 960\">\n",
              "    <path d=\"M120-120v-720h720v720H120Zm60-500h600v-160H180v160Zm220 220h160v-160H400v160Zm0 220h160v-160H400v160ZM180-400h160v-160H180v160Zm440 0h160v-160H620v160ZM180-180h160v-160H180v160Zm440 0h160v-160H620v160Z\"/>\n",
              "  </svg>\n",
              "    </button>\n",
              "\n",
              "  <style>\n",
              "    .colab-df-container {\n",
              "      display:flex;\n",
              "      gap: 12px;\n",
              "    }\n",
              "\n",
              "    .colab-df-convert {\n",
              "      background-color: #E8F0FE;\n",
              "      border: none;\n",
              "      border-radius: 50%;\n",
              "      cursor: pointer;\n",
              "      display: none;\n",
              "      fill: #1967D2;\n",
              "      height: 32px;\n",
              "      padding: 0 0 0 0;\n",
              "      width: 32px;\n",
              "    }\n",
              "\n",
              "    .colab-df-convert:hover {\n",
              "      background-color: #E2EBFA;\n",
              "      box-shadow: 0px 1px 2px rgba(60, 64, 67, 0.3), 0px 1px 3px 1px rgba(60, 64, 67, 0.15);\n",
              "      fill: #174EA6;\n",
              "    }\n",
              "\n",
              "    .colab-df-buttons div {\n",
              "      margin-bottom: 4px;\n",
              "    }\n",
              "\n",
              "    [theme=dark] .colab-df-convert {\n",
              "      background-color: #3B4455;\n",
              "      fill: #D2E3FC;\n",
              "    }\n",
              "\n",
              "    [theme=dark] .colab-df-convert:hover {\n",
              "      background-color: #434B5C;\n",
              "      box-shadow: 0px 1px 3px 1px rgba(0, 0, 0, 0.15);\n",
              "      filter: drop-shadow(0px 1px 2px rgba(0, 0, 0, 0.3));\n",
              "      fill: #FFFFFF;\n",
              "    }\n",
              "  </style>\n",
              "\n",
              "    <script>\n",
              "      const buttonEl =\n",
              "        document.querySelector('#df-d57417e8-6761-4115-9514-4143f375c7a5 button.colab-df-convert');\n",
              "      buttonEl.style.display =\n",
              "        google.colab.kernel.accessAllowed ? 'block' : 'none';\n",
              "\n",
              "      async function convertToInteractive(key) {\n",
              "        const element = document.querySelector('#df-d57417e8-6761-4115-9514-4143f375c7a5');\n",
              "        const dataTable =\n",
              "          await google.colab.kernel.invokeFunction('convertToInteractive',\n",
              "                                                    [key], {});\n",
              "        if (!dataTable) return;\n",
              "\n",
              "        const docLinkHtml = 'Like what you see? Visit the ' +\n",
              "          '<a target=\"_blank\" href=https://colab.research.google.com/notebooks/data_table.ipynb>data table notebook</a>'\n",
              "          + ' to learn more about interactive tables.';\n",
              "        element.innerHTML = '';\n",
              "        dataTable['output_type'] = 'display_data';\n",
              "        await google.colab.output.renderOutput(dataTable, element);\n",
              "        const docLink = document.createElement('div');\n",
              "        docLink.innerHTML = docLinkHtml;\n",
              "        element.appendChild(docLink);\n",
              "      }\n",
              "    </script>\n",
              "  </div>\n",
              "\n",
              "\n",
              "<div id=\"df-6b465f8c-ddc8-4880-9384-150f57c87907\">\n",
              "  <button class=\"colab-df-quickchart\" onclick=\"quickchart('df-6b465f8c-ddc8-4880-9384-150f57c87907')\"\n",
              "            title=\"Suggest charts\"\n",
              "            style=\"display:none;\">\n",
              "\n",
              "<svg xmlns=\"http://www.w3.org/2000/svg\" height=\"24px\"viewBox=\"0 0 24 24\"\n",
              "     width=\"24px\">\n",
              "    <g>\n",
              "        <path d=\"M19 3H5c-1.1 0-2 .9-2 2v14c0 1.1.9 2 2 2h14c1.1 0 2-.9 2-2V5c0-1.1-.9-2-2-2zM9 17H7v-7h2v7zm4 0h-2V7h2v10zm4 0h-2v-4h2v4z\"/>\n",
              "    </g>\n",
              "</svg>\n",
              "  </button>\n",
              "\n",
              "<style>\n",
              "  .colab-df-quickchart {\n",
              "      --bg-color: #E8F0FE;\n",
              "      --fill-color: #1967D2;\n",
              "      --hover-bg-color: #E2EBFA;\n",
              "      --hover-fill-color: #174EA6;\n",
              "      --disabled-fill-color: #AAA;\n",
              "      --disabled-bg-color: #DDD;\n",
              "  }\n",
              "\n",
              "  [theme=dark] .colab-df-quickchart {\n",
              "      --bg-color: #3B4455;\n",
              "      --fill-color: #D2E3FC;\n",
              "      --hover-bg-color: #434B5C;\n",
              "      --hover-fill-color: #FFFFFF;\n",
              "      --disabled-bg-color: #3B4455;\n",
              "      --disabled-fill-color: #666;\n",
              "  }\n",
              "\n",
              "  .colab-df-quickchart {\n",
              "    background-color: var(--bg-color);\n",
              "    border: none;\n",
              "    border-radius: 50%;\n",
              "    cursor: pointer;\n",
              "    display: none;\n",
              "    fill: var(--fill-color);\n",
              "    height: 32px;\n",
              "    padding: 0;\n",
              "    width: 32px;\n",
              "  }\n",
              "\n",
              "  .colab-df-quickchart:hover {\n",
              "    background-color: var(--hover-bg-color);\n",
              "    box-shadow: 0 1px 2px rgba(60, 64, 67, 0.3), 0 1px 3px 1px rgba(60, 64, 67, 0.15);\n",
              "    fill: var(--button-hover-fill-color);\n",
              "  }\n",
              "\n",
              "  .colab-df-quickchart-complete:disabled,\n",
              "  .colab-df-quickchart-complete:disabled:hover {\n",
              "    background-color: var(--disabled-bg-color);\n",
              "    fill: var(--disabled-fill-color);\n",
              "    box-shadow: none;\n",
              "  }\n",
              "\n",
              "  .colab-df-spinner {\n",
              "    border: 2px solid var(--fill-color);\n",
              "    border-color: transparent;\n",
              "    border-bottom-color: var(--fill-color);\n",
              "    animation:\n",
              "      spin 1s steps(1) infinite;\n",
              "  }\n",
              "\n",
              "  @keyframes spin {\n",
              "    0% {\n",
              "      border-color: transparent;\n",
              "      border-bottom-color: var(--fill-color);\n",
              "      border-left-color: var(--fill-color);\n",
              "    }\n",
              "    20% {\n",
              "      border-color: transparent;\n",
              "      border-left-color: var(--fill-color);\n",
              "      border-top-color: var(--fill-color);\n",
              "    }\n",
              "    30% {\n",
              "      border-color: transparent;\n",
              "      border-left-color: var(--fill-color);\n",
              "      border-top-color: var(--fill-color);\n",
              "      border-right-color: var(--fill-color);\n",
              "    }\n",
              "    40% {\n",
              "      border-color: transparent;\n",
              "      border-right-color: var(--fill-color);\n",
              "      border-top-color: var(--fill-color);\n",
              "    }\n",
              "    60% {\n",
              "      border-color: transparent;\n",
              "      border-right-color: var(--fill-color);\n",
              "    }\n",
              "    80% {\n",
              "      border-color: transparent;\n",
              "      border-right-color: var(--fill-color);\n",
              "      border-bottom-color: var(--fill-color);\n",
              "    }\n",
              "    90% {\n",
              "      border-color: transparent;\n",
              "      border-bottom-color: var(--fill-color);\n",
              "    }\n",
              "  }\n",
              "</style>\n",
              "\n",
              "  <script>\n",
              "    async function quickchart(key) {\n",
              "      const quickchartButtonEl =\n",
              "        document.querySelector('#' + key + ' button');\n",
              "      quickchartButtonEl.disabled = true;  // To prevent multiple clicks.\n",
              "      quickchartButtonEl.classList.add('colab-df-spinner');\n",
              "      try {\n",
              "        const charts = await google.colab.kernel.invokeFunction(\n",
              "            'suggestCharts', [key], {});\n",
              "      } catch (error) {\n",
              "        console.error('Error during call to suggestCharts:', error);\n",
              "      }\n",
              "      quickchartButtonEl.classList.remove('colab-df-spinner');\n",
              "      quickchartButtonEl.classList.add('colab-df-quickchart-complete');\n",
              "    }\n",
              "    (() => {\n",
              "      let quickchartButtonEl =\n",
              "        document.querySelector('#df-6b465f8c-ddc8-4880-9384-150f57c87907 button');\n",
              "      quickchartButtonEl.style.display =\n",
              "        google.colab.kernel.accessAllowed ? 'block' : 'none';\n",
              "    })();\n",
              "  </script>\n",
              "</div>\n",
              "\n",
              "  <div id=\"id_44a36e9e-decf-46e1-8d6a-09042b73ea77\">\n",
              "    <style>\n",
              "      .colab-df-generate {\n",
              "        background-color: #E8F0FE;\n",
              "        border: none;\n",
              "        border-radius: 50%;\n",
              "        cursor: pointer;\n",
              "        display: none;\n",
              "        fill: #1967D2;\n",
              "        height: 32px;\n",
              "        padding: 0 0 0 0;\n",
              "        width: 32px;\n",
              "      }\n",
              "\n",
              "      .colab-df-generate:hover {\n",
              "        background-color: #E2EBFA;\n",
              "        box-shadow: 0px 1px 2px rgba(60, 64, 67, 0.3), 0px 1px 3px 1px rgba(60, 64, 67, 0.15);\n",
              "        fill: #174EA6;\n",
              "      }\n",
              "\n",
              "      [theme=dark] .colab-df-generate {\n",
              "        background-color: #3B4455;\n",
              "        fill: #D2E3FC;\n",
              "      }\n",
              "\n",
              "      [theme=dark] .colab-df-generate:hover {\n",
              "        background-color: #434B5C;\n",
              "        box-shadow: 0px 1px 3px 1px rgba(0, 0, 0, 0.15);\n",
              "        filter: drop-shadow(0px 1px 2px rgba(0, 0, 0, 0.3));\n",
              "        fill: #FFFFFF;\n",
              "      }\n",
              "    </style>\n",
              "    <button class=\"colab-df-generate\" onclick=\"generateWithVariable('summary_df')\"\n",
              "            title=\"Generate code using this dataframe.\"\n",
              "            style=\"display:none;\">\n",
              "\n",
              "  <svg xmlns=\"http://www.w3.org/2000/svg\" height=\"24px\"viewBox=\"0 0 24 24\"\n",
              "       width=\"24px\">\n",
              "    <path d=\"M7,19H8.4L18.45,9,17,7.55,7,17.6ZM5,21V16.75L18.45,3.32a2,2,0,0,1,2.83,0l1.4,1.43a1.91,1.91,0,0,1,.58,1.4,1.91,1.91,0,0,1-.58,1.4L9.25,21ZM18.45,9,17,7.55Zm-12,3A5.31,5.31,0,0,0,4.9,8.1,5.31,5.31,0,0,0,1,6.5,5.31,5.31,0,0,0,4.9,4.9,5.31,5.31,0,0,0,6.5,1,5.31,5.31,0,0,0,8.1,4.9,5.31,5.31,0,0,0,12,6.5,5.46,5.46,0,0,0,6.5,12Z\"/>\n",
              "  </svg>\n",
              "    </button>\n",
              "    <script>\n",
              "      (() => {\n",
              "      const buttonEl =\n",
              "        document.querySelector('#id_44a36e9e-decf-46e1-8d6a-09042b73ea77 button.colab-df-generate');\n",
              "      buttonEl.style.display =\n",
              "        google.colab.kernel.accessAllowed ? 'block' : 'none';\n",
              "\n",
              "      buttonEl.onclick = () => {\n",
              "        google.colab.notebook.generateWithVariable('summary_df');\n",
              "      }\n",
              "      })();\n",
              "    </script>\n",
              "  </div>\n",
              "\n",
              "    </div>\n",
              "  </div>\n"
            ],
            "application/vnd.google.colaboratory.intrinsic+json": {
              "type": "dataframe",
              "variable_name": "summary_df",
              "summary": "{\n  \"name\": \"summary_df\",\n  \"rows\": 64,\n  \"fields\": [\n    {\n      \"column\": \"Number of layers\",\n      \"properties\": {\n        \"dtype\": \"number\",\n        \"std\": 1,\n        \"min\": 2,\n        \"max\": 5,\n        \"num_unique_values\": 4,\n        \"samples\": [\n          3,\n          5,\n          2\n        ],\n        \"semantic_type\": \"\",\n        \"description\": \"\"\n      }\n    },\n    {\n      \"column\": \"Hidden dimensions\",\n      \"properties\": {\n        \"dtype\": \"number\",\n        \"std\": 28,\n        \"min\": 25,\n        \"max\": 100,\n        \"num_unique_values\": 4,\n        \"samples\": [\n          50,\n          100,\n          25\n        ],\n        \"semantic_type\": \"\",\n        \"description\": \"\"\n      }\n    },\n    {\n      \"column\": \"Number of Epochs\",\n      \"properties\": {\n        \"dtype\": \"number\",\n        \"std\": 112,\n        \"min\": 100,\n        \"max\": 400,\n        \"num_unique_values\": 4,\n        \"samples\": [\n          200,\n          400,\n          100\n        ],\n        \"semantic_type\": \"\",\n        \"description\": \"\"\n      }\n    },\n    {\n      \"column\": \"Train RMSE\",\n      \"properties\": {\n        \"dtype\": \"number\",\n        \"std\": 0.05292807043295357,\n        \"min\": 0.02867222693484564,\n        \"max\": 0.22011985337167064,\n        \"num_unique_values\": 64,\n        \"samples\": [\n          0.029120588403765,\n          0.0288112414889014,\n          0.04205332923510241\n        ],\n        \"semantic_type\": \"\",\n        \"description\": \"\"\n      }\n    },\n    {\n      \"column\": \"Test RMSE\",\n      \"properties\": {\n        \"dtype\": \"number\",\n        \"std\": 0.08105479465384194,\n        \"min\": 0.04201964794554805,\n        \"max\": 0.36182857601069957,\n        \"num_unique_values\": 64,\n        \"samples\": [\n          0.042151152993511666,\n          0.04240188510089719,\n          0.05759641305145134\n        ],\n        \"semantic_type\": \"\",\n        \"description\": \"\"\n      }\n    }\n  ]\n}"
            }
          },
          "metadata": {},
          "execution_count": 34
        }
      ]
    },
    {
      "cell_type": "code",
      "source": [
        "train_min_idx = summary_df['Train RMSE'].idxmin()\n",
        "test_min_idx = summary_df['Test RMSE'].idxmin()\n",
        "\n",
        "train_min_row = summary_df.loc[train_min_idx]\n",
        "test_min_row = summary_df.loc[test_min_idx]\n",
        "\n",
        "# Display the results\n",
        "print(\"Row with the smallest Train Score: \", train_min_row)\n",
        "#print(train_min_row)\n",
        "print(\"\\nRow with the smallest Test Score: \", test_min_row)"
      ],
      "metadata": {
        "id": "S7QFS6lnk81d",
        "outputId": "c70ba0fb-610f-405c-d073-7eff0ff52cbe",
        "colab": {
          "base_uri": "https://localhost:8080/"
        }
      },
      "execution_count": null,
      "outputs": [
        {
          "output_type": "stream",
          "name": "stdout",
          "text": [
            "Row with the smallest Train Score:  Number of layers       5.000000\n",
            "Hidden dimensions     75.000000\n",
            "Number of Epochs     400.000000\n",
            "Train RMSE             0.028672\n",
            "Test RMSE              0.042378\n",
            "Name: 62, dtype: float64\n",
            "\n",
            "Row with the smallest Test Score:  Number of layers       4.000000\n",
            "Hidden dimensions     75.000000\n",
            "Number of Epochs     300.000000\n",
            "Train RMSE             0.029367\n",
            "Test RMSE              0.042020\n",
            "Name: 42, dtype: float64\n"
          ]
        }
      ]
    },
    {
      "cell_type": "code",
      "source": [
        "#from the above result, choose below parameters as the best\n",
        "input_dim = 1\n",
        "hidden_dim = 75\n",
        "num_layers = 4\n",
        "output_dim = 1\n",
        "num_epochs = 400\n",
        "dropout_rate = 0.3\n",
        "model, cr, optimizer = build_lstm_model(input_dim, hidden_dim, num_layers, output_dim, num_epochs, dropout_rate)\n",
        "y_train_pred, y_test_pred = train_model(model, cr, optimizer, x_train_torch, y_train_torch, x_test_torch, y_test_torch, num_epochs)\n"
      ],
      "metadata": {
        "id": "-CqHabQjGpY-"
      },
      "execution_count": null,
      "outputs": []
    },
    {
      "cell_type": "code",
      "source": [
        "y_train.shape, y_train_pred.shape"
      ],
      "metadata": {
        "id": "Qjy2MfEiXcEF",
        "outputId": "874d5edf-41f1-4d14-eb15-beb904aa2e07",
        "colab": {
          "base_uri": "https://localhost:8080/"
        }
      },
      "execution_count": null,
      "outputs": [
        {
          "output_type": "execute_result",
          "data": {
            "text/plain": [
              "((431, 1), torch.Size([431, 1]))"
            ]
          },
          "metadata": {},
          "execution_count": 37
        }
      ]
    },
    {
      "cell_type": "code",
      "source": [
        "#reverse normalization\n",
        "y_train = scaler.inverse_transform(y_train)\n",
        "y_train_pred = scaler.inverse_transform(y_train_pred.cpu().detach().numpy())\n",
        "y_test = scaler.inverse_transform(y_test)\n",
        "y_test_pred = scaler.inverse_transform(y_test_pred.cpu().detach().numpy())"
      ],
      "metadata": {
        "id": "En3ZnW5roKo_"
      },
      "execution_count": null,
      "outputs": []
    },
    {
      "cell_type": "code",
      "source": [
        "y_test_pred[1]"
      ],
      "metadata": {
        "id": "EU1M9k2Mo2d5",
        "outputId": "d224cd53-543d-4dd4-991c-d61705e0e395",
        "colab": {
          "base_uri": "https://localhost:8080/"
        }
      },
      "execution_count": null,
      "outputs": [
        {
          "output_type": "execute_result",
          "data": {
            "text/plain": [
              "array([479.1868], dtype=float32)"
            ]
          },
          "metadata": {},
          "execution_count": 39
        }
      ]
    },
    {
      "cell_type": "code",
      "source": [
        "#original_train = pd.DataFrame(y_train)\n",
        "#predict_test = pd.DataFrame(y_test_pred)\n",
        "#original_test = pd.DataFrame(y_test)\n"
      ],
      "metadata": {
        "id": "fB7FdWSTGNwn"
      },
      "execution_count": null,
      "outputs": []
    },
    {
      "cell_type": "code",
      "source": [
        "train_size = len(original_train)\n",
        "\n",
        "# Get the date ranges\n",
        "train_dates = df['date_col'][:train_size]\n",
        "test_dates = df['date_col'][train_size:]\n",
        "\n",
        "# Create DataFrames for plotting\n",
        "train_df = pd.DataFrame({'date': train_dates, 'value': original_train})\n",
        "test_df = pd.DataFrame({'date': test_dates, 'value': original_test})\n",
        "predict_df = pd.DataFrame({'date': test_dates, 'value': predict_test})\n",
        "\n",
        "# Plot\n",
        "plt.figure(figsize=(12, 6))\n",
        "plt.plot(train_df['date'], train_df['value'], label='Original Train')\n",
        "plt.plot(test_df['date'], test_df['value'], label='Original Test')\n",
        "plt.plot(predict_df['date'], predict_df['value'], label='Predicted Test', linestyle='--')\n",
        "\n",
        "plt.xlabel('Date')\n",
        "plt.ylabel('Value')\n",
        "plt.title('Time Series Train-Test-Prediction Plot')\n",
        "plt.legend()\n",
        "plt.grid(True)\n",
        "plt.show()"
      ],
      "metadata": {
        "id": "5lB9wWUUgJdh"
      },
      "execution_count": null,
      "outputs": []
    },
    {
      "cell_type": "code",
      "execution_count": null,
      "metadata": {
        "id": "L-bDYqauVFT1",
        "colab": {
          "base_uri": "https://localhost:8080/",
          "height": 374
        },
        "outputId": "45277b94-b45f-4d29-fa9a-bf30e52028fa"
      },
      "outputs": [
        {
          "output_type": "error",
          "ename": "ValueError",
          "evalue": "array length 431 does not match index length 1",
          "traceback": [
            "\u001b[0;31m---------------------------------------------------------------------------\u001b[0m",
            "\u001b[0;31mValueError\u001b[0m                                Traceback (most recent call last)",
            "\u001b[0;32m<ipython-input-46-959a2a4b97ac>\u001b[0m in \u001b[0;36m<cell line: 8>\u001b[0;34m()\u001b[0m\n\u001b[1;32m      6\u001b[0m \u001b[0;34m\u001b[0m\u001b[0m\n\u001b[1;32m      7\u001b[0m \u001b[0;34m\u001b[0m\u001b[0m\n\u001b[0;32m----> 8\u001b[0;31m \u001b[0max\u001b[0m \u001b[0;34m=\u001b[0m \u001b[0msns\u001b[0m\u001b[0;34m.\u001b[0m\u001b[0mlineplot\u001b[0m\u001b[0;34m(\u001b[0m\u001b[0mx\u001b[0m \u001b[0;34m=\u001b[0m \u001b[0moriginal_train\u001b[0m\u001b[0;34m.\u001b[0m\u001b[0mindex\u001b[0m\u001b[0;34m,\u001b[0m \u001b[0my\u001b[0m \u001b[0;34m=\u001b[0m \u001b[0moriginal_train\u001b[0m\u001b[0;34m.\u001b[0m\u001b[0mloc\u001b[0m\u001b[0;34m[\u001b[0m\u001b[0;36m1\u001b[0m\u001b[0;34m]\u001b[0m\u001b[0;34m,\u001b[0m \u001b[0mlabel\u001b[0m\u001b[0;34m=\u001b[0m\u001b[0;34m\"Data\"\u001b[0m\u001b[0;34m,\u001b[0m \u001b[0mcolor\u001b[0m\u001b[0;34m=\u001b[0m\u001b[0;34m'blue'\u001b[0m\u001b[0;34m)\u001b[0m\u001b[0;34m\u001b[0m\u001b[0;34m\u001b[0m\u001b[0m\n\u001b[0m\u001b[1;32m      9\u001b[0m \u001b[0;31m#ax = sns.lineplot(x = predict_train.index, y = predict[0], label=\"LSTM\", color='red')\u001b[0m\u001b[0;34m\u001b[0m\u001b[0;34m\u001b[0m\u001b[0m\n\u001b[1;32m     10\u001b[0m \u001b[0max\u001b[0m \u001b[0;34m=\u001b[0m \u001b[0msns\u001b[0m\u001b[0;34m.\u001b[0m\u001b[0mlineplot\u001b[0m\u001b[0;34m(\u001b[0m\u001b[0mx\u001b[0m \u001b[0;34m=\u001b[0m \u001b[0moriginal_test\u001b[0m\u001b[0;34m.\u001b[0m\u001b[0mindex\u001b[0m\u001b[0;34m,\u001b[0m \u001b[0my\u001b[0m \u001b[0;34m=\u001b[0m \u001b[0moriginal_test\u001b[0m\u001b[0;34m.\u001b[0m\u001b[0mloc\u001b[0m\u001b[0;34m[\u001b[0m\u001b[0;36m1\u001b[0m\u001b[0;34m]\u001b[0m\u001b[0;34m,\u001b[0m \u001b[0mlabel\u001b[0m\u001b[0;34m=\u001b[0m\u001b[0;34m\"Data\"\u001b[0m\u001b[0;34m,\u001b[0m \u001b[0mcolor\u001b[0m\u001b[0;34m=\u001b[0m\u001b[0;34m'yellow'\u001b[0m\u001b[0;34m)\u001b[0m\u001b[0;34m\u001b[0m\u001b[0;34m\u001b[0m\u001b[0m\n",
            "\u001b[0;32m/usr/local/lib/python3.10/dist-packages/seaborn/relational.py\u001b[0m in \u001b[0;36mlineplot\u001b[0;34m(data, x, y, hue, size, style, units, weights, palette, hue_order, hue_norm, sizes, size_order, size_norm, dashes, markers, style_order, estimator, errorbar, n_boot, seed, orient, sort, err_style, err_kws, legend, ci, ax, **kwargs)\u001b[0m\n\u001b[1;32m    483\u001b[0m     \u001b[0merrorbar\u001b[0m \u001b[0;34m=\u001b[0m \u001b[0m_deprecate_ci\u001b[0m\u001b[0;34m(\u001b[0m\u001b[0merrorbar\u001b[0m\u001b[0;34m,\u001b[0m \u001b[0mci\u001b[0m\u001b[0;34m)\u001b[0m\u001b[0;34m\u001b[0m\u001b[0;34m\u001b[0m\u001b[0m\n\u001b[1;32m    484\u001b[0m \u001b[0;34m\u001b[0m\u001b[0m\n\u001b[0;32m--> 485\u001b[0;31m     p = _LinePlotter(\n\u001b[0m\u001b[1;32m    486\u001b[0m         \u001b[0mdata\u001b[0m\u001b[0;34m=\u001b[0m\u001b[0mdata\u001b[0m\u001b[0;34m,\u001b[0m\u001b[0;34m\u001b[0m\u001b[0;34m\u001b[0m\u001b[0m\n\u001b[1;32m    487\u001b[0m         variables=dict(\n",
            "\u001b[0;32m/usr/local/lib/python3.10/dist-packages/seaborn/relational.py\u001b[0m in \u001b[0;36m__init__\u001b[0;34m(self, data, variables, estimator, n_boot, seed, errorbar, sort, orient, err_style, err_kws, legend)\u001b[0m\n\u001b[1;32m    214\u001b[0m         )\n\u001b[1;32m    215\u001b[0m \u001b[0;34m\u001b[0m\u001b[0m\n\u001b[0;32m--> 216\u001b[0;31m         \u001b[0msuper\u001b[0m\u001b[0;34m(\u001b[0m\u001b[0;34m)\u001b[0m\u001b[0;34m.\u001b[0m\u001b[0m__init__\u001b[0m\u001b[0;34m(\u001b[0m\u001b[0mdata\u001b[0m\u001b[0;34m=\u001b[0m\u001b[0mdata\u001b[0m\u001b[0;34m,\u001b[0m \u001b[0mvariables\u001b[0m\u001b[0;34m=\u001b[0m\u001b[0mvariables\u001b[0m\u001b[0;34m)\u001b[0m\u001b[0;34m\u001b[0m\u001b[0;34m\u001b[0m\u001b[0m\n\u001b[0m\u001b[1;32m    217\u001b[0m \u001b[0;34m\u001b[0m\u001b[0m\n\u001b[1;32m    218\u001b[0m         \u001b[0mself\u001b[0m\u001b[0;34m.\u001b[0m\u001b[0mestimator\u001b[0m \u001b[0;34m=\u001b[0m \u001b[0mestimator\u001b[0m\u001b[0;34m\u001b[0m\u001b[0;34m\u001b[0m\u001b[0m\n",
            "\u001b[0;32m/usr/local/lib/python3.10/dist-packages/seaborn/_base.py\u001b[0m in \u001b[0;36m__init__\u001b[0;34m(self, data, variables)\u001b[0m\n\u001b[1;32m    632\u001b[0m         \u001b[0;31m# information for numeric axes would be information about log scales.\u001b[0m\u001b[0;34m\u001b[0m\u001b[0;34m\u001b[0m\u001b[0m\n\u001b[1;32m    633\u001b[0m         \u001b[0mself\u001b[0m\u001b[0;34m.\u001b[0m\u001b[0m_var_ordered\u001b[0m \u001b[0;34m=\u001b[0m \u001b[0;34m{\u001b[0m\u001b[0;34m\"x\"\u001b[0m\u001b[0;34m:\u001b[0m \u001b[0;32mFalse\u001b[0m\u001b[0;34m,\u001b[0m \u001b[0;34m\"y\"\u001b[0m\u001b[0;34m:\u001b[0m \u001b[0;32mFalse\u001b[0m\u001b[0;34m}\u001b[0m  \u001b[0;31m# alt., used DefaultDict\u001b[0m\u001b[0;34m\u001b[0m\u001b[0;34m\u001b[0m\u001b[0m\n\u001b[0;32m--> 634\u001b[0;31m         \u001b[0mself\u001b[0m\u001b[0;34m.\u001b[0m\u001b[0massign_variables\u001b[0m\u001b[0;34m(\u001b[0m\u001b[0mdata\u001b[0m\u001b[0;34m,\u001b[0m \u001b[0mvariables\u001b[0m\u001b[0;34m)\u001b[0m\u001b[0;34m\u001b[0m\u001b[0;34m\u001b[0m\u001b[0m\n\u001b[0m\u001b[1;32m    635\u001b[0m \u001b[0;34m\u001b[0m\u001b[0m\n\u001b[1;32m    636\u001b[0m         \u001b[0;31m# TODO Lots of tests assume that these are called to initialize the\u001b[0m\u001b[0;34m\u001b[0m\u001b[0;34m\u001b[0m\u001b[0m\n",
            "\u001b[0;32m/usr/local/lib/python3.10/dist-packages/seaborn/_base.py\u001b[0m in \u001b[0;36massign_variables\u001b[0;34m(self, data, variables)\u001b[0m\n\u001b[1;32m    677\u001b[0m             \u001b[0;31m# to centralize / standardize data consumption logic.\u001b[0m\u001b[0;34m\u001b[0m\u001b[0;34m\u001b[0m\u001b[0m\n\u001b[1;32m    678\u001b[0m             \u001b[0mself\u001b[0m\u001b[0;34m.\u001b[0m\u001b[0minput_format\u001b[0m \u001b[0;34m=\u001b[0m \u001b[0;34m\"long\"\u001b[0m\u001b[0;34m\u001b[0m\u001b[0;34m\u001b[0m\u001b[0m\n\u001b[0;32m--> 679\u001b[0;31m             \u001b[0mplot_data\u001b[0m \u001b[0;34m=\u001b[0m \u001b[0mPlotData\u001b[0m\u001b[0;34m(\u001b[0m\u001b[0mdata\u001b[0m\u001b[0;34m,\u001b[0m \u001b[0mvariables\u001b[0m\u001b[0;34m)\u001b[0m\u001b[0;34m\u001b[0m\u001b[0;34m\u001b[0m\u001b[0m\n\u001b[0m\u001b[1;32m    680\u001b[0m             \u001b[0mframe\u001b[0m \u001b[0;34m=\u001b[0m \u001b[0mplot_data\u001b[0m\u001b[0;34m.\u001b[0m\u001b[0mframe\u001b[0m\u001b[0;34m\u001b[0m\u001b[0;34m\u001b[0m\u001b[0m\n\u001b[1;32m    681\u001b[0m             \u001b[0mnames\u001b[0m \u001b[0;34m=\u001b[0m \u001b[0mplot_data\u001b[0m\u001b[0;34m.\u001b[0m\u001b[0mnames\u001b[0m\u001b[0;34m\u001b[0m\u001b[0;34m\u001b[0m\u001b[0m\n",
            "\u001b[0;32m/usr/local/lib/python3.10/dist-packages/seaborn/_core/data.py\u001b[0m in \u001b[0;36m__init__\u001b[0;34m(self, data, variables)\u001b[0m\n\u001b[1;32m     56\u001b[0m \u001b[0;34m\u001b[0m\u001b[0m\n\u001b[1;32m     57\u001b[0m         \u001b[0mdata\u001b[0m \u001b[0;34m=\u001b[0m \u001b[0mhandle_data_source\u001b[0m\u001b[0;34m(\u001b[0m\u001b[0mdata\u001b[0m\u001b[0;34m)\u001b[0m\u001b[0;34m\u001b[0m\u001b[0;34m\u001b[0m\u001b[0m\n\u001b[0;32m---> 58\u001b[0;31m         \u001b[0mframe\u001b[0m\u001b[0;34m,\u001b[0m \u001b[0mnames\u001b[0m\u001b[0;34m,\u001b[0m \u001b[0mids\u001b[0m \u001b[0;34m=\u001b[0m \u001b[0mself\u001b[0m\u001b[0;34m.\u001b[0m\u001b[0m_assign_variables\u001b[0m\u001b[0;34m(\u001b[0m\u001b[0mdata\u001b[0m\u001b[0;34m,\u001b[0m \u001b[0mvariables\u001b[0m\u001b[0;34m)\u001b[0m\u001b[0;34m\u001b[0m\u001b[0;34m\u001b[0m\u001b[0m\n\u001b[0m\u001b[1;32m     59\u001b[0m \u001b[0;34m\u001b[0m\u001b[0m\n\u001b[1;32m     60\u001b[0m         \u001b[0mself\u001b[0m\u001b[0;34m.\u001b[0m\u001b[0mframe\u001b[0m \u001b[0;34m=\u001b[0m \u001b[0mframe\u001b[0m\u001b[0;34m\u001b[0m\u001b[0;34m\u001b[0m\u001b[0m\n",
            "\u001b[0;32m/usr/local/lib/python3.10/dist-packages/seaborn/_core/data.py\u001b[0m in \u001b[0;36m_assign_variables\u001b[0;34m(self, data, variables)\u001b[0m\n\u001b[1;32m    263\u001b[0m         \u001b[0;31m# types automatically, aligning on index in case of pandas objects\u001b[0m\u001b[0;34m\u001b[0m\u001b[0;34m\u001b[0m\u001b[0m\n\u001b[1;32m    264\u001b[0m         \u001b[0;31m# TODO Note: this fails when variable specs *only* have scalars!\u001b[0m\u001b[0;34m\u001b[0m\u001b[0;34m\u001b[0m\u001b[0m\n\u001b[0;32m--> 265\u001b[0;31m         \u001b[0mframe\u001b[0m \u001b[0;34m=\u001b[0m \u001b[0mpd\u001b[0m\u001b[0;34m.\u001b[0m\u001b[0mDataFrame\u001b[0m\u001b[0;34m(\u001b[0m\u001b[0mplot_data\u001b[0m\u001b[0;34m)\u001b[0m\u001b[0;34m\u001b[0m\u001b[0;34m\u001b[0m\u001b[0m\n\u001b[0m\u001b[1;32m    266\u001b[0m \u001b[0;34m\u001b[0m\u001b[0m\n\u001b[1;32m    267\u001b[0m         \u001b[0;32mreturn\u001b[0m \u001b[0mframe\u001b[0m\u001b[0;34m,\u001b[0m \u001b[0mnames\u001b[0m\u001b[0;34m,\u001b[0m \u001b[0mids\u001b[0m\u001b[0;34m\u001b[0m\u001b[0;34m\u001b[0m\u001b[0m\n",
            "\u001b[0;32m/usr/local/lib/python3.10/dist-packages/pandas/core/frame.py\u001b[0m in \u001b[0;36m__init__\u001b[0;34m(self, data, index, columns, dtype, copy)\u001b[0m\n\u001b[1;32m    776\u001b[0m         \u001b[0;32melif\u001b[0m \u001b[0misinstance\u001b[0m\u001b[0;34m(\u001b[0m\u001b[0mdata\u001b[0m\u001b[0;34m,\u001b[0m \u001b[0mdict\u001b[0m\u001b[0;34m)\u001b[0m\u001b[0;34m:\u001b[0m\u001b[0;34m\u001b[0m\u001b[0;34m\u001b[0m\u001b[0m\n\u001b[1;32m    777\u001b[0m             \u001b[0;31m# GH#38939 de facto copy defaults to False only in non-dict cases\u001b[0m\u001b[0;34m\u001b[0m\u001b[0;34m\u001b[0m\u001b[0m\n\u001b[0;32m--> 778\u001b[0;31m             \u001b[0mmgr\u001b[0m \u001b[0;34m=\u001b[0m \u001b[0mdict_to_mgr\u001b[0m\u001b[0;34m(\u001b[0m\u001b[0mdata\u001b[0m\u001b[0;34m,\u001b[0m \u001b[0mindex\u001b[0m\u001b[0;34m,\u001b[0m \u001b[0mcolumns\u001b[0m\u001b[0;34m,\u001b[0m \u001b[0mdtype\u001b[0m\u001b[0;34m=\u001b[0m\u001b[0mdtype\u001b[0m\u001b[0;34m,\u001b[0m \u001b[0mcopy\u001b[0m\u001b[0;34m=\u001b[0m\u001b[0mcopy\u001b[0m\u001b[0;34m,\u001b[0m \u001b[0mtyp\u001b[0m\u001b[0;34m=\u001b[0m\u001b[0mmanager\u001b[0m\u001b[0;34m)\u001b[0m\u001b[0;34m\u001b[0m\u001b[0;34m\u001b[0m\u001b[0m\n\u001b[0m\u001b[1;32m    779\u001b[0m         \u001b[0;32melif\u001b[0m \u001b[0misinstance\u001b[0m\u001b[0;34m(\u001b[0m\u001b[0mdata\u001b[0m\u001b[0;34m,\u001b[0m \u001b[0mma\u001b[0m\u001b[0;34m.\u001b[0m\u001b[0mMaskedArray\u001b[0m\u001b[0;34m)\u001b[0m\u001b[0;34m:\u001b[0m\u001b[0;34m\u001b[0m\u001b[0;34m\u001b[0m\u001b[0m\n\u001b[1;32m    780\u001b[0m             \u001b[0;32mfrom\u001b[0m \u001b[0mnumpy\u001b[0m\u001b[0;34m.\u001b[0m\u001b[0mma\u001b[0m \u001b[0;32mimport\u001b[0m \u001b[0mmrecords\u001b[0m\u001b[0;34m\u001b[0m\u001b[0;34m\u001b[0m\u001b[0m\n",
            "\u001b[0;32m/usr/local/lib/python3.10/dist-packages/pandas/core/internals/construction.py\u001b[0m in \u001b[0;36mdict_to_mgr\u001b[0;34m(data, index, columns, dtype, typ, copy)\u001b[0m\n\u001b[1;32m    501\u001b[0m             \u001b[0marrays\u001b[0m \u001b[0;34m=\u001b[0m \u001b[0;34m[\u001b[0m\u001b[0mx\u001b[0m\u001b[0;34m.\u001b[0m\u001b[0mcopy\u001b[0m\u001b[0;34m(\u001b[0m\u001b[0;34m)\u001b[0m \u001b[0;32mif\u001b[0m \u001b[0mhasattr\u001b[0m\u001b[0;34m(\u001b[0m\u001b[0mx\u001b[0m\u001b[0;34m,\u001b[0m \u001b[0;34m\"dtype\"\u001b[0m\u001b[0;34m)\u001b[0m \u001b[0;32melse\u001b[0m \u001b[0mx\u001b[0m \u001b[0;32mfor\u001b[0m \u001b[0mx\u001b[0m \u001b[0;32min\u001b[0m \u001b[0marrays\u001b[0m\u001b[0;34m]\u001b[0m\u001b[0;34m\u001b[0m\u001b[0;34m\u001b[0m\u001b[0m\n\u001b[1;32m    502\u001b[0m \u001b[0;34m\u001b[0m\u001b[0m\n\u001b[0;32m--> 503\u001b[0;31m     \u001b[0;32mreturn\u001b[0m \u001b[0marrays_to_mgr\u001b[0m\u001b[0;34m(\u001b[0m\u001b[0marrays\u001b[0m\u001b[0;34m,\u001b[0m \u001b[0mcolumns\u001b[0m\u001b[0;34m,\u001b[0m \u001b[0mindex\u001b[0m\u001b[0;34m,\u001b[0m \u001b[0mdtype\u001b[0m\u001b[0;34m=\u001b[0m\u001b[0mdtype\u001b[0m\u001b[0;34m,\u001b[0m \u001b[0mtyp\u001b[0m\u001b[0;34m=\u001b[0m\u001b[0mtyp\u001b[0m\u001b[0;34m,\u001b[0m \u001b[0mconsolidate\u001b[0m\u001b[0;34m=\u001b[0m\u001b[0mcopy\u001b[0m\u001b[0;34m)\u001b[0m\u001b[0;34m\u001b[0m\u001b[0;34m\u001b[0m\u001b[0m\n\u001b[0m\u001b[1;32m    504\u001b[0m \u001b[0;34m\u001b[0m\u001b[0m\n\u001b[1;32m    505\u001b[0m \u001b[0;34m\u001b[0m\u001b[0m\n",
            "\u001b[0;32m/usr/local/lib/python3.10/dist-packages/pandas/core/internals/construction.py\u001b[0m in \u001b[0;36marrays_to_mgr\u001b[0;34m(arrays, columns, index, dtype, verify_integrity, typ, consolidate)\u001b[0m\n\u001b[1;32m    112\u001b[0m         \u001b[0;31m# figure out the index, if necessary\u001b[0m\u001b[0;34m\u001b[0m\u001b[0;34m\u001b[0m\u001b[0m\n\u001b[1;32m    113\u001b[0m         \u001b[0;32mif\u001b[0m \u001b[0mindex\u001b[0m \u001b[0;32mis\u001b[0m \u001b[0;32mNone\u001b[0m\u001b[0;34m:\u001b[0m\u001b[0;34m\u001b[0m\u001b[0;34m\u001b[0m\u001b[0m\n\u001b[0;32m--> 114\u001b[0;31m             \u001b[0mindex\u001b[0m \u001b[0;34m=\u001b[0m \u001b[0m_extract_index\u001b[0m\u001b[0;34m(\u001b[0m\u001b[0marrays\u001b[0m\u001b[0;34m)\u001b[0m\u001b[0;34m\u001b[0m\u001b[0;34m\u001b[0m\u001b[0m\n\u001b[0m\u001b[1;32m    115\u001b[0m         \u001b[0;32melse\u001b[0m\u001b[0;34m:\u001b[0m\u001b[0;34m\u001b[0m\u001b[0;34m\u001b[0m\u001b[0m\n\u001b[1;32m    116\u001b[0m             \u001b[0mindex\u001b[0m \u001b[0;34m=\u001b[0m \u001b[0mensure_index\u001b[0m\u001b[0;34m(\u001b[0m\u001b[0mindex\u001b[0m\u001b[0;34m)\u001b[0m\u001b[0;34m\u001b[0m\u001b[0;34m\u001b[0m\u001b[0m\n",
            "\u001b[0;32m/usr/local/lib/python3.10/dist-packages/pandas/core/internals/construction.py\u001b[0m in \u001b[0;36m_extract_index\u001b[0;34m(data)\u001b[0m\n\u001b[1;32m    688\u001b[0m                     \u001b[0;34mf\"length {len(index)}\"\u001b[0m\u001b[0;34m\u001b[0m\u001b[0;34m\u001b[0m\u001b[0m\n\u001b[1;32m    689\u001b[0m                 )\n\u001b[0;32m--> 690\u001b[0;31m                 \u001b[0;32mraise\u001b[0m \u001b[0mValueError\u001b[0m\u001b[0;34m(\u001b[0m\u001b[0mmsg\u001b[0m\u001b[0;34m)\u001b[0m\u001b[0;34m\u001b[0m\u001b[0;34m\u001b[0m\u001b[0m\n\u001b[0m\u001b[1;32m    691\u001b[0m         \u001b[0;32melse\u001b[0m\u001b[0;34m:\u001b[0m\u001b[0;34m\u001b[0m\u001b[0;34m\u001b[0m\u001b[0m\n\u001b[1;32m    692\u001b[0m             \u001b[0mindex\u001b[0m \u001b[0;34m=\u001b[0m \u001b[0mdefault_index\u001b[0m\u001b[0;34m(\u001b[0m\u001b[0mlengths\u001b[0m\u001b[0;34m[\u001b[0m\u001b[0;36m0\u001b[0m\u001b[0;34m]\u001b[0m\u001b[0;34m)\u001b[0m\u001b[0;34m\u001b[0m\u001b[0;34m\u001b[0m\u001b[0m\n",
            "\u001b[0;31mValueError\u001b[0m: array length 431 does not match index length 1"
          ]
        },
        {
          "output_type": "display_data",
          "data": {
            "text/plain": [
              "<Figure size 1200x1200 with 0 Axes>"
            ]
          },
          "metadata": {}
        }
      ],
      "source": [
        "import seaborn as sns\n",
        "sns.set_style(\"darkgrid\")\n",
        "\n",
        "fig = plt.figure(figsize=(12,12))\n",
        "fig.subplots_adjust(hspace=0.2, wspace=0.2)\n",
        "\n",
        "\n",
        "ax = sns.lineplot(x = original_train.index, y = original_train.loc[1], label=\"Data\", color='blue')\n",
        "#ax = sns.lineplot(x = predict_train.index, y = predict[0], label=\"LSTM\", color='red')\n",
        "ax = sns.lineplot(x = original_test.index, y = original_test.loc[1], label=\"Data\", color='yellow')\n",
        "ax = sns.lineplot(x = predict_test.index, y = predict_test, label=\"LSTM\", color='green')\n",
        "ax.set_title('SBM price', size = 14, fontweight='bold')\n",
        "ax.set_xlabel(\"Days\", size = 14)\n",
        "ax.set_ylabel(\"Cost (USD)\", size = 14)\n",
        "ax.set_xticklabels('', size=10)\n",
        "\n",
        "\n",
        "#plt.subplot(1, 2, 2)\n",
        "#ax = sns.lineplot(data=hist, color='royalblue')\n",
        "#ax.set_xlabel(\"Epoch\", size = 14)\n",
        "#ax.set_ylabel(\"Loss\", size = 14)\n",
        "#ax.set_title(\"Training Loss\", size = 14, fontweight='bold')\n",
        "#fig.set_figheight(6)\n",
        "#fig.set_figwidth(16)"
      ]
    },
    {
      "cell_type": "markdown",
      "source": [
        "#Get x months ahead worth of predictions"
      ],
      "metadata": {
        "id": "fTzSbb_QxH3-"
      }
    },
    {
      "cell_type": "code",
      "source": [
        "#Function to take in the correct window of data and generate 5 months ahead predictions\n",
        "def forecast_x_months(ws, df, model, months_ahead, column_name):\n",
        "  predictions = []\n",
        "  current_window = df[[column_name]][-ws:].to_numpy()\n",
        "  current_window = current_window.reshape(1,ws,1)\n",
        "  for i in range(months_ahead):\n",
        "    current_window_torch = torch.from_numpy(current_window).type(torch.Tensor).cuda()\n",
        "    pred = model(current_window_torch)\n",
        "    pred = pred.cpu().detach().numpy()\n",
        "    predictions.append(pred)\n",
        "    current_window_torch = current_window_torch.cpu().detach().numpy()\n",
        "    current_window = np.append(current_window, pred)\n",
        "    current_window = current_window[-ws:].reshape(1,ws,1)\n",
        "  predictions = scale.inverse_transform(np.array(predictions).reshape(months_ahead,1))\n",
        "  return predictions"
      ],
      "metadata": {
        "id": "yckUodTuxGs8"
      },
      "execution_count": null,
      "outputs": []
    },
    {
      "cell_type": "code",
      "source": [
        "#Function to take in the correct window of data and generate 6 months ahead predictions\n",
        "def forecast_x_days(ws, df, model, months_ahead):\n",
        "  predictions = []\n",
        "  current_window = df['DailySalesQuantity'][-ws:].to_numpy()\n",
        "  current_window = current_window.reshape(1,ws,1)\n",
        "  for i in range(months_ahead):\n",
        "    current_window_torch = torch.from_numpy(current_window).type(torch.Tensor).cuda()\n",
        "    pred = model(current_window_torch)\n",
        "    pred = pred.cpu().detach().numpy()\n",
        "    predictions.append(pred)\n",
        "    current_window_torch = current_window_torch.cpu().detach().numpy()\n",
        "    current_window = np.append(current_window, pred)\n",
        "    current_window = current_window[-ws:].reshape(1,ws,1)\n",
        "  predictions = scale.inverse_transform(np.array(predictions).reshape(months_ahead,1))\n",
        "  return predictions"
      ],
      "metadata": {
        "id": "N4vV2lBIoWb7"
      },
      "execution_count": null,
      "outputs": []
    },
    {
      "cell_type": "code",
      "source": [
        "predictions = forecast_x_days(ws, df, model, test_size)\n",
        "predictions"
      ],
      "metadata": {
        "colab": {
          "base_uri": "https://localhost:8080/",
          "height": 158
        },
        "id": "mbEA0YJO1lS3",
        "outputId": "495fd52d-454a-4d3d-f0bb-5bf0ee35e7c6"
      },
      "execution_count": null,
      "outputs": [
        {
          "output_type": "error",
          "ename": "NameError",
          "evalue": "name 'model' is not defined",
          "traceback": [
            "\u001b[0;31m---------------------------------------------------------------------------\u001b[0m",
            "\u001b[0;31mNameError\u001b[0m                                 Traceback (most recent call last)",
            "\u001b[0;32m<ipython-input-28-22ae8be57c25>\u001b[0m in \u001b[0;36m<cell line: 1>\u001b[0;34m()\u001b[0m\n\u001b[0;32m----> 1\u001b[0;31m \u001b[0mOTO_predictions\u001b[0m \u001b[0;34m=\u001b[0m \u001b[0mforecast_x_days\u001b[0m\u001b[0;34m(\u001b[0m\u001b[0mws\u001b[0m\u001b[0;34m,\u001b[0m \u001b[0mdf\u001b[0m\u001b[0;34m,\u001b[0m \u001b[0mmodel\u001b[0m\u001b[0;34m,\u001b[0m \u001b[0mtest_size\u001b[0m\u001b[0;34m)\u001b[0m\u001b[0;34m\u001b[0m\u001b[0;34m\u001b[0m\u001b[0m\n\u001b[0m\u001b[1;32m      2\u001b[0m \u001b[0mOTO_predictions\u001b[0m\u001b[0;34m\u001b[0m\u001b[0;34m\u001b[0m\u001b[0m\n",
            "\u001b[0;31mNameError\u001b[0m: name 'model' is not defined"
          ]
        }
      ]
    },
    {
      "cell_type": "code",
      "source": [
        "  #Detach all torch tensors\n",
        "  x_train_torch = x_train_torch.cpu().detach().numpy()\n",
        "  x_test_torch = x_test_torch.cpu().detach()\n",
        "  y_train_torch = y_train_torch.cpu().detach().numpy()\n",
        "  y_test_torch = y_test_torch.cpu().detach().numpy()"
      ],
      "metadata": {
        "id": "wl8GLpqjbz5M"
      },
      "execution_count": null,
      "outputs": []
    }
  ],
  "metadata": {
    "colab": {
      "provenance": [],
      "gpuType": "T4",
      "include_colab_link": true
    },
    "kernelspec": {
      "display_name": "Python 3",
      "name": "python3"
    },
    "language_info": {
      "codemirror_mode": {
        "name": "ipython",
        "version": 3
      },
      "file_extension": ".py",
      "mimetype": "text/x-python",
      "name": "python",
      "nbconvert_exporter": "python",
      "pygments_lexer": "ipython3",
      "version": "3.11.5"
    },
    "accelerator": "GPU"
  },
  "nbformat": 4,
  "nbformat_minor": 0
}