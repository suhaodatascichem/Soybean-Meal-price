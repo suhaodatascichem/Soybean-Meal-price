{
  "cells": [
    {
      "cell_type": "markdown",
      "metadata": {
        "id": "view-in-github",
        "colab_type": "text"
      },
      "source": [
        "<a href=\"https://colab.research.google.com/github/suhaodatascichem/Soybean-Meal-price/blob/main/Soybean%20meal.ipynb\" target=\"_parent\"><img src=\"https://colab.research.google.com/assets/colab-badge.svg\" alt=\"Open In Colab\"/></a>"
      ]
    },
    {
      "cell_type": "markdown",
      "source": [
        "# Import required libraries"
      ],
      "metadata": {
        "id": "HJ2eUlaZVw7L"
      }
    },
    {
      "cell_type": "code",
      "execution_count": 1,
      "metadata": {
        "id": "lWDl6nBj-0xx"
      },
      "outputs": [],
      "source": [
        "# required libraries\n",
        "import pandas as pd\n",
        "import numpy as np\n",
        "import datetime as dt\n",
        "\n",
        "# for plots\n",
        "import matplotlib.pyplot as plt\n",
        "import seaborn as sns"
      ]
    },
    {
      "cell_type": "code",
      "execution_count": 2,
      "metadata": {
        "id": "0aP0gYHY_AUU"
      },
      "outputs": [],
      "source": [
        "from sklearn.preprocessing import MinMaxScaler\n",
        "import math, time\n",
        "from sklearn.metrics import mean_squared_error\n",
        "import time\n",
        "from sklearn.metrics import mean_squared_error"
      ]
    },
    {
      "cell_type": "code",
      "execution_count": 3,
      "metadata": {
        "id": "ev8PGZHK_AXc"
      },
      "outputs": [],
      "source": [
        "import torch\n",
        "import torch.nn as nn\n",
        "from torch.utils.data import TensorDataset, DataLoader"
      ]
    },
    {
      "cell_type": "markdown",
      "source": [
        "# Read Data"
      ],
      "metadata": {
        "id": "GSk0SaQbVqAI"
      }
    },
    {
      "cell_type": "code",
      "source": [
        "# import from github\n",
        "url = 'https://raw.githubusercontent.com/suhaodatascichem/Soybean-Meal-price/refs/heads/main/US%20Soybean%20Meal%20Futures%20Historical%20Data-daily.csv'\n",
        "df_raw = pd.read_csv(url)"
      ],
      "metadata": {
        "id": "k46DKg6O0NgT"
      },
      "execution_count": 4,
      "outputs": []
    },
    {
      "cell_type": "code",
      "source": [
        "startdate = df_raw['Date'].min()\n",
        "print('startdate is ', startdate)\n",
        "enddate = df_raw['Date'].max()\n",
        "print(\"startdate is \", enddate)\n"
      ],
      "metadata": {
        "id": "akKnr5iccIK5",
        "outputId": "a669a456-d215-4c13-bce5-889384b60dfe",
        "colab": {
          "base_uri": "https://localhost:8080/"
        }
      },
      "execution_count": 5,
      "outputs": [
        {
          "output_type": "stream",
          "name": "stdout",
          "text": [
            "startdate is  01/01/2020\n",
            "startdate is  12/31/2021\n"
          ]
        }
      ]
    },
    {
      "cell_type": "code",
      "source": [
        "df_raw.head(1)"
      ],
      "metadata": {
        "id": "Kl3EjYmhdKXB",
        "outputId": "fb54a03a-2db1-4860-cf4c-c5b24ef662c3",
        "colab": {
          "base_uri": "https://localhost:8080/",
          "height": 81
        }
      },
      "execution_count": 6,
      "outputs": [
        {
          "output_type": "execute_result",
          "data": {
            "text/plain": [
              "         Date  Price   Open   High    Low Vol. Change %\n",
              "0  12/27/2024  310.5  315.2  315.6  310.1  NaN   -1.40%"
            ],
            "text/html": [
              "\n",
              "  <div id=\"df-e75178ee-1586-4797-811a-e10747111315\" class=\"colab-df-container\">\n",
              "    <div>\n",
              "<style scoped>\n",
              "    .dataframe tbody tr th:only-of-type {\n",
              "        vertical-align: middle;\n",
              "    }\n",
              "\n",
              "    .dataframe tbody tr th {\n",
              "        vertical-align: top;\n",
              "    }\n",
              "\n",
              "    .dataframe thead th {\n",
              "        text-align: right;\n",
              "    }\n",
              "</style>\n",
              "<table border=\"1\" class=\"dataframe\">\n",
              "  <thead>\n",
              "    <tr style=\"text-align: right;\">\n",
              "      <th></th>\n",
              "      <th>Date</th>\n",
              "      <th>Price</th>\n",
              "      <th>Open</th>\n",
              "      <th>High</th>\n",
              "      <th>Low</th>\n",
              "      <th>Vol.</th>\n",
              "      <th>Change %</th>\n",
              "    </tr>\n",
              "  </thead>\n",
              "  <tbody>\n",
              "    <tr>\n",
              "      <th>0</th>\n",
              "      <td>12/27/2024</td>\n",
              "      <td>310.5</td>\n",
              "      <td>315.2</td>\n",
              "      <td>315.6</td>\n",
              "      <td>310.1</td>\n",
              "      <td>NaN</td>\n",
              "      <td>-1.40%</td>\n",
              "    </tr>\n",
              "  </tbody>\n",
              "</table>\n",
              "</div>\n",
              "    <div class=\"colab-df-buttons\">\n",
              "\n",
              "  <div class=\"colab-df-container\">\n",
              "    <button class=\"colab-df-convert\" onclick=\"convertToInteractive('df-e75178ee-1586-4797-811a-e10747111315')\"\n",
              "            title=\"Convert this dataframe to an interactive table.\"\n",
              "            style=\"display:none;\">\n",
              "\n",
              "  <svg xmlns=\"http://www.w3.org/2000/svg\" height=\"24px\" viewBox=\"0 -960 960 960\">\n",
              "    <path d=\"M120-120v-720h720v720H120Zm60-500h600v-160H180v160Zm220 220h160v-160H400v160Zm0 220h160v-160H400v160ZM180-400h160v-160H180v160Zm440 0h160v-160H620v160ZM180-180h160v-160H180v160Zm440 0h160v-160H620v160Z\"/>\n",
              "  </svg>\n",
              "    </button>\n",
              "\n",
              "  <style>\n",
              "    .colab-df-container {\n",
              "      display:flex;\n",
              "      gap: 12px;\n",
              "    }\n",
              "\n",
              "    .colab-df-convert {\n",
              "      background-color: #E8F0FE;\n",
              "      border: none;\n",
              "      border-radius: 50%;\n",
              "      cursor: pointer;\n",
              "      display: none;\n",
              "      fill: #1967D2;\n",
              "      height: 32px;\n",
              "      padding: 0 0 0 0;\n",
              "      width: 32px;\n",
              "    }\n",
              "\n",
              "    .colab-df-convert:hover {\n",
              "      background-color: #E2EBFA;\n",
              "      box-shadow: 0px 1px 2px rgba(60, 64, 67, 0.3), 0px 1px 3px 1px rgba(60, 64, 67, 0.15);\n",
              "      fill: #174EA6;\n",
              "    }\n",
              "\n",
              "    .colab-df-buttons div {\n",
              "      margin-bottom: 4px;\n",
              "    }\n",
              "\n",
              "    [theme=dark] .colab-df-convert {\n",
              "      background-color: #3B4455;\n",
              "      fill: #D2E3FC;\n",
              "    }\n",
              "\n",
              "    [theme=dark] .colab-df-convert:hover {\n",
              "      background-color: #434B5C;\n",
              "      box-shadow: 0px 1px 3px 1px rgba(0, 0, 0, 0.15);\n",
              "      filter: drop-shadow(0px 1px 2px rgba(0, 0, 0, 0.3));\n",
              "      fill: #FFFFFF;\n",
              "    }\n",
              "  </style>\n",
              "\n",
              "    <script>\n",
              "      const buttonEl =\n",
              "        document.querySelector('#df-e75178ee-1586-4797-811a-e10747111315 button.colab-df-convert');\n",
              "      buttonEl.style.display =\n",
              "        google.colab.kernel.accessAllowed ? 'block' : 'none';\n",
              "\n",
              "      async function convertToInteractive(key) {\n",
              "        const element = document.querySelector('#df-e75178ee-1586-4797-811a-e10747111315');\n",
              "        const dataTable =\n",
              "          await google.colab.kernel.invokeFunction('convertToInteractive',\n",
              "                                                    [key], {});\n",
              "        if (!dataTable) return;\n",
              "\n",
              "        const docLinkHtml = 'Like what you see? Visit the ' +\n",
              "          '<a target=\"_blank\" href=https://colab.research.google.com/notebooks/data_table.ipynb>data table notebook</a>'\n",
              "          + ' to learn more about interactive tables.';\n",
              "        element.innerHTML = '';\n",
              "        dataTable['output_type'] = 'display_data';\n",
              "        await google.colab.output.renderOutput(dataTable, element);\n",
              "        const docLink = document.createElement('div');\n",
              "        docLink.innerHTML = docLinkHtml;\n",
              "        element.appendChild(docLink);\n",
              "      }\n",
              "    </script>\n",
              "  </div>\n",
              "\n",
              "\n",
              "    </div>\n",
              "  </div>\n"
            ],
            "application/vnd.google.colaboratory.intrinsic+json": {
              "type": "dataframe",
              "variable_name": "df_raw",
              "summary": "{\n  \"name\": \"df_raw\",\n  \"rows\": 2058,\n  \"fields\": [\n    {\n      \"column\": \"Date\",\n      \"properties\": {\n        \"dtype\": \"object\",\n        \"num_unique_values\": 2058,\n        \"samples\": [\n          \"12/16/2019\",\n          \"09/08/2022\",\n          \"11/18/2019\"\n        ],\n        \"semantic_type\": \"\",\n        \"description\": \"\"\n      }\n    },\n    {\n      \"column\": \"Price\",\n      \"properties\": {\n        \"dtype\": \"number\",\n        \"std\": 54.103410130675435,\n        \"min\": 282.0,\n        \"max\": 493.4,\n        \"num_unique_values\": 1168,\n        \"samples\": [\n          356.5,\n          319.8,\n          326.8\n        ],\n        \"semantic_type\": \"\",\n        \"description\": \"\"\n      }\n    },\n    {\n      \"column\": \"Open\",\n      \"properties\": {\n        \"dtype\": \"number\",\n        \"std\": 54.030245678663235,\n        \"min\": 282.0,\n        \"max\": 493.3,\n        \"num_unique_values\": 1141,\n        \"samples\": [\n          385.0,\n          305.3,\n          398.3\n        ],\n        \"semantic_type\": \"\",\n        \"description\": \"\"\n      }\n    },\n    {\n      \"column\": \"High\",\n      \"properties\": {\n        \"dtype\": \"number\",\n        \"std\": 55.321191608468915,\n        \"min\": 283.55,\n        \"max\": 498.0,\n        \"num_unique_values\": 1169,\n        \"samples\": [\n          356.2,\n          321.9,\n          345.8\n        ],\n        \"semantic_type\": \"\",\n        \"description\": \"\"\n      }\n    },\n    {\n      \"column\": \"Low\",\n      \"properties\": {\n        \"dtype\": \"number\",\n        \"std\": 52.92671388959259,\n        \"min\": 281.9,\n        \"max\": 492.8,\n        \"num_unique_values\": 1142,\n        \"samples\": [\n          334.1,\n          390.6,\n          395.8\n        ],\n        \"semantic_type\": \"\",\n        \"description\": \"\"\n      }\n    },\n    {\n      \"column\": \"Vol.\",\n      \"properties\": {\n        \"dtype\": \"string\",\n        \"num_unique_values\": 1781,\n        \"samples\": [\n          \"13.20K\",\n          \"19.85K\",\n          \"68.39K\"\n        ],\n        \"semantic_type\": \"\",\n        \"description\": \"\"\n      }\n    },\n    {\n      \"column\": \"Change %\",\n      \"properties\": {\n        \"dtype\": \"category\",\n        \"num_unique_values\": 566,\n        \"samples\": [\n          \"-3.28%\",\n          \"-1.88%\",\n          \"-0.11%\"\n        ],\n        \"semantic_type\": \"\",\n        \"description\": \"\"\n      }\n    }\n  ]\n}"
            }
          },
          "metadata": {},
          "execution_count": 6
        }
      ]
    },
    {
      "cell_type": "code",
      "source": [
        "# reverse df['Date]\n",
        "df_raw = df_raw.iloc[::-1].reset_index(drop=True)\n"
      ],
      "metadata": {
        "id": "csk6Bi_shg2J"
      },
      "execution_count": 7,
      "outputs": []
    },
    {
      "cell_type": "code",
      "source": [
        "df_raw.head(1)"
      ],
      "metadata": {
        "id": "xkjB0hUCit-a",
        "outputId": "7cb1096f-e537-4184-8c2b-908467a5f84f",
        "colab": {
          "base_uri": "https://localhost:8080/",
          "height": 81
        }
      },
      "execution_count": 8,
      "outputs": [
        {
          "output_type": "execute_result",
          "data": {
            "text/plain": [
              "         Date  Price   Open   High    Low   Vol. Change %\n",
              "0  01/03/2017  308.3  313.0  314.2  308.2  2.39K   -1.47%"
            ],
            "text/html": [
              "\n",
              "  <div id=\"df-13831e54-2a46-4235-9662-a0c604649075\" class=\"colab-df-container\">\n",
              "    <div>\n",
              "<style scoped>\n",
              "    .dataframe tbody tr th:only-of-type {\n",
              "        vertical-align: middle;\n",
              "    }\n",
              "\n",
              "    .dataframe tbody tr th {\n",
              "        vertical-align: top;\n",
              "    }\n",
              "\n",
              "    .dataframe thead th {\n",
              "        text-align: right;\n",
              "    }\n",
              "</style>\n",
              "<table border=\"1\" class=\"dataframe\">\n",
              "  <thead>\n",
              "    <tr style=\"text-align: right;\">\n",
              "      <th></th>\n",
              "      <th>Date</th>\n",
              "      <th>Price</th>\n",
              "      <th>Open</th>\n",
              "      <th>High</th>\n",
              "      <th>Low</th>\n",
              "      <th>Vol.</th>\n",
              "      <th>Change %</th>\n",
              "    </tr>\n",
              "  </thead>\n",
              "  <tbody>\n",
              "    <tr>\n",
              "      <th>0</th>\n",
              "      <td>01/03/2017</td>\n",
              "      <td>308.3</td>\n",
              "      <td>313.0</td>\n",
              "      <td>314.2</td>\n",
              "      <td>308.2</td>\n",
              "      <td>2.39K</td>\n",
              "      <td>-1.47%</td>\n",
              "    </tr>\n",
              "  </tbody>\n",
              "</table>\n",
              "</div>\n",
              "    <div class=\"colab-df-buttons\">\n",
              "\n",
              "  <div class=\"colab-df-container\">\n",
              "    <button class=\"colab-df-convert\" onclick=\"convertToInteractive('df-13831e54-2a46-4235-9662-a0c604649075')\"\n",
              "            title=\"Convert this dataframe to an interactive table.\"\n",
              "            style=\"display:none;\">\n",
              "\n",
              "  <svg xmlns=\"http://www.w3.org/2000/svg\" height=\"24px\" viewBox=\"0 -960 960 960\">\n",
              "    <path d=\"M120-120v-720h720v720H120Zm60-500h600v-160H180v160Zm220 220h160v-160H400v160Zm0 220h160v-160H400v160ZM180-400h160v-160H180v160Zm440 0h160v-160H620v160ZM180-180h160v-160H180v160Zm440 0h160v-160H620v160Z\"/>\n",
              "  </svg>\n",
              "    </button>\n",
              "\n",
              "  <style>\n",
              "    .colab-df-container {\n",
              "      display:flex;\n",
              "      gap: 12px;\n",
              "    }\n",
              "\n",
              "    .colab-df-convert {\n",
              "      background-color: #E8F0FE;\n",
              "      border: none;\n",
              "      border-radius: 50%;\n",
              "      cursor: pointer;\n",
              "      display: none;\n",
              "      fill: #1967D2;\n",
              "      height: 32px;\n",
              "      padding: 0 0 0 0;\n",
              "      width: 32px;\n",
              "    }\n",
              "\n",
              "    .colab-df-convert:hover {\n",
              "      background-color: #E2EBFA;\n",
              "      box-shadow: 0px 1px 2px rgba(60, 64, 67, 0.3), 0px 1px 3px 1px rgba(60, 64, 67, 0.15);\n",
              "      fill: #174EA6;\n",
              "    }\n",
              "\n",
              "    .colab-df-buttons div {\n",
              "      margin-bottom: 4px;\n",
              "    }\n",
              "\n",
              "    [theme=dark] .colab-df-convert {\n",
              "      background-color: #3B4455;\n",
              "      fill: #D2E3FC;\n",
              "    }\n",
              "\n",
              "    [theme=dark] .colab-df-convert:hover {\n",
              "      background-color: #434B5C;\n",
              "      box-shadow: 0px 1px 3px 1px rgba(0, 0, 0, 0.15);\n",
              "      filter: drop-shadow(0px 1px 2px rgba(0, 0, 0, 0.3));\n",
              "      fill: #FFFFFF;\n",
              "    }\n",
              "  </style>\n",
              "\n",
              "    <script>\n",
              "      const buttonEl =\n",
              "        document.querySelector('#df-13831e54-2a46-4235-9662-a0c604649075 button.colab-df-convert');\n",
              "      buttonEl.style.display =\n",
              "        google.colab.kernel.accessAllowed ? 'block' : 'none';\n",
              "\n",
              "      async function convertToInteractive(key) {\n",
              "        const element = document.querySelector('#df-13831e54-2a46-4235-9662-a0c604649075');\n",
              "        const dataTable =\n",
              "          await google.colab.kernel.invokeFunction('convertToInteractive',\n",
              "                                                    [key], {});\n",
              "        if (!dataTable) return;\n",
              "\n",
              "        const docLinkHtml = 'Like what you see? Visit the ' +\n",
              "          '<a target=\"_blank\" href=https://colab.research.google.com/notebooks/data_table.ipynb>data table notebook</a>'\n",
              "          + ' to learn more about interactive tables.';\n",
              "        element.innerHTML = '';\n",
              "        dataTable['output_type'] = 'display_data';\n",
              "        await google.colab.output.renderOutput(dataTable, element);\n",
              "        const docLink = document.createElement('div');\n",
              "        docLink.innerHTML = docLinkHtml;\n",
              "        element.appendChild(docLink);\n",
              "      }\n",
              "    </script>\n",
              "  </div>\n",
              "\n",
              "\n",
              "    </div>\n",
              "  </div>\n"
            ],
            "application/vnd.google.colaboratory.intrinsic+json": {
              "type": "dataframe",
              "variable_name": "df_raw",
              "summary": "{\n  \"name\": \"df_raw\",\n  \"rows\": 2058,\n  \"fields\": [\n    {\n      \"column\": \"Date\",\n      \"properties\": {\n        \"dtype\": \"object\",\n        \"num_unique_values\": 2058,\n        \"samples\": [\n          \"01/13/2022\",\n          \"04/23/2019\",\n          \"02/11/2022\"\n        ],\n        \"semantic_type\": \"\",\n        \"description\": \"\"\n      }\n    },\n    {\n      \"column\": \"Price\",\n      \"properties\": {\n        \"dtype\": \"number\",\n        \"std\": 54.103410130675435,\n        \"min\": 282.0,\n        \"max\": 493.4,\n        \"num_unique_values\": 1168,\n        \"samples\": [\n          362.2,\n          339.2,\n          308.1\n        ],\n        \"semantic_type\": \"\",\n        \"description\": \"\"\n      }\n    },\n    {\n      \"column\": \"Open\",\n      \"properties\": {\n        \"dtype\": \"number\",\n        \"std\": 54.0302456786633,\n        \"min\": 282.0,\n        \"max\": 493.3,\n        \"num_unique_values\": 1141,\n        \"samples\": [\n          340.5,\n          471.0,\n          329.9\n        ],\n        \"semantic_type\": \"\",\n        \"description\": \"\"\n      }\n    },\n    {\n      \"column\": \"High\",\n      \"properties\": {\n        \"dtype\": \"number\",\n        \"std\": 55.32119160846886,\n        \"min\": 283.55,\n        \"max\": 498.0,\n        \"num_unique_values\": 1169,\n        \"samples\": [\n          367.1,\n          337.3,\n          309.6\n        ],\n        \"semantic_type\": \"\",\n        \"description\": \"\"\n      }\n    },\n    {\n      \"column\": \"Low\",\n      \"properties\": {\n        \"dtype\": \"number\",\n        \"std\": 52.92671388959257,\n        \"min\": 281.9,\n        \"max\": 492.8,\n        \"num_unique_values\": 1142,\n        \"samples\": [\n          313.6,\n          341.4,\n          325.8\n        ],\n        \"semantic_type\": \"\",\n        \"description\": \"\"\n      }\n    },\n    {\n      \"column\": \"Vol.\",\n      \"properties\": {\n        \"dtype\": \"string\",\n        \"num_unique_values\": 1781,\n        \"samples\": [\n          \"16.40K\",\n          \"20.92K\",\n          \"46.41K\"\n        ],\n        \"semantic_type\": \"\",\n        \"description\": \"\"\n      }\n    },\n    {\n      \"column\": \"Change %\",\n      \"properties\": {\n        \"dtype\": \"category\",\n        \"num_unique_values\": 566,\n        \"samples\": [\n          \"-3.00%\",\n          \"-1.57%\",\n          \"-0.14%\"\n        ],\n        \"semantic_type\": \"\",\n        \"description\": \"\"\n      }\n    }\n  ]\n}"
            }
          },
          "metadata": {},
          "execution_count": 8
        }
      ]
    },
    {
      "cell_type": "code",
      "source": [
        "plt.plot(df_raw['Date'], df_raw[\"Price\"])\n",
        "plt.xlabel(\"Date\")\n",
        "plt.ylabel(\"Daily price\")\n",
        "plt.figure(figsize=(32,2))\n",
        "plt.show()"
      ],
      "metadata": {
        "id": "OLlgupQtI5jx",
        "outputId": "8c7edc6d-5c67-406c-e236-d59e270431ac",
        "colab": {
          "base_uri": "https://localhost:8080/",
          "height": 466
        }
      },
      "execution_count": 9,
      "outputs": [
        {
          "output_type": "display_data",
          "data": {
            "text/plain": [
              "<Figure size 640x480 with 1 Axes>"
            ],
            "image/png": "[encoded data removed]"
          },
          "metadata": {}
        },
        {
          "output_type": "display_data",
          "data": {
            "text/plain": [
              "<Figure size 3200x200 with 0 Axes>"
            ]
          },
          "metadata": {}
        }
      ]
    },
    {
      "cell_type": "code",
      "source": [
        "df_raw['Date'] = pd.to_datetime(df_raw['Date'])\n",
        "df = df_raw[df_raw['Date'] > '2022-06-30']\n",
        "plt.plot(df['Date'], df[\"Price\"])\n",
        "plt.xlabel(\"Date\")\n",
        "plt.ylabel(\"Daily price\")\n",
        "plt.figure(figsize=(32,2))\n",
        "plt.show()"
      ],
      "metadata": {
        "id": "6FjYD8K_xeaM",
        "colab": {
          "base_uri": "https://localhost:8080/",
          "height": 466
        },
        "outputId": "cf6871d5-fa5d-484d-9b8c-d3bce1820a25"
      },
      "execution_count": 10,
      "outputs": [
        {
          "output_type": "display_data",
          "data": {
            "text/plain": [
              "<Figure size 640x480 with 1 Axes>"
            ],
            "image/png": "[encoded data removed]"
          },
          "metadata": {}
        },
        {
          "output_type": "display_data",
          "data": {
            "text/plain": [
              "<Figure size 3200x200 with 0 Axes>"
            ]
          },
          "metadata": {}
        }
      ]
    },
    {
      "cell_type": "code",
      "source": [
        "# min-max nomalization\n",
        "from sklearn.preprocessing import MinMaxScaler\n",
        "\n",
        "scaler = MinMaxScaler(feature_range=(0, 1))\n",
        "df[['Price']] = scaler.fit_transform(df[['Price']])"
      ],
      "metadata": {
        "id": "A80wLBUot7Hv",
        "outputId": "e3fa14e4-70d9-4943-a8ad-68b7ff33212e",
        "colab": {
          "base_uri": "https://localhost:8080/"
        }
      },
      "execution_count": 11,
      "outputs": [
        {
          "output_type": "stream",
          "name": "stderr",
          "text": [
            "<ipython-input-11-bcbce0cf0b0b>:5: SettingWithCopyWarning: \n",
            "A value is trying to be set on a copy of a slice from a DataFrame.\n",
            "Try using .loc[row_indexer,col_indexer] = value instead\n",
            "\n",
            "See the caveats in the documentation: https://pandas.pydata.org/pandas-docs/stable/user_guide/indexing.html#returning-a-view-versus-a-copy\n",
            "  df[['Price']] = scaler.fit_transform(df[['Price']])\n"
          ]
        }
      ]
    },
    {
      "cell_type": "markdown",
      "source": [
        "# LSTM only consider the period after covid, 2022-07 onwards"
      ],
      "metadata": {
        "id": "RXCm1osZLlWP"
      }
    },
    {
      "cell_type": "markdown",
      "metadata": {
        "id": "Ey6mH5e6-5dH"
      },
      "source": [
        "## Data Prep"
      ]
    },
    {
      "cell_type": "code",
      "source": [
        "#Function to perform the train test split on the df based on the desired window_size (ws)\n",
        "def train_test_prep(series, x_variables, y_variables,  window_size, test_size):\n",
        "  # series should be a numpy series\n",
        "  x_series = series[x_variables].to_numpy()\n",
        "  y_series = series[y_variables].to_numpy()\n",
        "\n",
        "  x_data = []\n",
        "  y_data = []\n",
        "  for i in range(len(x_series) - window_size):\n",
        "    x_data.append(x_series[i: i+window_size])\n",
        "    y_data.append(y_series[i+window_size])\n",
        "  x_data = np.array(x_data)\n",
        "  y_data = np.array(y_data)\n",
        "\n",
        "  train_size = x_data.shape[0] - test_size\n",
        "\n",
        "  train_x = x_data[:train_size, :,:]\n",
        "  train_y = y_data[:train_size, :]\n",
        "\n",
        "  test_x = x_data[train_size:train_size+test_size, :,:]\n",
        "  test_y = y_data[train_size:train_size+test_size:, :]\n",
        "\n",
        "  return [train_x, train_y, test_x, test_y]"
      ],
      "metadata": {
        "id": "du2Bh7tDSZx1"
      },
      "execution_count": 12,
      "outputs": []
    },
    {
      "cell_type": "code",
      "source": [
        "ws = 30\n",
        "test_size = 90"
      ],
      "metadata": {
        "id": "l-pAntwd5LcY"
      },
      "execution_count": 13,
      "outputs": []
    },
    {
      "cell_type": "code",
      "execution_count": 14,
      "metadata": {
        "id": "5PSrzvxwqv55"
      },
      "outputs": [],
      "source": [
        "x_train, y_train, x_test, y_test = train_test_prep(df, [\"Price\"],[\"Price\"], ws,test_size)"
      ]
    },
    {
      "cell_type": "code",
      "source": [
        "x_train.shape, x_test.shape, y_train.shape, y_test.shape"
      ],
      "metadata": {
        "id": "h3uHiaRJVCkN",
        "colab": {
          "base_uri": "https://localhost:8080/"
        },
        "outputId": "973d0c00-d1b5-46e3-8a7a-ef5859b07366"
      },
      "execution_count": 15,
      "outputs": [
        {
          "output_type": "execute_result",
          "data": {
            "text/plain": [
              "((521, 30, 1), (90, 30, 1), (521, 1), (90, 1))"
            ]
          },
          "metadata": {},
          "execution_count": 15
        }
      ]
    },
    {
      "cell_type": "code",
      "source": [
        "#Function to obtain train, test data as tensors for torch\n",
        "def array_to_tensor(x_train, x_test, y_train, y_test):\n",
        "  x_train_torch = torch.from_numpy(x_train).type(torch.Tensor).cuda()\n",
        "  x_test_torch = torch.from_numpy(x_test).type(torch.Tensor).cuda()\n",
        "  y_train_torch = torch.from_numpy(y_train).type(torch.Tensor).cuda()\n",
        "  y_test_torch = torch.from_numpy(y_test).type(torch.Tensor).cuda()\n",
        "  return x_train_torch, x_test_torch, y_train_torch, y_test_torch"
      ],
      "metadata": {
        "id": "rP4I-W8vXZ94"
      },
      "execution_count": 16,
      "outputs": []
    },
    {
      "cell_type": "code",
      "source": [
        "x_train_torch, x_test_torch, y_train_torch, y_test_torch = array_to_tensor(x_train, x_test, y_train, y_test)"
      ],
      "metadata": {
        "id": "tVVkPr0pXlK1"
      },
      "execution_count": 17,
      "outputs": []
    },
    {
      "cell_type": "code",
      "source": [
        "x_train_torch.shape, x_test_torch.shape, y_train_torch.shape, y_test_torch.shape"
      ],
      "metadata": {
        "id": "uEZ_iuaCVXYR",
        "outputId": "6d7e27aa-a2c1-480b-9101-a00584eb04b2",
        "colab": {
          "base_uri": "https://localhost:8080/"
        }
      },
      "execution_count": 18,
      "outputs": [
        {
          "output_type": "execute_result",
          "data": {
            "text/plain": [
              "(torch.Size([521, 30, 1]),\n",
              " torch.Size([90, 30, 1]),\n",
              " torch.Size([521, 1]),\n",
              " torch.Size([90, 1]))"
            ]
          },
          "metadata": {},
          "execution_count": 18
        }
      ]
    },
    {
      "cell_type": "markdown",
      "source": [
        "# Baseline model"
      ],
      "metadata": {
        "id": "KFNXecrkW4-3"
      }
    },
    {
      "cell_type": "code",
      "source": [
        "# base line model that uses the previous time stamp's demand as the predicted demand\n",
        "\n",
        "#function for baseline model\n",
        "def baseline_rmse(df, ws, y_train_data, column_name):\n",
        "  y_base_test = np.array(df[column_name][ws+y_train.shape[0]-1:-1],dtype=np.float32)\n",
        "  y_base_label = np.array(df[column_name][ws+y_train.shape[0]:],dtype=np.float32)\n",
        "\n",
        "  print(y_base_test, y_base_label)\n",
        "  rmse_loss_test = np.sqrt(mean_squared_error(y_base_test, y_base_label))\n",
        "  return rmse_loss_test"
      ],
      "metadata": {
        "id": "VgvhGAq-Puyj"
      },
      "execution_count": 19,
      "outputs": []
    },
    {
      "cell_type": "code",
      "source": [
        "baseline_rmse(df, ws, y_train, 'Price')"
      ],
      "metadata": {
        "id": "-QRbM0_PP-Kf",
        "outputId": "b3179981-c48d-43e3-f73b-b81ce705b31b",
        "colab": {
          "base_uri": "https://localhost:8080/"
        }
      },
      "execution_count": 20,
      "outputs": [
        {
          "output_type": "stream",
          "name": "stdout",
          "text": [
            "[0.10511228 0.10750119 0.08647874 0.08695652 0.10941233 0.13043478\n",
            " 0.10893454 0.11610129 0.1242236  0.15910177 0.19923554 0.18299092\n",
            " 0.17534639 0.17486861 0.13951266 0.1524128  0.16626851 0.1638796\n",
            " 0.18967989 0.17869088 0.17821309 0.17916866 0.16770187 0.21309125\n",
            " 0.19971333 0.21070234 0.20401338 0.28666985 0.2747253  0.30291447\n",
            " 0.2689919  0.23124701 0.22169136 0.19063546 0.18585762 0.17725752\n",
            " 0.1528906  0.14811276 0.14906833 0.13043478 0.13473482 0.14715719\n",
            " 0.13951266 0.14763497 0.1466794  0.14142379 0.12470139 0.10750119\n",
            " 0.09985667 0.09030101 0.08982322 0.08217869 0.0621118  0.07692308\n",
            " 0.07883421 0.07118968 0.07692308 0.06688963 0.0621118  0.05303392\n",
            " 0.04730053 0.02388915 0.03201147 0.03822265 0.03010033 0.03440038\n",
            " 0.0253225  0.03535595 0.05637841 0.03487816 0.05398949 0.03726708\n",
            " 0.01815576 0.03010033 0.03726708 0.03344481 0.01576684 0.02627807\n",
            " 0.03774486 0.03344481 0.01146679 0.         0.04443383 0.04538939\n",
            " 0.00955566 0.03296703 0.08647874 0.06641185 0.08361204 0.14715719] [0.10750119 0.08647874 0.08695652 0.10941233 0.13043478 0.10893454\n",
            " 0.11610129 0.1242236  0.15910177 0.19923554 0.18299092 0.17534639\n",
            " 0.17486861 0.13951266 0.1524128  0.16626851 0.1638796  0.18967989\n",
            " 0.17869088 0.17821309 0.17916866 0.16770187 0.21309125 0.19971333\n",
            " 0.21070234 0.20401338 0.28666985 0.2747253  0.30291447 0.2689919\n",
            " 0.23124701 0.22169136 0.19063546 0.18585762 0.17725752 0.1528906\n",
            " 0.14811276 0.14906833 0.13043478 0.13473482 0.14715719 0.13951266\n",
            " 0.14763497 0.1466794  0.14142379 0.12470139 0.10750119 0.09985667\n",
            " 0.09030101 0.08982322 0.08217869 0.0621118  0.07692308 0.07883421\n",
            " 0.07118968 0.07692308 0.06688963 0.0621118  0.05303392 0.04730053\n",
            " 0.02388915 0.03201147 0.03822265 0.03010033 0.03440038 0.0253225\n",
            " 0.03535595 0.05637841 0.03487816 0.05398949 0.03726708 0.01815576\n",
            " 0.03010033 0.03726708 0.03344481 0.01576684 0.02627807 0.03774486\n",
            " 0.03344481 0.01146679 0.         0.04443383 0.04538939 0.00955566\n",
            " 0.03296703 0.08647874 0.06641185 0.08361204 0.14715719 0.12613474]\n"
          ]
        },
        {
          "output_type": "execute_result",
          "data": {
            "text/plain": [
              "0.021257380574945656"
            ]
          },
          "metadata": {},
          "execution_count": 20
        }
      ]
    },
    {
      "cell_type": "markdown",
      "metadata": {
        "id": "73Ip-SqqS11j"
      },
      "source": [
        "# LSTM Model Architecture\n"
      ]
    },
    {
      "cell_type": "code",
      "execution_count": 21,
      "metadata": {
        "id": "OEtzYAFbU01B"
      },
      "outputs": [],
      "source": [
        "class LSTM(nn.Module):\n",
        "    def __init__(self, input_dim, hidden_dim, num_layers, output_dim, num_epochs, dropout_rate):\n",
        "        super(LSTM, self).__init__()\n",
        "        self.hidden_dim = hidden_dim\n",
        "        self.num_layers = num_layers\n",
        "\n",
        "        self.lstm = nn.LSTM(input_dim, hidden_dim, num_layers, batch_first=True)\n",
        "        self.fc = nn.Linear(hidden_dim, output_dim)\n",
        "\n",
        "    def forward(self, x):\n",
        "        h0 = torch.zeros(self.num_layers, x.size(0), self.hidden_dim).requires_grad_().cuda()\n",
        "        c0 = torch.zeros(self.num_layers, x.size(0), self.hidden_dim).requires_grad_().cuda()\n",
        "        out, (hn, cn) = self.lstm(x, (h0, c0))\n",
        "        out = self.fc(out[:, -1, :])\n",
        "        return out"
      ]
    },
    {
      "cell_type": "code",
      "source": [
        "def build_lstm_model(input_dim, hidden_dim, num_layers, output_dim, num_epochs, dropout_rate):\n",
        "  model = LSTM(input_dim=input_dim, hidden_dim=hidden_dim, output_dim=output_dim, num_layers=num_layers, num_epochs=num_epochs, dropout_rate=dropout_rate)\n",
        "  model = model.cuda()\n",
        "  cr = torch.nn.MSELoss(reduction='mean')\n",
        "  optimizer = torch.optim.Adam(model.parameters(), lr=0.01)\n",
        "  return model, cr, optimizer"
      ],
      "metadata": {
        "id": "jCOJmN4-SBaS"
      },
      "execution_count": 22,
      "outputs": []
    },
    {
      "cell_type": "code",
      "source": [
        "input_dim = 1\n",
        "output_dim = 1\n",
        "dropout_rate = 0.3\n",
        "# other Parameters\n",
        "#num_layers = 2\n",
        "#hidden_dim = 50\n",
        "#num_epochs = 100\n"
      ],
      "metadata": {
        "id": "HZqDYtW5qkLU"
      },
      "execution_count": 23,
      "outputs": []
    },
    {
      "cell_type": "markdown",
      "source": [
        "# Train LSTM Model"
      ],
      "metadata": {
        "id": "zfQGXVvcYQMx"
      }
    },
    {
      "cell_type": "code",
      "source": [
        "def train_model(model, cr, optimizer, x_train_torch, y_train_torch, x_test_torch, y_test_torch, num_epochs):\n",
        "  torch.manual_seed(42)\n",
        "  torch.cuda.manual_seed(42)\n",
        "  torch.cuda.manual_seed_all(42)\n",
        "  np.random.seed(42)\n",
        "  torch.backends.cudnn.deterministic = True\n",
        "\n",
        "  train_hist = np.zeros(num_epochs)\n",
        "  test_hist = np.zeros(num_epochs)\n",
        "  start_time = time.time()\n",
        "  lstm = []\n",
        "\n",
        "\n",
        "  for t in range(num_epochs):\n",
        "    model.train()\n",
        "    y_train_pred = model(x_train_torch)\n",
        "    loss = cr(y_train_pred, y_train_torch)\n",
        "    train_hist[t] = loss.item()\n",
        "\n",
        "    optimizer.zero_grad()\n",
        "    loss.backward()\n",
        "    optimizer.step()\n",
        "\n",
        "    model.eval()\n",
        "    with torch.no_grad():\n",
        "      y_test_pred = model(x_test_torch)\n",
        "      loss = cr(y_test_pred, y_test_torch)\n",
        "      test_hist[t] = loss.item()\n",
        "      #print(\"Epoch \", t, \"train MSE: \", train_hist[t], \"Test MSE:\", test_hist[t])\n",
        "\n",
        "  training_time = time.time()-start_time\n",
        "  #print(\"Training time: {}\".format(training_time))\n",
        "  return y_train_pred, y_test_pred"
      ],
      "metadata": {
        "id": "jhjJL08dUa70"
      },
      "execution_count": 24,
      "outputs": []
    },
    {
      "cell_type": "markdown",
      "source": [
        "# Get_RMSE\n",
        "\n"
      ],
      "metadata": {
        "id": "T45S68m9YeKD"
      }
    },
    {
      "cell_type": "code",
      "source": [
        "def get_RMSE(y_train_pred, y_train_torch , type='Train'):\n",
        "  # invert predictions\n",
        "  y_train_pred = y_train_pred.cpu().detach().numpy()\n",
        "  y_train_final = y_train_torch.cpu().detach().numpy()\n",
        "\n",
        "  # calculate root mean squared error\n",
        "  trainScore = math.sqrt(mean_squared_error(y_train_final[:,0], y_train_pred[:,0]))\n",
        "  print(f\"{type} RMSE: \",trainScore)\n",
        "\n",
        "  return trainScore"
      ],
      "metadata": {
        "id": "UHoCKoRTOVWp"
      },
      "execution_count": 25,
      "outputs": []
    },
    {
      "cell_type": "markdown",
      "source": [
        "#Model parameters fine tuneing"
      ],
      "metadata": {
        "id": "RsBaVqjLGYrk"
      }
    },
    {
      "cell_type": "code",
      "source": [
        "# Function to vary the number of layers and hidden dimensions, and epochs to find the combination with the best RMSE\n",
        "def model_tuning(x_train_torch, y_train_torch, x_test_torch, y_test_torch, input_dim, output_dim):\n",
        "  torch.manual_seed(42)\n",
        "  torch.cuda.manual_seed(42)\n",
        "  torch.cuda.manual_seed_all(42)\n",
        "  np.random.seed(42)\n",
        "  torch.backends.cudnn.deterministic = True\n",
        "  testscore = 0\n",
        "  nl = 0\n",
        "  hd = 0\n",
        "  epochs = 0\n",
        "  summary = []\n",
        "  for num_epochs in [100, 200, 300, 400]:\n",
        "    for num_layers in [2, 3, 4, 5]:\n",
        "      for hidden_dim in [25, 50, 75, 100]:\n",
        "        model, cr, optimizer = build_lstm_model(input_dim, hidden_dim, num_layers, output_dim, num_epochs,dropout_rate)\n",
        "        y_train_pred, y_test_pred = train_model(model, cr, optimizer, x_train_torch, y_train_torch, x_test_torch, y_test_torch, num_epochs)\n",
        "        train_score = get_RMSE(y_train_torch, y_train_pred, type='Train')\n",
        "        # test_score = get_test_rmse(x_test_torch, y_test_torch, model, ws, test_size)\n",
        "        test_score = get_RMSE(y_test_torch, y_test_pred, type='Test')\n",
        "        print(\", Number of layers: \", num_layers, \", Hidden dimensions: \", hidden_dim, \", Number of Epochs:\", num_epochs)\n",
        "        summary.append({\n",
        "            'Number of layers': num_layers,\n",
        "            'Hidden dimensions': hidden_dim,\n",
        "            'Number of Epochs': num_epochs,\n",
        "            'Train RMSE': train_score,\n",
        "            'Test RMSE': test_score\n",
        "        })\n",
        "\n",
        "        if test_score < testscore or testscore == 0 :\n",
        "          testscore = test_score\n",
        "          nl = num_layers\n",
        "          hd = hidden_dim\n",
        "          epochs = num_epochs\n",
        "  print(\"Optimum Number of layers:\", nl, \"Optimum Hidden dimensions:\", hd, \"Optimum Number of Epochs:\",epochs,\"Test RMSE:\", testscore)\n",
        "  return nl, hd, epochs, summary"
      ],
      "metadata": {
        "id": "UHTxP8QT25m5"
      },
      "execution_count": 26,
      "outputs": []
    },
    {
      "cell_type": "code",
      "source": [
        "nl, hd, epochs, summary = model_tuning(x_train_torch, y_train_torch, x_test_torch, y_test_torch, input_dim, output_dim)"
      ],
      "metadata": {
        "id": "cjr2I5lAUYox",
        "outputId": "9b1427f6-dd55-480f-907c-b63e4d885441",
        "colab": {
          "base_uri": "https://localhost:8080/"
        }
      },
      "execution_count": 27,
      "outputs": [
        {
          "output_type": "stream",
          "name": "stdout",
          "text": [
            "Train RMSE:  0.04734578251803505\n",
            "Test RMSE:  0.0499454570532774\n",
            ", Number of layers:  2 , Hidden dimensions:  25 , Number of Epochs: 100\n",
            "Train RMSE:  0.04722744102781004\n",
            "Test RMSE:  0.041465149342421105\n",
            ", Number of layers:  2 , Hidden dimensions:  50 , Number of Epochs: 100\n",
            "Train RMSE:  0.04847789808288569\n",
            "Test RMSE:  0.04579356061388123\n",
            ", Number of layers:  2 , Hidden dimensions:  75 , Number of Epochs: 100\n",
            "Train RMSE:  0.05100046352057211\n",
            "Test RMSE:  0.047394965575644404\n",
            ", Number of layers:  2 , Hidden dimensions:  100 , Number of Epochs: 100\n",
            "Train RMSE:  0.04854301661465014\n",
            "Test RMSE:  0.03517042145941189\n",
            ", Number of layers:  3 , Hidden dimensions:  25 , Number of Epochs: 100\n",
            "Train RMSE:  0.04333347935897458\n",
            "Test RMSE:  0.027798340508512803\n",
            ", Number of layers:  3 , Hidden dimensions:  50 , Number of Epochs: 100\n",
            "Train RMSE:  0.04642445384636682\n",
            "Test RMSE:  0.04848146884843491\n",
            ", Number of layers:  3 , Hidden dimensions:  75 , Number of Epochs: 100\n",
            "Train RMSE:  0.05943158874050622\n",
            "Test RMSE:  0.09481309104551641\n",
            ", Number of layers:  3 , Hidden dimensions:  100 , Number of Epochs: 100\n",
            "Train RMSE:  0.0494122258889168\n",
            "Test RMSE:  0.0448142088307555\n",
            ", Number of layers:  4 , Hidden dimensions:  25 , Number of Epochs: 100\n",
            "Train RMSE:  0.04087126252375511\n",
            "Test RMSE:  0.027788622994562844\n",
            ", Number of layers:  4 , Hidden dimensions:  50 , Number of Epochs: 100\n",
            "Train RMSE:  0.046251297586996275\n",
            "Test RMSE:  0.09050196052075565\n",
            ", Number of layers:  4 , Hidden dimensions:  75 , Number of Epochs: 100\n",
            "Train RMSE:  0.2136970173969232\n",
            "Test RMSE:  0.4450537950703437\n",
            ", Number of layers:  4 , Hidden dimensions:  100 , Number of Epochs: 100\n",
            "Train RMSE:  0.04987916566770987\n",
            "Test RMSE:  0.07848347437389493\n",
            ", Number of layers:  5 , Hidden dimensions:  25 , Number of Epochs: 100\n",
            "Train RMSE:  0.0448256737549772\n",
            "Test RMSE:  0.0664803358144253\n",
            ", Number of layers:  5 , Hidden dimensions:  50 , Number of Epochs: 100\n",
            "Train RMSE:  0.05174090901142674\n",
            "Test RMSE:  0.0803821363777513\n",
            ", Number of layers:  5 , Hidden dimensions:  75 , Number of Epochs: 100\n",
            "Train RMSE:  0.053871415724728124\n",
            "Test RMSE:  0.15279113051615426\n",
            ", Number of layers:  5 , Hidden dimensions:  100 , Number of Epochs: 100\n",
            "Train RMSE:  0.039385757433800926\n",
            "Test RMSE:  0.030252069384565577\n",
            ", Number of layers:  2 , Hidden dimensions:  25 , Number of Epochs: 200\n",
            "Train RMSE:  0.04017202177525388\n",
            "Test RMSE:  0.028462066510915072\n",
            ", Number of layers:  2 , Hidden dimensions:  50 , Number of Epochs: 200\n",
            "Train RMSE:  0.04089363012733903\n",
            "Test RMSE:  0.029642891976192465\n",
            ", Number of layers:  2 , Hidden dimensions:  75 , Number of Epochs: 200\n",
            "Train RMSE:  0.04239140826616669\n",
            "Test RMSE:  0.03061655112451062\n",
            ", Number of layers:  2 , Hidden dimensions:  100 , Number of Epochs: 200\n",
            "Train RMSE:  0.03765946732128224\n",
            "Test RMSE:  0.026487937138415938\n",
            ", Number of layers:  3 , Hidden dimensions:  25 , Number of Epochs: 200\n",
            "Train RMSE:  0.04200772341835292\n",
            "Test RMSE:  0.022421358834449553\n",
            ", Number of layers:  3 , Hidden dimensions:  50 , Number of Epochs: 200\n",
            "Train RMSE:  0.03502504548679352\n",
            "Test RMSE:  0.02566926315238551\n",
            ", Number of layers:  3 , Hidden dimensions:  75 , Number of Epochs: 200\n",
            "Train RMSE:  0.04121501741959324\n",
            "Test RMSE:  0.031122522258436595\n",
            ", Number of layers:  3 , Hidden dimensions:  100 , Number of Epochs: 200\n",
            "Train RMSE:  0.034143056995661954\n",
            "Test RMSE:  0.02476979372328843\n",
            ", Number of layers:  4 , Hidden dimensions:  25 , Number of Epochs: 200\n",
            "Train RMSE:  0.038260766249226814\n",
            "Test RMSE:  0.027875008570438294\n",
            ", Number of layers:  4 , Hidden dimensions:  50 , Number of Epochs: 200\n",
            "Train RMSE:  0.036137780286186236\n",
            "Test RMSE:  0.042335066842008315\n",
            ", Number of layers:  4 , Hidden dimensions:  75 , Number of Epochs: 200\n",
            "Train RMSE:  0.26167379534075896\n",
            "Test RMSE:  0.6072966517074245\n",
            ", Number of layers:  4 , Hidden dimensions:  100 , Number of Epochs: 200\n",
            "Train RMSE:  0.0355544683447152\n",
            "Test RMSE:  0.055999441951526736\n",
            ", Number of layers:  5 , Hidden dimensions:  25 , Number of Epochs: 200\n",
            "Train RMSE:  0.03664997551385893\n",
            "Test RMSE:  0.050907955827666676\n",
            ", Number of layers:  5 , Hidden dimensions:  50 , Number of Epochs: 200\n",
            "Train RMSE:  0.03688065888285149\n",
            "Test RMSE:  0.03516846682949916\n",
            ", Number of layers:  5 , Hidden dimensions:  75 , Number of Epochs: 200\n",
            "Train RMSE:  0.04043898947679577\n",
            "Test RMSE:  0.04998183768060943\n",
            ", Number of layers:  5 , Hidden dimensions:  100 , Number of Epochs: 200\n",
            "Train RMSE:  0.03475669132597117\n",
            "Test RMSE:  0.024969793815228316\n",
            ", Number of layers:  2 , Hidden dimensions:  25 , Number of Epochs: 300\n",
            "Train RMSE:  0.0384347300965837\n",
            "Test RMSE:  0.033764342129435736\n",
            ", Number of layers:  2 , Hidden dimensions:  50 , Number of Epochs: 300\n",
            "Train RMSE:  0.037020778302116183\n",
            "Test RMSE:  0.025930012317311398\n",
            ", Number of layers:  2 , Hidden dimensions:  75 , Number of Epochs: 300\n",
            "Train RMSE:  0.03753216414624697\n",
            "Test RMSE:  0.025701703369978596\n",
            ", Number of layers:  2 , Hidden dimensions:  100 , Number of Epochs: 300\n",
            "Train RMSE:  0.03341000981088598\n",
            "Test RMSE:  0.022354090824034462\n",
            ", Number of layers:  3 , Hidden dimensions:  25 , Number of Epochs: 300\n",
            "Train RMSE:  0.033107402204919874\n",
            "Test RMSE:  0.021489094763043837\n",
            ", Number of layers:  3 , Hidden dimensions:  50 , Number of Epochs: 300\n",
            "Train RMSE:  0.03329678606583539\n",
            "Test RMSE:  0.023786203352736682\n",
            ", Number of layers:  3 , Hidden dimensions:  75 , Number of Epochs: 300\n",
            "Train RMSE:  0.03571192692892526\n",
            "Test RMSE:  0.025085368005477237\n",
            ", Number of layers:  3 , Hidden dimensions:  100 , Number of Epochs: 300\n",
            "Train RMSE:  0.03304586086847676\n",
            "Test RMSE:  0.025734679468712787\n",
            ", Number of layers:  4 , Hidden dimensions:  25 , Number of Epochs: 300\n",
            "Train RMSE:  0.03287228731718569\n",
            "Test RMSE:  0.024845762579899025\n",
            ", Number of layers:  4 , Hidden dimensions:  50 , Number of Epochs: 300\n",
            "Train RMSE:  0.03436929529440003\n",
            "Test RMSE:  0.03669645185328134\n",
            ", Number of layers:  4 , Hidden dimensions:  75 , Number of Epochs: 300\n",
            "Train RMSE:  0.21638754271477698\n",
            "Test RMSE:  0.41788941815897884\n",
            ", Number of layers:  4 , Hidden dimensions:  100 , Number of Epochs: 300\n",
            "Train RMSE:  0.053127775137307875\n",
            "Test RMSE:  0.06209503231646736\n",
            ", Number of layers:  5 , Hidden dimensions:  25 , Number of Epochs: 300\n",
            "Train RMSE:  0.033622198963913566\n",
            "Test RMSE:  0.029796518050492708\n",
            ", Number of layers:  5 , Hidden dimensions:  50 , Number of Epochs: 300\n",
            "Train RMSE:  0.03950850411215766\n",
            "Test RMSE:  0.03327181666739832\n",
            ", Number of layers:  5 , Hidden dimensions:  75 , Number of Epochs: 300\n",
            "Train RMSE:  0.03315511029724594\n",
            "Test RMSE:  0.02978329574527532\n",
            ", Number of layers:  5 , Hidden dimensions:  100 , Number of Epochs: 300\n",
            "Train RMSE:  0.03352525591302348\n",
            "Test RMSE:  0.023743607372845633\n",
            ", Number of layers:  2 , Hidden dimensions:  25 , Number of Epochs: 400\n",
            "Train RMSE:  0.0349676034608799\n",
            "Test RMSE:  0.023962226668815253\n",
            ", Number of layers:  2 , Hidden dimensions:  50 , Number of Epochs: 400\n",
            "Train RMSE:  0.03473805173930846\n",
            "Test RMSE:  0.023677432286054217\n",
            ", Number of layers:  2 , Hidden dimensions:  75 , Number of Epochs: 400\n",
            "Train RMSE:  0.034579358560680715\n",
            "Test RMSE:  0.022948899165424065\n",
            ", Number of layers:  2 , Hidden dimensions:  100 , Number of Epochs: 400\n",
            "Train RMSE:  0.03396337212296876\n",
            "Test RMSE:  0.022928898519949916\n",
            ", Number of layers:  3 , Hidden dimensions:  25 , Number of Epochs: 400\n",
            "Train RMSE:  0.032922677069368404\n",
            "Test RMSE:  0.02127900640719211\n",
            ", Number of layers:  3 , Hidden dimensions:  50 , Number of Epochs: 400\n",
            "Train RMSE:  0.036678440968596474\n",
            "Test RMSE:  0.022124143112673907\n",
            ", Number of layers:  3 , Hidden dimensions:  75 , Number of Epochs: 400\n",
            "Train RMSE:  0.03672614764963366\n",
            "Test RMSE:  0.025029861043464992\n",
            ", Number of layers:  3 , Hidden dimensions:  100 , Number of Epochs: 400\n",
            "Train RMSE:  0.03284474460305395\n",
            "Test RMSE:  0.02502309865518167\n",
            ", Number of layers:  4 , Hidden dimensions:  25 , Number of Epochs: 400\n",
            "Train RMSE:  0.03276107851728483\n",
            "Test RMSE:  0.02951541591405394\n",
            ", Number of layers:  4 , Hidden dimensions:  50 , Number of Epochs: 400\n",
            "Train RMSE:  0.03348918536320795\n",
            "Test RMSE:  0.03206330547496832\n",
            ", Number of layers:  4 , Hidden dimensions:  75 , Number of Epochs: 400\n",
            "Train RMSE:  0.03700577240233696\n",
            "Test RMSE:  0.04624221781391143\n",
            ", Number of layers:  4 , Hidden dimensions:  100 , Number of Epochs: 400\n",
            "Train RMSE:  0.031693498488431386\n",
            "Test RMSE:  0.03170722395554141\n",
            ", Number of layers:  5 , Hidden dimensions:  25 , Number of Epochs: 400\n",
            "Train RMSE:  0.032527706834015686\n",
            "Test RMSE:  0.021745435417044025\n",
            ", Number of layers:  5 , Hidden dimensions:  50 , Number of Epochs: 400\n",
            "Train RMSE:  0.03299684822093355\n",
            "Test RMSE:  0.022890821940629438\n",
            ", Number of layers:  5 , Hidden dimensions:  75 , Number of Epochs: 400\n",
            "Train RMSE:  0.03275094424646903\n",
            "Test RMSE:  0.024888221625888204\n",
            ", Number of layers:  5 , Hidden dimensions:  100 , Number of Epochs: 400\n",
            "Optimum Number of layers: 3 Optimum Hidden dimensions: 50 Optimum Number of Epochs: 400 Test RMSE: 0.02127900640719211\n"
          ]
        }
      ]
    },
    {
      "cell_type": "code",
      "source": [
        "summary_df = pd.DataFrame(summary)\n",
        "summary_df"
      ],
      "metadata": {
        "id": "KeXNdqYoWZmA",
        "outputId": "1c8fe20a-155f-4a84-cd58-ca3afd0b3cb9",
        "colab": {
          "base_uri": "https://localhost:8080/",
          "height": 424
        }
      },
      "execution_count": 28,
      "outputs": [
        {
          "output_type": "execute_result",
          "data": {
            "text/plain": [
              "    Number of layers  Hidden dimensions  Number of Epochs  Train RMSE  \\\n",
              "0                  2                 25               100    0.047346   \n",
              "1                  2                 50               100    0.047227   \n",
              "2                  2                 75               100    0.048478   \n",
              "3                  2                100               100    0.051000   \n",
              "4                  3                 25               100    0.048543   \n",
              "..               ...                ...               ...         ...   \n",
              "59                 4                100               400    0.037006   \n",
              "60                 5                 25               400    0.031693   \n",
              "61                 5                 50               400    0.032528   \n",
              "62                 5                 75               400    0.032997   \n",
              "63                 5                100               400    0.032751   \n",
              "\n",
              "    Test RMSE  \n",
              "0    0.049945  \n",
              "1    0.041465  \n",
              "2    0.045794  \n",
              "3    0.047395  \n",
              "4    0.035170  \n",
              "..        ...  \n",
              "59   0.046242  \n",
              "60   0.031707  \n",
              "61   0.021745  \n",
              "62   0.022891  \n",
              "63   0.024888  \n",
              "\n",
              "[64 rows x 5 columns]"
            ],
            "text/html": [
              "\n",
              "  <div id=\"df-542eafad-eba0-45ec-a0f7-e81c7f959080\" class=\"colab-df-container\">\n",
              "    <div>\n",
              "<style scoped>\n",
              "    .dataframe tbody tr th:only-of-type {\n",
              "        vertical-align: middle;\n",
              "    }\n",
              "\n",
              "    .dataframe tbody tr th {\n",
              "        vertical-align: top;\n",
              "    }\n",
              "\n",
              "    .dataframe thead th {\n",
              "        text-align: right;\n",
              "    }\n",
              "</style>\n",
              "<table border=\"1\" class=\"dataframe\">\n",
              "  <thead>\n",
              "    <tr style=\"text-align: right;\">\n",
              "      <th></th>\n",
              "      <th>Number of layers</th>\n",
              "      <th>Hidden dimensions</th>\n",
              "      <th>Number of Epochs</th>\n",
              "      <th>Train RMSE</th>\n",
              "      <th>Test RMSE</th>\n",
              "    </tr>\n",
              "  </thead>\n",
              "  <tbody>\n",
              "    <tr>\n",
              "      <th>0</th>\n",
              "      <td>2</td>\n",
              "      <td>25</td>\n",
              "      <td>100</td>\n",
              "      <td>0.047346</td>\n",
              "      <td>0.049945</td>\n",
              "    </tr>\n",
              "    <tr>\n",
              "      <th>1</th>\n",
              "      <td>2</td>\n",
              "      <td>50</td>\n",
              "      <td>100</td>\n",
              "      <td>0.047227</td>\n",
              "      <td>0.041465</td>\n",
              "    </tr>\n",
              "    <tr>\n",
              "      <th>2</th>\n",
              "      <td>2</td>\n",
              "      <td>75</td>\n",
              "      <td>100</td>\n",
              "      <td>0.048478</td>\n",
              "      <td>0.045794</td>\n",
              "    </tr>\n",
              "    <tr>\n",
              "      <th>3</th>\n",
              "      <td>2</td>\n",
              "      <td>100</td>\n",
              "      <td>100</td>\n",
              "      <td>0.051000</td>\n",
              "      <td>0.047395</td>\n",
              "    </tr>\n",
              "    <tr>\n",
              "      <th>4</th>\n",
              "      <td>3</td>\n",
              "      <td>25</td>\n",
              "      <td>100</td>\n",
              "      <td>0.048543</td>\n",
              "      <td>0.035170</td>\n",
              "    </tr>\n",
              "    <tr>\n",
              "      <th>...</th>\n",
              "      <td>...</td>\n",
              "      <td>...</td>\n",
              "      <td>...</td>\n",
              "      <td>...</td>\n",
              "      <td>...</td>\n",
              "    </tr>\n",
              "    <tr>\n",
              "      <th>59</th>\n",
              "      <td>4</td>\n",
              "      <td>100</td>\n",
              "      <td>400</td>\n",
              "      <td>0.037006</td>\n",
              "      <td>0.046242</td>\n",
              "    </tr>\n",
              "    <tr>\n",
              "      <th>60</th>\n",
              "      <td>5</td>\n",
              "      <td>25</td>\n",
              "      <td>400</td>\n",
              "      <td>0.031693</td>\n",
              "      <td>0.031707</td>\n",
              "    </tr>\n",
              "    <tr>\n",
              "      <th>61</th>\n",
              "      <td>5</td>\n",
              "      <td>50</td>\n",
              "      <td>400</td>\n",
              "      <td>0.032528</td>\n",
              "      <td>0.021745</td>\n",
              "    </tr>\n",
              "    <tr>\n",
              "      <th>62</th>\n",
              "      <td>5</td>\n",
              "      <td>75</td>\n",
              "      <td>400</td>\n",
              "      <td>0.032997</td>\n",
              "      <td>0.022891</td>\n",
              "    </tr>\n",
              "    <tr>\n",
              "      <th>63</th>\n",
              "      <td>5</td>\n",
              "      <td>100</td>\n",
              "      <td>400</td>\n",
              "      <td>0.032751</td>\n",
              "      <td>0.024888</td>\n",
              "    </tr>\n",
              "  </tbody>\n",
              "</table>\n",
              "<p>64 rows × 5 columns</p>\n",
              "</div>\n",
              "    <div class=\"colab-df-buttons\">\n",
              "\n",
              "  <div class=\"colab-df-container\">\n",
              "    <button class=\"colab-df-convert\" onclick=\"convertToInteractive('df-542eafad-eba0-45ec-a0f7-e81c7f959080')\"\n",
              "            title=\"Convert this dataframe to an interactive table.\"\n",
              "            style=\"display:none;\">\n",
              "\n",
              "  <svg xmlns=\"http://www.w3.org/2000/svg\" height=\"24px\" viewBox=\"0 -960 960 960\">\n",
              "    <path d=\"M120-120v-720h720v720H120Zm60-500h600v-160H180v160Zm220 220h160v-160H400v160Zm0 220h160v-160H400v160ZM180-400h160v-160H180v160Zm440 0h160v-160H620v160ZM180-180h160v-160H180v160Zm440 0h160v-160H620v160Z\"/>\n",
              "  </svg>\n",
              "    </button>\n",
              "\n",
              "  <style>\n",
              "    .colab-df-container {\n",
              "      display:flex;\n",
              "      gap: 12px;\n",
              "    }\n",
              "\n",
              "    .colab-df-convert {\n",
              "      background-color: #E8F0FE;\n",
              "      border: none;\n",
              "      border-radius: 50%;\n",
              "      cursor: pointer;\n",
              "      display: none;\n",
              "      fill: #1967D2;\n",
              "      height: 32px;\n",
              "      padding: 0 0 0 0;\n",
              "      width: 32px;\n",
              "    }\n",
              "\n",
              "    .colab-df-convert:hover {\n",
              "      background-color: #E2EBFA;\n",
              "      box-shadow: 0px 1px 2px rgba(60, 64, 67, 0.3), 0px 1px 3px 1px rgba(60, 64, 67, 0.15);\n",
              "      fill: #174EA6;\n",
              "    }\n",
              "\n",
              "    .colab-df-buttons div {\n",
              "      margin-bottom: 4px;\n",
              "    }\n",
              "\n",
              "    [theme=dark] .colab-df-convert {\n",
              "      background-color: #3B4455;\n",
              "      fill: #D2E3FC;\n",
              "    }\n",
              "\n",
              "    [theme=dark] .colab-df-convert:hover {\n",
              "      background-color: #434B5C;\n",
              "      box-shadow: 0px 1px 3px 1px rgba(0, 0, 0, 0.15);\n",
              "      filter: drop-shadow(0px 1px 2px rgba(0, 0, 0, 0.3));\n",
              "      fill: #FFFFFF;\n",
              "    }\n",
              "  </style>\n",
              "\n",
              "    <script>\n",
              "      const buttonEl =\n",
              "        document.querySelector('#df-542eafad-eba0-45ec-a0f7-e81c7f959080 button.colab-df-convert');\n",
              "      buttonEl.style.display =\n",
              "        google.colab.kernel.accessAllowed ? 'block' : 'none';\n",
              "\n",
              "      async function convertToInteractive(key) {\n",
              "        const element = document.querySelector('#df-542eafad-eba0-45ec-a0f7-e81c7f959080');\n",
              "        const dataTable =\n",
              "          await google.colab.kernel.invokeFunction('convertToInteractive',\n",
              "                                                    [key], {});\n",
              "        if (!dataTable) return;\n",
              "\n",
              "        const docLinkHtml = 'Like what you see? Visit the ' +\n",
              "          '<a target=\"_blank\" href=https://colab.research.google.com/notebooks/data_table.ipynb>data table notebook</a>'\n",
              "          + ' to learn more about interactive tables.';\n",
              "        element.innerHTML = '';\n",
              "        dataTable['output_type'] = 'display_data';\n",
              "        await google.colab.output.renderOutput(dataTable, element);\n",
              "        const docLink = document.createElement('div');\n",
              "        docLink.innerHTML = docLinkHtml;\n",
              "        element.appendChild(docLink);\n",
              "      }\n",
              "    </script>\n",
              "  </div>\n",
              "\n",
              "\n",
              "<div id=\"df-05d1ea60-d825-4862-8367-61241cd21e79\">\n",
              "  <button class=\"colab-df-quickchart\" onclick=\"quickchart('df-05d1ea60-d825-4862-8367-61241cd21e79')\"\n",
              "            title=\"Suggest charts\"\n",
              "            style=\"display:none;\">\n",
              "\n",
              "<svg xmlns=\"http://www.w3.org/2000/svg\" height=\"24px\"viewBox=\"0 0 24 24\"\n",
              "     width=\"24px\">\n",
              "    <g>\n",
              "        <path d=\"M19 3H5c-1.1 0-2 .9-2 2v14c0 1.1.9 2 2 2h14c1.1 0 2-.9 2-2V5c0-1.1-.9-2-2-2zM9 17H7v-7h2v7zm4 0h-2V7h2v10zm4 0h-2v-4h2v4z\"/>\n",
              "    </g>\n",
              "</svg>\n",
              "  </button>\n",
              "\n",
              "<style>\n",
              "  .colab-df-quickchart {\n",
              "      --bg-color: #E8F0FE;\n",
              "      --fill-color: #1967D2;\n",
              "      --hover-bg-color: #E2EBFA;\n",
              "      --hover-fill-color: #174EA6;\n",
              "      --disabled-fill-color: #AAA;\n",
              "      --disabled-bg-color: #DDD;\n",
              "  }\n",
              "\n",
              "  [theme=dark] .colab-df-quickchart {\n",
              "      --bg-color: #3B4455;\n",
              "      --fill-color: #D2E3FC;\n",
              "      --hover-bg-color: #434B5C;\n",
              "      --hover-fill-color: #FFFFFF;\n",
              "      --disabled-bg-color: #3B4455;\n",
              "      --disabled-fill-color: #666;\n",
              "  }\n",
              "\n",
              "  .colab-df-quickchart {\n",
              "    background-color: var(--bg-color);\n",
              "    border: none;\n",
              "    border-radius: 50%;\n",
              "    cursor: pointer;\n",
              "    display: none;\n",
              "    fill: var(--fill-color);\n",
              "    height: 32px;\n",
              "    padding: 0;\n",
              "    width: 32px;\n",
              "  }\n",
              "\n",
              "  .colab-df-quickchart:hover {\n",
              "    background-color: var(--hover-bg-color);\n",
              "    box-shadow: 0 1px 2px rgba(60, 64, 67, 0.3), 0 1px 3px 1px rgba(60, 64, 67, 0.15);\n",
              "    fill: var(--button-hover-fill-color);\n",
              "  }\n",
              "\n",
              "  .colab-df-quickchart-complete:disabled,\n",
              "  .colab-df-quickchart-complete:disabled:hover {\n",
              "    background-color: var(--disabled-bg-color);\n",
              "    fill: var(--disabled-fill-color);\n",
              "    box-shadow: none;\n",
              "  }\n",
              "\n",
              "  .colab-df-spinner {\n",
              "    border: 2px solid var(--fill-color);\n",
              "    border-color: transparent;\n",
              "    border-bottom-color: var(--fill-color);\n",
              "    animation:\n",
              "      spin 1s steps(1) infinite;\n",
              "  }\n",
              "\n",
              "  @keyframes spin {\n",
              "    0% {\n",
              "      border-color: transparent;\n",
              "      border-bottom-color: var(--fill-color);\n",
              "      border-left-color: var(--fill-color);\n",
              "    }\n",
              "    20% {\n",
              "      border-color: transparent;\n",
              "      border-left-color: var(--fill-color);\n",
              "      border-top-color: var(--fill-color);\n",
              "    }\n",
              "    30% {\n",
              "      border-color: transparent;\n",
              "      border-left-color: var(--fill-color);\n",
              "      border-top-color: var(--fill-color);\n",
              "      border-right-color: var(--fill-color);\n",
              "    }\n",
              "    40% {\n",
              "      border-color: transparent;\n",
              "      border-right-color: var(--fill-color);\n",
              "      border-top-color: var(--fill-color);\n",
              "    }\n",
              "    60% {\n",
              "      border-color: transparent;\n",
              "      border-right-color: var(--fill-color);\n",
              "    }\n",
              "    80% {\n",
              "      border-color: transparent;\n",
              "      border-right-color: var(--fill-color);\n",
              "      border-bottom-color: var(--fill-color);\n",
              "    }\n",
              "    90% {\n",
              "      border-color: transparent;\n",
              "      border-bottom-color: var(--fill-color);\n",
              "    }\n",
              "  }\n",
              "</style>\n",
              "\n",
              "  <script>\n",
              "    async function quickchart(key) {\n",
              "      const quickchartButtonEl =\n",
              "        document.querySelector('#' + key + ' button');\n",
              "      quickchartButtonEl.disabled = true;  // To prevent multiple clicks.\n",
              "      quickchartButtonEl.classList.add('colab-df-spinner');\n",
              "      try {\n",
              "        const charts = await google.colab.kernel.invokeFunction(\n",
              "            'suggestCharts', [key], {});\n",
              "      } catch (error) {\n",
              "        console.error('Error during call to suggestCharts:', error);\n",
              "      }\n",
              "      quickchartButtonEl.classList.remove('colab-df-spinner');\n",
              "      quickchartButtonEl.classList.add('colab-df-quickchart-complete');\n",
              "    }\n",
              "    (() => {\n",
              "      let quickchartButtonEl =\n",
              "        document.querySelector('#df-05d1ea60-d825-4862-8367-61241cd21e79 button');\n",
              "      quickchartButtonEl.style.display =\n",
              "        google.colab.kernel.accessAllowed ? 'block' : 'none';\n",
              "    })();\n",
              "  </script>\n",
              "</div>\n",
              "\n",
              "  <div id=\"id_0b1c8539-f1cb-419c-a65f-c49051c35c0c\">\n",
              "    <style>\n",
              "      .colab-df-generate {\n",
              "        background-color: #E8F0FE;\n",
              "        border: none;\n",
              "        border-radius: 50%;\n",
              "        cursor: pointer;\n",
              "        display: none;\n",
              "        fill: #1967D2;\n",
              "        height: 32px;\n",
              "        padding: 0 0 0 0;\n",
              "        width: 32px;\n",
              "      }\n",
              "\n",
              "      .colab-df-generate:hover {\n",
              "        background-color: #E2EBFA;\n",
              "        box-shadow: 0px 1px 2px rgba(60, 64, 67, 0.3), 0px 1px 3px 1px rgba(60, 64, 67, 0.15);\n",
              "        fill: #174EA6;\n",
              "      }\n",
              "\n",
              "      [theme=dark] .colab-df-generate {\n",
              "        background-color: #3B4455;\n",
              "        fill: #D2E3FC;\n",
              "      }\n",
              "\n",
              "      [theme=dark] .colab-df-generate:hover {\n",
              "        background-color: #434B5C;\n",
              "        box-shadow: 0px 1px 3px 1px rgba(0, 0, 0, 0.15);\n",
              "        filter: drop-shadow(0px 1px 2px rgba(0, 0, 0, 0.3));\n",
              "        fill: #FFFFFF;\n",
              "      }\n",
              "    </style>\n",
              "    <button class=\"colab-df-generate\" onclick=\"generateWithVariable('summary_df')\"\n",
              "            title=\"Generate code using this dataframe.\"\n",
              "            style=\"display:none;\">\n",
              "\n",
              "  <svg xmlns=\"http://www.w3.org/2000/svg\" height=\"24px\"viewBox=\"0 0 24 24\"\n",
              "       width=\"24px\">\n",
              "    <path d=\"M7,19H8.4L18.45,9,17,7.55,7,17.6ZM5,21V16.75L18.45,3.32a2,2,0,0,1,2.83,0l1.4,1.43a1.91,1.91,0,0,1,.58,1.4,1.91,1.91,0,0,1-.58,1.4L9.25,21ZM18.45,9,17,7.55Zm-12,3A5.31,5.31,0,0,0,4.9,8.1,5.31,5.31,0,0,0,1,6.5,5.31,5.31,0,0,0,4.9,4.9,5.31,5.31,0,0,0,6.5,1,5.31,5.31,0,0,0,8.1,4.9,5.31,5.31,0,0,0,12,6.5,5.46,5.46,0,0,0,6.5,12Z\"/>\n",
              "  </svg>\n",
              "    </button>\n",
              "    <script>\n",
              "      (() => {\n",
              "      const buttonEl =\n",
              "        document.querySelector('#id_0b1c8539-f1cb-419c-a65f-c49051c35c0c button.colab-df-generate');\n",
              "      buttonEl.style.display =\n",
              "        google.colab.kernel.accessAllowed ? 'block' : 'none';\n",
              "\n",
              "      buttonEl.onclick = () => {\n",
              "        google.colab.notebook.generateWithVariable('summary_df');\n",
              "      }\n",
              "      })();\n",
              "    </script>\n",
              "  </div>\n",
              "\n",
              "    </div>\n",
              "  </div>\n"
            ],
            "application/vnd.google.colaboratory.intrinsic+json": {
              "type": "dataframe",
              "variable_name": "summary_df",
              "summary": "{\n  \"name\": \"summary_df\",\n  \"rows\": 64,\n  \"fields\": [\n    {\n      \"column\": \"Number of layers\",\n      \"properties\": {\n        \"dtype\": \"number\",\n        \"std\": 1,\n        \"min\": 2,\n        \"max\": 5,\n        \"num_unique_values\": 4,\n        \"samples\": [\n          3,\n          5,\n          2\n        ],\n        \"semantic_type\": \"\",\n        \"description\": \"\"\n      }\n    },\n    {\n      \"column\": \"Hidden dimensions\",\n      \"properties\": {\n        \"dtype\": \"number\",\n        \"std\": 28,\n        \"min\": 25,\n        \"max\": 100,\n        \"num_unique_values\": 4,\n        \"samples\": [\n          50,\n          100,\n          25\n        ],\n        \"semantic_type\": \"\",\n        \"description\": \"\"\n      }\n    },\n    {\n      \"column\": \"Number of Epochs\",\n      \"properties\": {\n        \"dtype\": \"number\",\n        \"std\": 112,\n        \"min\": 100,\n        \"max\": 400,\n        \"num_unique_values\": 4,\n        \"samples\": [\n          200,\n          400,\n          100\n        ],\n        \"semantic_type\": \"\",\n        \"description\": \"\"\n      }\n    },\n    {\n      \"column\": \"Train RMSE\",\n      \"properties\": {\n        \"dtype\": \"number\",\n        \"std\": 0.041566168391604964,\n        \"min\": 0.031693498488431386,\n        \"max\": 0.26167379534075896,\n        \"num_unique_values\": 64,\n        \"samples\": [\n          0.03396337212296876,\n          0.03348918536320795,\n          0.04734578251803505\n        ],\n        \"semantic_type\": \"\",\n        \"description\": \"\"\n      }\n    },\n    {\n      \"column\": \"Test RMSE\",\n      \"properties\": {\n        \"dtype\": \"number\",\n        \"std\": 0.10054332052645902,\n        \"min\": 0.02127900640719211,\n        \"max\": 0.6072966517074245,\n        \"num_unique_values\": 64,\n        \"samples\": [\n          0.022928898519949916,\n          0.03206330547496832,\n          0.0499454570532774\n        ],\n        \"semantic_type\": \"\",\n        \"description\": \"\"\n      }\n    }\n  ]\n}"
            }
          },
          "metadata": {},
          "execution_count": 28
        }
      ]
    },
    {
      "cell_type": "code",
      "source": [
        "train_min_idx = summary_df['Train RMSE'].idxmin()\n",
        "test_min_idx = summary_df['Test RMSE'].idxmin()\n",
        "\n",
        "train_min_row = summary_df.loc[train_min_idx]\n",
        "test_min_row = summary_df.loc[test_min_idx]\n",
        "\n",
        "# Display the results\n",
        "print(\"Row with the smallest Train Score: \", train_min_row)\n",
        "#print(train_min_row)\n",
        "print(\"\\nRow with the smallest Test Score: \", test_min_row)"
      ],
      "metadata": {
        "id": "S7QFS6lnk81d",
        "outputId": "9260f49d-63b1-4aa3-b5d3-493d43276d12",
        "colab": {
          "base_uri": "https://localhost:8080/"
        }
      },
      "execution_count": 29,
      "outputs": [
        {
          "output_type": "stream",
          "name": "stdout",
          "text": [
            "Row with the smallest Train Score:  Number of layers       5.000000\n",
            "Hidden dimensions     25.000000\n",
            "Number of Epochs     400.000000\n",
            "Train RMSE             0.031693\n",
            "Test RMSE              0.031707\n",
            "Name: 60, dtype: float64\n",
            "\n",
            "Row with the smallest Test Score:  Number of layers       3.000000\n",
            "Hidden dimensions     50.000000\n",
            "Number of Epochs     400.000000\n",
            "Train RMSE             0.032923\n",
            "Test RMSE              0.021279\n",
            "Name: 53, dtype: float64\n"
          ]
        }
      ]
    },
    {
      "cell_type": "code",
      "source": [
        "#from the above result, choose below parameters as the best\n",
        "input_dim = 1\n",
        "hidden_dim = 50\n",
        "num_layers = 3\n",
        "output_dim = 1\n",
        "num_epochs = 400\n",
        "dropout_rate = 0.3\n",
        "model, cr, optimizer = build_lstm_model(input_dim, hidden_dim, num_layers, output_dim, num_epochs, dropout_rate)\n",
        "y_train_pred, y_test_pred = train_model(model, cr, optimizer, x_train_torch, y_train_torch, x_test_torch, y_test_torch, num_epochs)\n"
      ],
      "metadata": {
        "id": "-CqHabQjGpY-"
      },
      "execution_count": 30,
      "outputs": []
    },
    {
      "cell_type": "code",
      "source": [
        "y_train.shape, y_train_pred.shape"
      ],
      "metadata": {
        "id": "Qjy2MfEiXcEF",
        "outputId": "2aeec5d5-846d-423f-9b7b-7aed8dc0962d",
        "colab": {
          "base_uri": "https://localhost:8080/"
        }
      },
      "execution_count": 31,
      "outputs": [
        {
          "output_type": "execute_result",
          "data": {
            "text/plain": [
              "((521, 1), torch.Size([521, 1]))"
            ]
          },
          "metadata": {},
          "execution_count": 31
        }
      ]
    },
    {
      "cell_type": "code",
      "source": [
        "#reverse normalization\n",
        "y_train = scaler.inverse_transform(y_train)\n",
        "y_train_pred = scaler.inverse_transform(y_train_pred.cpu().detach().numpy())\n",
        "y_test = scaler.inverse_transform(y_test)\n",
        "y_test_pred = scaler.inverse_transform(y_test_pred.cpu().detach().numpy())"
      ],
      "metadata": {
        "id": "En3ZnW5roKo_"
      },
      "execution_count": 32,
      "outputs": []
    },
    {
      "cell_type": "code",
      "source": [
        "y_test_pred[1]"
      ],
      "metadata": {
        "id": "EU1M9k2Mo2d5",
        "outputId": "d140c63f-37a9-4306-cfee-5b4bc81ee2df",
        "colab": {
          "base_uri": "https://localhost:8080/"
        }
      },
      "execution_count": 33,
      "outputs": [
        {
          "output_type": "execute_result",
          "data": {
            "text/plain": [
              "array([307.9978], dtype=float32)"
            ]
          },
          "metadata": {},
          "execution_count": 33
        }
      ]
    },
    {
      "cell_type": "code",
      "source": [
        "#original_train = pd.DataFrame(y_train)\n",
        "#predict_test = pd.DataFrame(y_test_pred)\n",
        "#original_test = pd.DataFrame(y_test)\n"
      ],
      "metadata": {
        "id": "fB7FdWSTGNwn"
      },
      "execution_count": 34,
      "outputs": []
    },
    {
      "cell_type": "code",
      "source": [
        "train_size = len(y_train)\n",
        "test_size = len(y_test)\n",
        "# Get the date ranges\n",
        "train_dates = df['Date'][:train_size]\n",
        "test_dates = df['Date'][train_size:train_size + test_size]\n",
        "\n",
        "# Plot\n",
        "plt.figure(figsize=(12, 6))\n",
        "plt.style.use('default')\n",
        "plt.plot(train_dates, y_train, label='Original Train', color = 'blue')\n",
        "plt.plot(test_dates, y_test, label='Original Test', color = 'orange')\n",
        "plt.plot(test_dates, y_test_pred, label='Predicted Test', linestyle='--', color = 'Red')\n",
        "plt.xlabel('Date')\n",
        "plt.ylabel('Price')\n",
        "plt.title('SBM - Prediction')\n",
        "plt.legend()\n",
        "plt.grid(True)\n",
        "plt.show()"
      ],
      "metadata": {
        "id": "lzhYLANzVO61",
        "outputId": "868775e4-d258-4e9f-f887-fe7a811bd07c",
        "colab": {
          "base_uri": "https://localhost:8080/",
          "height": 564
        }
      },
      "execution_count": 35,
      "outputs": [
        {
          "output_type": "display_data",
          "data": {
            "text/plain": [
              "<Figure size 1200x600 with 1 Axes>"
            ],
            "image/png": "[encoded data removed]"
          },
          "metadata": {}
        }
      ]
    },
    {
      "cell_type": "markdown",
      "source": [
        "#Get x days ahead worth of predictions"
      ],
      "metadata": {
        "id": "fTzSbb_QxH3-"
      }
    },
    {
      "cell_type": "code",
      "source": [
        "def predict_future(model, initial_input, future_steps, scaler=None):\n",
        "    \"\"\"\n",
        "    Predict future time steps using a trained LSTM model and inverse transform predictions if needed.\n",
        "\n",
        "    :param model: Trained LSTM model\n",
        "    :param initial_input: Torch tensor, last input sequence from the dataset\n",
        "    :param future_steps: Number of future steps to predict\n",
        "    :param scaler: Scaler used for normalization (e.g., MinMaxScaler). If None, assumes no scaling\n",
        "    :return: Numpy array of future predictions in the original scale\n",
        "    \"\"\"\n",
        "    model.eval()  # Set the model to evaluation mode\n",
        "    predictions = []\n",
        "    input_seq = initial_input.clone()  # Clone the input to avoid modifying the original\n",
        "\n",
        "    with torch.no_grad():\n",
        "        for step in range(future_steps):\n",
        "            # Add batch dimension if needed\n",
        "            if len(input_seq.shape) == 2:\n",
        "                input_seq = input_seq.unsqueeze(0)  # Shape: (1, seq_len, input_dim)\n",
        "\n",
        "            # Predict the next value\n",
        "            pred = model(input_seq)  # Output shape: (1, output_dim) or (1, seq_len, output_dim)\n",
        "\n",
        "            # Handle output dimensions dynamically\n",
        "            if pred.dim() == 3:  # [batch_size, seq_len, output_dim]\n",
        "                next_value = pred[:, -1, :]  # Get the last predicted value\n",
        "            elif pred.dim() == 2:  # [batch_size, output_dim]\n",
        "                next_value = pred  # Directly use the output\n",
        "\n",
        "            # Add sequence dimension to next_value: [batch_size, 1, output_dim]\n",
        "            next_value = next_value.unsqueeze(1)\n",
        "\n",
        "            # Append to predictions\n",
        "            predictions.append(next_value.squeeze().item())\n",
        "\n",
        "            # Update input_seq by dropping the first time step and appending next_value\n",
        "            input_seq = torch.cat((input_seq[:, 1:, :], next_value), dim=1)\n",
        "\n",
        "    # Convert to numpy array\n",
        "    predictions = np.array(predictions).reshape(-1, 1)  # Reshape for scaler\n",
        "\n",
        "    # Debug: Check predictions before inverse transform\n",
        "    print(\"Scaled predictions:\", predictions[:5])\n",
        "    #predictions = scaler.inverse_transform(predictions).flatten()\n",
        "    # Inverse transform if a scaler was used\n",
        "    #if scaler:\n",
        "        #predictions = scaler.inverse_transform(predictions).flatten()  # Convert back to original scale\n",
        "\n",
        "    # Debug: Check predictions after inverse transform\n",
        "    #print(\"Inverse transformed predictions:\", predictions[:5])\n",
        "\n",
        "    return predictions\n",
        "\n",
        "\n",
        "\n",
        "\n",
        "# Example usage\n",
        "future_steps = 90\n",
        "initial_input = x_test_torch[-1]  # Use the last input sequence from the test set\n",
        "future_predictions = predict_future(model, initial_input, future_steps)\n",
        "future_predictions = scaler.inverse_transform(future_predictions).flatten()\n",
        "import pandas as pd\n",
        "last_date = pd.to_datetime(df['Date'].iloc[-1])\n",
        "future_dates = [last_date + pd.Timedelta(days=i) for i in range(1, future_steps + 1)]\n",
        "\n",
        "# Plot future predictions\n",
        "import matplotlib.pyplot as plt\n",
        "\n",
        "plt.figure(figsize=(12, 6))\n",
        "plt.plot(future_dates, future_predictions, label='Future Predictions', linestyle='--', color='orange')\n",
        "plt.xlabel('Date')\n",
        "plt.ylabel('Value')\n",
        "plt.title('Future 90-Day Predictions')\n",
        "plt.legend()\n",
        "plt.grid(True)\n",
        "plt.show()"
      ],
      "metadata": {
        "id": "DMLPjsat2Gna",
        "outputId": "96e812db-0699-4738-831d-a35a6ee4e1c0",
        "colab": {
          "base_uri": "https://localhost:8080/",
          "height": 651
        }
      },
      "execution_count": 53,
      "outputs": [
        {
          "output_type": "stream",
          "name": "stdout",
          "text": [
            "Scaled predictions: [[0.14645818]\n",
            " [0.1475824 ]\n",
            " [0.15313965]\n",
            " [0.15342236]\n",
            " [0.15181738]]\n"
          ]
        },
        {
          "output_type": "display_data",
          "data": {
            "text/plain": [
              "<Figure size 1200x600 with 1 Axes>"
            ],
            "image/png": "[encoded data removed]"
          },
          "metadata": {}
        }
      ]
    },
    {
      "cell_type": "code",
      "source": [
        "plt.figure(figsize=(12, 6))\n",
        "plt.style.use('default')\n",
        "plt.plot(train_dates, y_train, label='Original Train', color = 'blue')\n",
        "plt.plot(test_dates, y_test, label='Original Test', color = 'orange')\n",
        "plt.plot(test_dates, y_test_pred, label='Predicted Test', linestyle='--', color = 'Red')\n",
        "plt.plot(future_dates, future_predictions, label='Future Predictions', linestyle='--', color='orange')\n",
        "plt.xlabel('Date')\n",
        "plt.ylabel('Price')\n",
        "plt.title('SBM - Prediction')\n",
        "plt.legend()\n",
        "plt.grid(True)\n",
        "plt.show()"
      ],
      "metadata": {
        "id": "Y6GQYFqCIs2v",
        "outputId": "a3e45b11-9d93-4def-fd01-950d924096e2",
        "colab": {
          "base_uri": "https://localhost:8080/",
          "height": 564
        }
      },
      "execution_count": 54,
      "outputs": [
        {
          "output_type": "display_data",
          "data": {
            "text/plain": [
              "<Figure size 1200x600 with 1 Axes>"
            ],
            "image/png": "[encoded data removed]"
          },
          "metadata": {}
        }
      ]
    },
    {
      "cell_type": "code",
      "source": [
        "  #Detach all torch tensors\n",
        "  x_train_torch = x_train_torch.cpu().detach().numpy()\n",
        "  x_test_torch = x_test_torch.cpu().detach()\n",
        "  y_train_torch = y_train_torch.cpu().detach().numpy()\n",
        "  y_test_torch = y_test_torch.cpu().detach().numpy()"
      ],
      "metadata": {
        "id": "wl8GLpqjbz5M"
      },
      "execution_count": null,
      "outputs": []
    }
  ],
  "metadata": {
    "colab": {
      "provenance": [],
      "gpuType": "T4",
      "include_colab_link": true
    },
    "kernelspec": {
      "display_name": "Python 3",
      "name": "python3"
    },
    "language_info": {
      "codemirror_mode": {
        "name": "ipython",
        "version": 3
      },
      "file_extension": ".py",
      "mimetype": "text/x-python",
      "name": "python",
      "nbconvert_exporter": "python",
      "pygments_lexer": "ipython3",
      "version": "3.11.5"
    },
    "accelerator": "GPU"
  },
  "nbformat": 4,
  "nbformat_minor": 0
}