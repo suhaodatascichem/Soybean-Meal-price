{
  "cells": [
    {
      "cell_type": "markdown",
      "metadata": {
        "id": "view-in-github",
        "colab_type": "text"
      },
      "source": [
        "<a href=\"https://colab.research.google.com/github/suhaodatascichem/Soybean-Meal-price/blob/main/Soybean%20meal.ipynb\" target=\"_parent\"><img src=\"https://colab.research.google.com/assets/colab-badge.svg\" alt=\"Open In Colab\"/></a>"
      ]
    },
    {
      "cell_type": "markdown",
      "source": [
        "# Import required libraries"
      ],
      "metadata": {
        "id": "HJ2eUlaZVw7L"
      }
    },
    {
      "cell_type": "code",
      "execution_count": 1,
      "metadata": {
        "id": "lWDl6nBj-0xx"
      },
      "outputs": [],
      "source": [
        "# required libraries\n",
        "import pandas as pd\n",
        "import numpy as np\n",
        "import datetime as dt\n",
        "\n",
        "# for plots\n",
        "import matplotlib.pyplot as plt\n",
        "import seaborn as sns"
      ]
    },
    {
      "cell_type": "code",
      "execution_count": 2,
      "metadata": {
        "id": "0aP0gYHY_AUU"
      },
      "outputs": [],
      "source": [
        "from sklearn.preprocessing import MinMaxScaler\n",
        "import math, time\n",
        "from sklearn.metrics import mean_squared_error\n",
        "import time\n",
        "from sklearn.metrics import mean_squared_error"
      ]
    },
    {
      "cell_type": "code",
      "execution_count": 3,
      "metadata": {
        "id": "ev8PGZHK_AXc"
      },
      "outputs": [],
      "source": [
        "import torch\n",
        "import torch.nn as nn\n",
        "from torch.utils.data import TensorDataset, DataLoader"
      ]
    },
    {
      "cell_type": "markdown",
      "source": [
        "# Read Data"
      ],
      "metadata": {
        "id": "GSk0SaQbVqAI"
      }
    },
    {
      "cell_type": "code",
      "source": [
        "# mount google drive\n",
        "from google.colab import drive\n",
        "drive.mount('/content/drive')"
      ],
      "metadata": {
        "id": "puC24YVvZj34",
        "outputId": "71f32eae-97d9-4ab5-edbb-eb7d027d74f2",
        "colab": {
          "base_uri": "https://localhost:8080/"
        }
      },
      "execution_count": 4,
      "outputs": [
        {
          "output_type": "stream",
          "name": "stdout",
          "text": [
            "Mounted at /content/drive\n"
          ]
        }
      ]
    },
    {
      "cell_type": "code",
      "source": [
        "files = '/content/drive/MyDrive/Soybean meal price/US Soybean Meal Futures Historical Data-daily.csv'\n",
        "df_raw = pd.read_csv(files)\n"
      ],
      "metadata": {
        "id": "WdzRm3DIjtqp"
      },
      "execution_count": 5,
      "outputs": []
    },
    {
      "cell_type": "code",
      "source": [
        "startdate = df_raw['Date'].min()\n",
        "print('startdate is '+ startdate)\n"
      ],
      "metadata": {
        "id": "akKnr5iccIK5",
        "outputId": "eeafb5ad-171f-4cb4-ec30-0b4270402a9c",
        "colab": {
          "base_uri": "https://localhost:8080/"
        }
      },
      "execution_count": 6,
      "outputs": [
        {
          "output_type": "stream",
          "name": "stdout",
          "text": [
            "startdate is 01/01/2020\n"
          ]
        }
      ]
    },
    {
      "cell_type": "code",
      "source": [
        "df_raw.head(1)"
      ],
      "metadata": {
        "id": "Kl3EjYmhdKXB",
        "outputId": "7901856b-8fd9-4854-f8b4-4052fe7c9465",
        "colab": {
          "base_uri": "https://localhost:8080/",
          "height": 81
        }
      },
      "execution_count": 7,
      "outputs": [
        {
          "output_type": "execute_result",
          "data": {
            "text/plain": [
              "         Date  Price   Open   High    Low Vol. Change %\n",
              "0  12/27/2024  310.5  315.2  315.6  310.1  NaN   -1.40%"
            ],
            "text/html": [
              "\n",
              "  <div id=\"df-9a081312-6fdd-445a-95ec-83e4c5bd81dd\" class=\"colab-df-container\">\n",
              "    <div>\n",
              "<style scoped>\n",
              "    .dataframe tbody tr th:only-of-type {\n",
              "        vertical-align: middle;\n",
              "    }\n",
              "\n",
              "    .dataframe tbody tr th {\n",
              "        vertical-align: top;\n",
              "    }\n",
              "\n",
              "    .dataframe thead th {\n",
              "        text-align: right;\n",
              "    }\n",
              "</style>\n",
              "<table border=\"1\" class=\"dataframe\">\n",
              "  <thead>\n",
              "    <tr style=\"text-align: right;\">\n",
              "      <th></th>\n",
              "      <th>Date</th>\n",
              "      <th>Price</th>\n",
              "      <th>Open</th>\n",
              "      <th>High</th>\n",
              "      <th>Low</th>\n",
              "      <th>Vol.</th>\n",
              "      <th>Change %</th>\n",
              "    </tr>\n",
              "  </thead>\n",
              "  <tbody>\n",
              "    <tr>\n",
              "      <th>0</th>\n",
              "      <td>12/27/2024</td>\n",
              "      <td>310.5</td>\n",
              "      <td>315.2</td>\n",
              "      <td>315.6</td>\n",
              "      <td>310.1</td>\n",
              "      <td>NaN</td>\n",
              "      <td>-1.40%</td>\n",
              "    </tr>\n",
              "  </tbody>\n",
              "</table>\n",
              "</div>\n",
              "    <div class=\"colab-df-buttons\">\n",
              "\n",
              "  <div class=\"colab-df-container\">\n",
              "    <button class=\"colab-df-convert\" onclick=\"convertToInteractive('df-9a081312-6fdd-445a-95ec-83e4c5bd81dd')\"\n",
              "            title=\"Convert this dataframe to an interactive table.\"\n",
              "            style=\"display:none;\">\n",
              "\n",
              "  <svg xmlns=\"http://www.w3.org/2000/svg\" height=\"24px\" viewBox=\"0 -960 960 960\">\n",
              "    <path d=\"M120-120v-720h720v720H120Zm60-500h600v-160H180v160Zm220 220h160v-160H400v160Zm0 220h160v-160H400v160ZM180-400h160v-160H180v160Zm440 0h160v-160H620v160ZM180-180h160v-160H180v160Zm440 0h160v-160H620v160Z\"/>\n",
              "  </svg>\n",
              "    </button>\n",
              "\n",
              "  <style>\n",
              "    .colab-df-container {\n",
              "      display:flex;\n",
              "      gap: 12px;\n",
              "    }\n",
              "\n",
              "    .colab-df-convert {\n",
              "      background-color: #E8F0FE;\n",
              "      border: none;\n",
              "      border-radius: 50%;\n",
              "      cursor: pointer;\n",
              "      display: none;\n",
              "      fill: #1967D2;\n",
              "      height: 32px;\n",
              "      padding: 0 0 0 0;\n",
              "      width: 32px;\n",
              "    }\n",
              "\n",
              "    .colab-df-convert:hover {\n",
              "      background-color: #E2EBFA;\n",
              "      box-shadow: 0px 1px 2px rgba(60, 64, 67, 0.3), 0px 1px 3px 1px rgba(60, 64, 67, 0.15);\n",
              "      fill: #174EA6;\n",
              "    }\n",
              "\n",
              "    .colab-df-buttons div {\n",
              "      margin-bottom: 4px;\n",
              "    }\n",
              "\n",
              "    [theme=dark] .colab-df-convert {\n",
              "      background-color: #3B4455;\n",
              "      fill: #D2E3FC;\n",
              "    }\n",
              "\n",
              "    [theme=dark] .colab-df-convert:hover {\n",
              "      background-color: #434B5C;\n",
              "      box-shadow: 0px 1px 3px 1px rgba(0, 0, 0, 0.15);\n",
              "      filter: drop-shadow(0px 1px 2px rgba(0, 0, 0, 0.3));\n",
              "      fill: #FFFFFF;\n",
              "    }\n",
              "  </style>\n",
              "\n",
              "    <script>\n",
              "      const buttonEl =\n",
              "        document.querySelector('#df-9a081312-6fdd-445a-95ec-83e4c5bd81dd button.colab-df-convert');\n",
              "      buttonEl.style.display =\n",
              "        google.colab.kernel.accessAllowed ? 'block' : 'none';\n",
              "\n",
              "      async function convertToInteractive(key) {\n",
              "        const element = document.querySelector('#df-9a081312-6fdd-445a-95ec-83e4c5bd81dd');\n",
              "        const dataTable =\n",
              "          await google.colab.kernel.invokeFunction('convertToInteractive',\n",
              "                                                    [key], {});\n",
              "        if (!dataTable) return;\n",
              "\n",
              "        const docLinkHtml = 'Like what you see? Visit the ' +\n",
              "          '<a target=\"_blank\" href=https://colab.research.google.com/notebooks/data_table.ipynb>data table notebook</a>'\n",
              "          + ' to learn more about interactive tables.';\n",
              "        element.innerHTML = '';\n",
              "        dataTable['output_type'] = 'display_data';\n",
              "        await google.colab.output.renderOutput(dataTable, element);\n",
              "        const docLink = document.createElement('div');\n",
              "        docLink.innerHTML = docLinkHtml;\n",
              "        element.appendChild(docLink);\n",
              "      }\n",
              "    </script>\n",
              "  </div>\n",
              "\n",
              "\n",
              "    </div>\n",
              "  </div>\n"
            ],
            "application/vnd.google.colaboratory.intrinsic+json": {
              "type": "dataframe",
              "variable_name": "df_raw",
              "summary": "{\n  \"name\": \"df_raw\",\n  \"rows\": 2058,\n  \"fields\": [\n    {\n      \"column\": \"Date\",\n      \"properties\": {\n        \"dtype\": \"object\",\n        \"num_unique_values\": 2058,\n        \"samples\": [\n          \"12/16/2019\",\n          \"09/08/2022\",\n          \"11/18/2019\"\n        ],\n        \"semantic_type\": \"\",\n        \"description\": \"\"\n      }\n    },\n    {\n      \"column\": \"Price\",\n      \"properties\": {\n        \"dtype\": \"number\",\n        \"std\": 54.103410130675435,\n        \"min\": 282.0,\n        \"max\": 493.4,\n        \"num_unique_values\": 1168,\n        \"samples\": [\n          356.5,\n          319.8,\n          326.8\n        ],\n        \"semantic_type\": \"\",\n        \"description\": \"\"\n      }\n    },\n    {\n      \"column\": \"Open\",\n      \"properties\": {\n        \"dtype\": \"number\",\n        \"std\": 54.030245678663235,\n        \"min\": 282.0,\n        \"max\": 493.3,\n        \"num_unique_values\": 1141,\n        \"samples\": [\n          385.0,\n          305.3,\n          398.3\n        ],\n        \"semantic_type\": \"\",\n        \"description\": \"\"\n      }\n    },\n    {\n      \"column\": \"High\",\n      \"properties\": {\n        \"dtype\": \"number\",\n        \"std\": 55.321191608468915,\n        \"min\": 283.55,\n        \"max\": 498.0,\n        \"num_unique_values\": 1169,\n        \"samples\": [\n          356.2,\n          321.9,\n          345.8\n        ],\n        \"semantic_type\": \"\",\n        \"description\": \"\"\n      }\n    },\n    {\n      \"column\": \"Low\",\n      \"properties\": {\n        \"dtype\": \"number\",\n        \"std\": 52.92671388959259,\n        \"min\": 281.9,\n        \"max\": 492.8,\n        \"num_unique_values\": 1142,\n        \"samples\": [\n          334.1,\n          390.6,\n          395.8\n        ],\n        \"semantic_type\": \"\",\n        \"description\": \"\"\n      }\n    },\n    {\n      \"column\": \"Vol.\",\n      \"properties\": {\n        \"dtype\": \"string\",\n        \"num_unique_values\": 1781,\n        \"samples\": [\n          \"13.20K\",\n          \"19.85K\",\n          \"68.39K\"\n        ],\n        \"semantic_type\": \"\",\n        \"description\": \"\"\n      }\n    },\n    {\n      \"column\": \"Change %\",\n      \"properties\": {\n        \"dtype\": \"category\",\n        \"num_unique_values\": 566,\n        \"samples\": [\n          \"-3.28%\",\n          \"-1.88%\",\n          \"-0.11%\"\n        ],\n        \"semantic_type\": \"\",\n        \"description\": \"\"\n      }\n    }\n  ]\n}"
            }
          },
          "metadata": {},
          "execution_count": 7
        }
      ]
    },
    {
      "cell_type": "code",
      "source": [
        "plt.plot(df_raw['Date'], df_raw[\"Price\"])\n",
        "plt.xlabel(\"Date\")\n",
        "plt.ylabel(\"Daily price\")\n",
        "plt.figure(figsize=(32,2))\n",
        "plt.show()"
      ],
      "metadata": {
        "id": "OLlgupQtI5jx",
        "outputId": "69112d9a-e1a4-45ae-b8dc-e603873e3838",
        "colab": {
          "base_uri": "https://localhost:8080/",
          "height": 466
        }
      },
      "execution_count": 8,
      "outputs": [
        {
          "output_type": "display_data",
          "data": {
            "text/plain": [
              "<Figure size 640x480 with 1 Axes>"
            ],
            "image/png": "[encoded data removed]"
          },
          "metadata": {}
        },
        {
          "output_type": "display_data",
          "data": {
            "text/plain": [
              "<Figure size 3200x200 with 0 Axes>"
            ]
          },
          "metadata": {}
        }
      ]
    },
    {
      "cell_type": "code",
      "source": [
        "df_raw['Date'] = pd.to_datetime(df_raw['Date'])\n",
        "# df = df_raw[(df_raw['Date'] > '2019-12-31') & (df_raw['Date'] < '2022-12-31')]\n",
        "df = df_raw[df_raw['Date'] > '2022-06-30']\n",
        "plt.plot(df['Date'], df[\"Price\"])\n",
        "plt.xlabel(\"Date\")\n",
        "plt.ylabel(\"Daily price\")\n",
        "plt.figure(figsize=(32,2))\n",
        "plt.show()"
      ],
      "metadata": {
        "id": "6FjYD8K_xeaM",
        "colab": {
          "base_uri": "https://localhost:8080/",
          "height": 466
        },
        "outputId": "b9c76178-f104-49c6-b9c0-0f86ee8759ca"
      },
      "execution_count": 9,
      "outputs": [
        {
          "output_type": "display_data",
          "data": {
            "text/plain": [
              "<Figure size 640x480 with 1 Axes>"
            ],
            "image/png": "[encoded data removed]"
          },
          "metadata": {}
        },
        {
          "output_type": "display_data",
          "data": {
            "text/plain": [
              "<Figure size 3200x200 with 0 Axes>"
            ]
          },
          "metadata": {}
        }
      ]
    },
    {
      "cell_type": "code",
      "source": [
        "# min-max nomalization\n",
        "from sklearn.preprocessing import MinMaxScaler\n",
        "\n",
        "scaler = MinMaxScaler(feature_range=(0, 1))\n",
        "df[['Price']] = scaler.fit_transform(df[['Price']])"
      ],
      "metadata": {
        "id": "A80wLBUot7Hv",
        "outputId": "2051ac13-796d-40ef-f0c6-7b1e45fc4051",
        "colab": {
          "base_uri": "https://localhost:8080/"
        }
      },
      "execution_count": 10,
      "outputs": [
        {
          "output_type": "stream",
          "name": "stderr",
          "text": [
            "<ipython-input-10-bcbce0cf0b0b>:5: SettingWithCopyWarning: \n",
            "A value is trying to be set on a copy of a slice from a DataFrame.\n",
            "Try using .loc[row_indexer,col_indexer] = value instead\n",
            "\n",
            "See the caveats in the documentation: https://pandas.pydata.org/pandas-docs/stable/user_guide/indexing.html#returning-a-view-versus-a-copy\n",
            "  df[['Price']] = scaler.fit_transform(df[['Price']])\n"
          ]
        }
      ]
    },
    {
      "cell_type": "code",
      "source": [
        "plt.plot(df['Date'], df[\"Price\"])\n",
        "plt.xlabel(\"Date\")\n",
        "plt.ylabel(\"Daily price\")\n",
        "plt.figure(figsize=(32,2))\n",
        "plt.show()"
      ],
      "metadata": {
        "id": "wB1NywveuGIi",
        "outputId": "f79a8b3b-f903-41c6-b230-2015b2a11eeb",
        "colab": {
          "base_uri": "https://localhost:8080/",
          "height": 466
        }
      },
      "execution_count": 11,
      "outputs": [
        {
          "output_type": "display_data",
          "data": {
            "text/plain": [
              "<Figure size 640x480 with 1 Axes>"
            ],
            "image/png": "[encoded data removed]"
          },
          "metadata": {}
        },
        {
          "output_type": "display_data",
          "data": {
            "text/plain": [
              "<Figure size 3200x200 with 0 Axes>"
            ]
          },
          "metadata": {}
        }
      ]
    },
    {
      "cell_type": "markdown",
      "source": [
        "# LSTM only consider the period after covid, 2022-07 onwards"
      ],
      "metadata": {
        "id": "RXCm1osZLlWP"
      }
    },
    {
      "cell_type": "markdown",
      "metadata": {
        "id": "Ey6mH5e6-5dH"
      },
      "source": [
        "## Data Prep"
      ]
    },
    {
      "cell_type": "code",
      "source": [
        "#Function to perform the train test split on the df based on the desired window_size (ws)\n",
        "def train_test_prep(series, x_variables, y_variables,  window_size, test_size):\n",
        "  # series should be a numpy series\n",
        "  x_series = series[x_variables].to_numpy()\n",
        "  y_series = series[y_variables].to_numpy()\n",
        "\n",
        "  x_data = []\n",
        "  y_data = []\n",
        "  for i in range(len(x_series) - window_size):\n",
        "    x_data.append(x_series[i: i+window_size])\n",
        "    y_data.append(y_series[i+window_size])\n",
        "  x_data = np.array(x_data)\n",
        "  y_data = np.array(y_data)\n",
        "\n",
        "  train_size = x_data.shape[0] - test_size\n",
        "\n",
        "  train_x = x_data[:train_size, :,:]\n",
        "  train_y = y_data[:train_size, :]\n",
        "\n",
        "  test_x = x_data[train_size:train_size+test_size, :,:]\n",
        "  test_y = y_data[train_size:train_size+test_size:, :]\n",
        "\n",
        "  return [train_x, train_y, test_x, test_y]"
      ],
      "metadata": {
        "id": "du2Bh7tDSZx1"
      },
      "execution_count": 12,
      "outputs": []
    },
    {
      "cell_type": "code",
      "source": [
        "ws = 30\n",
        "test_size = 180"
      ],
      "metadata": {
        "id": "l-pAntwd5LcY"
      },
      "execution_count": 13,
      "outputs": []
    },
    {
      "cell_type": "code",
      "execution_count": 14,
      "metadata": {
        "id": "5PSrzvxwqv55"
      },
      "outputs": [],
      "source": [
        "x_train, y_train, x_test, y_test = train_test_prep(df, [\"Price\"],[\"Price\"], ws,test_size)"
      ]
    },
    {
      "cell_type": "code",
      "source": [
        "x_train.shape, x_test.shape, y_train.shape, y_test.shape"
      ],
      "metadata": {
        "id": "h3uHiaRJVCkN",
        "colab": {
          "base_uri": "https://localhost:8080/"
        },
        "outputId": "b06e5e4b-e8fa-4585-84a0-53565fc395d8"
      },
      "execution_count": 15,
      "outputs": [
        {
          "output_type": "execute_result",
          "data": {
            "text/plain": [
              "((431, 30, 1), (180, 30, 1), (431, 1), (180, 1))"
            ]
          },
          "metadata": {},
          "execution_count": 15
        }
      ]
    },
    {
      "cell_type": "code",
      "source": [
        "#Function to obtain train, test data as tensors for torch\n",
        "def array_to_tensor(x_train, x_test, y_train, y_test):\n",
        "  x_train_torch = torch.from_numpy(x_train).type(torch.Tensor).cuda()\n",
        "  x_test_torch = torch.from_numpy(x_test).type(torch.Tensor).cuda()\n",
        "  y_train_torch = torch.from_numpy(y_train).type(torch.Tensor).cuda()\n",
        "  y_test_torch = torch.from_numpy(y_test).type(torch.Tensor).cuda()\n",
        "  return x_train_torch, x_test_torch, y_train_torch, y_test_torch"
      ],
      "metadata": {
        "id": "rP4I-W8vXZ94"
      },
      "execution_count": 16,
      "outputs": []
    },
    {
      "cell_type": "code",
      "source": [
        "x_train_torch, x_test_torch, y_train_torch, y_test_torch = array_to_tensor(x_train, x_test, y_train, y_test)"
      ],
      "metadata": {
        "id": "tVVkPr0pXlK1",
        "outputId": "b3132dcd-791d-4017-81b2-8617edc1b7b2",
        "colab": {
          "base_uri": "https://localhost:8080/",
          "height": 287
        }
      },
      "execution_count": 17,
      "outputs": [
        {
          "output_type": "error",
          "ename": "RuntimeError",
          "evalue": "Found no NVIDIA driver on your system. Please check that you have an NVIDIA GPU and installed a driver from http://www.nvidia.com/Download/index.aspx",
          "traceback": [
            "\u001b[0;31m---------------------------------------------------------------------------\u001b[0m",
            "\u001b[0;31mRuntimeError\u001b[0m                              Traceback (most recent call last)",
            "\u001b[0;32m<ipython-input-17-997b1c0592f6>\u001b[0m in \u001b[0;36m<cell line: 1>\u001b[0;34m()\u001b[0m\n\u001b[0;32m----> 1\u001b[0;31m \u001b[0mx_train_torch\u001b[0m\u001b[0;34m,\u001b[0m \u001b[0mx_test_torch\u001b[0m\u001b[0;34m,\u001b[0m \u001b[0my_train_torch\u001b[0m\u001b[0;34m,\u001b[0m \u001b[0my_test_torch\u001b[0m \u001b[0;34m=\u001b[0m \u001b[0marray_to_tensor\u001b[0m\u001b[0;34m(\u001b[0m\u001b[0mx_train\u001b[0m\u001b[0;34m,\u001b[0m \u001b[0mx_test\u001b[0m\u001b[0;34m,\u001b[0m \u001b[0my_train\u001b[0m\u001b[0;34m,\u001b[0m \u001b[0my_test\u001b[0m\u001b[0;34m)\u001b[0m\u001b[0;34m\u001b[0m\u001b[0;34m\u001b[0m\u001b[0m\n\u001b[0m",
            "\u001b[0;32m<ipython-input-16-1cb2da483b1e>\u001b[0m in \u001b[0;36marray_to_tensor\u001b[0;34m(x_train, x_test, y_train, y_test)\u001b[0m\n\u001b[1;32m      1\u001b[0m \u001b[0;31m#Function to obtain train, test data as tensors for torch\u001b[0m\u001b[0;34m\u001b[0m\u001b[0;34m\u001b[0m\u001b[0m\n\u001b[1;32m      2\u001b[0m \u001b[0;32mdef\u001b[0m \u001b[0marray_to_tensor\u001b[0m\u001b[0;34m(\u001b[0m\u001b[0mx_train\u001b[0m\u001b[0;34m,\u001b[0m \u001b[0mx_test\u001b[0m\u001b[0;34m,\u001b[0m \u001b[0my_train\u001b[0m\u001b[0;34m,\u001b[0m \u001b[0my_test\u001b[0m\u001b[0;34m)\u001b[0m\u001b[0;34m:\u001b[0m\u001b[0;34m\u001b[0m\u001b[0;34m\u001b[0m\u001b[0m\n\u001b[0;32m----> 3\u001b[0;31m   \u001b[0mx_train_torch\u001b[0m \u001b[0;34m=\u001b[0m \u001b[0mtorch\u001b[0m\u001b[0;34m.\u001b[0m\u001b[0mfrom_numpy\u001b[0m\u001b[0;34m(\u001b[0m\u001b[0mx_train\u001b[0m\u001b[0;34m)\u001b[0m\u001b[0;34m.\u001b[0m\u001b[0mtype\u001b[0m\u001b[0;34m(\u001b[0m\u001b[0mtorch\u001b[0m\u001b[0;34m.\u001b[0m\u001b[0mTensor\u001b[0m\u001b[0;34m)\u001b[0m\u001b[0;34m.\u001b[0m\u001b[0mcuda\u001b[0m\u001b[0;34m(\u001b[0m\u001b[0;34m)\u001b[0m\u001b[0;34m\u001b[0m\u001b[0;34m\u001b[0m\u001b[0m\n\u001b[0m\u001b[1;32m      4\u001b[0m   \u001b[0mx_test_torch\u001b[0m \u001b[0;34m=\u001b[0m \u001b[0mtorch\u001b[0m\u001b[0;34m.\u001b[0m\u001b[0mfrom_numpy\u001b[0m\u001b[0;34m(\u001b[0m\u001b[0mx_test\u001b[0m\u001b[0;34m)\u001b[0m\u001b[0;34m.\u001b[0m\u001b[0mtype\u001b[0m\u001b[0;34m(\u001b[0m\u001b[0mtorch\u001b[0m\u001b[0;34m.\u001b[0m\u001b[0mTensor\u001b[0m\u001b[0;34m)\u001b[0m\u001b[0;34m.\u001b[0m\u001b[0mcuda\u001b[0m\u001b[0;34m(\u001b[0m\u001b[0;34m)\u001b[0m\u001b[0;34m\u001b[0m\u001b[0;34m\u001b[0m\u001b[0m\n\u001b[1;32m      5\u001b[0m   \u001b[0my_train_torch\u001b[0m \u001b[0;34m=\u001b[0m \u001b[0mtorch\u001b[0m\u001b[0;34m.\u001b[0m\u001b[0mfrom_numpy\u001b[0m\u001b[0;34m(\u001b[0m\u001b[0my_train\u001b[0m\u001b[0;34m)\u001b[0m\u001b[0;34m.\u001b[0m\u001b[0mtype\u001b[0m\u001b[0;34m(\u001b[0m\u001b[0mtorch\u001b[0m\u001b[0;34m.\u001b[0m\u001b[0mTensor\u001b[0m\u001b[0;34m)\u001b[0m\u001b[0;34m.\u001b[0m\u001b[0mcuda\u001b[0m\u001b[0;34m(\u001b[0m\u001b[0;34m)\u001b[0m\u001b[0;34m\u001b[0m\u001b[0;34m\u001b[0m\u001b[0m\n",
            "\u001b[0;32m/usr/local/lib/python3.10/dist-packages/torch/cuda/__init__.py\u001b[0m in \u001b[0;36m_lazy_init\u001b[0;34m()\u001b[0m\n\u001b[1;32m    317\u001b[0m         \u001b[0;32mif\u001b[0m \u001b[0;34m\"CUDA_MODULE_LOADING\"\u001b[0m \u001b[0;32mnot\u001b[0m \u001b[0;32min\u001b[0m \u001b[0mos\u001b[0m\u001b[0;34m.\u001b[0m\u001b[0menviron\u001b[0m\u001b[0;34m:\u001b[0m\u001b[0;34m\u001b[0m\u001b[0;34m\u001b[0m\u001b[0m\n\u001b[1;32m    318\u001b[0m             \u001b[0mos\u001b[0m\u001b[0;34m.\u001b[0m\u001b[0menviron\u001b[0m\u001b[0;34m[\u001b[0m\u001b[0;34m\"CUDA_MODULE_LOADING\"\u001b[0m\u001b[0;34m]\u001b[0m \u001b[0;34m=\u001b[0m \u001b[0;34m\"LAZY\"\u001b[0m\u001b[0;34m\u001b[0m\u001b[0;34m\u001b[0m\u001b[0m\n\u001b[0;32m--> 319\u001b[0;31m         \u001b[0mtorch\u001b[0m\u001b[0;34m.\u001b[0m\u001b[0m_C\u001b[0m\u001b[0;34m.\u001b[0m\u001b[0m_cuda_init\u001b[0m\u001b[0;34m(\u001b[0m\u001b[0;34m)\u001b[0m\u001b[0;34m\u001b[0m\u001b[0;34m\u001b[0m\u001b[0m\n\u001b[0m\u001b[1;32m    320\u001b[0m         \u001b[0;31m# Some of the queued calls may reentrantly call _lazy_init();\u001b[0m\u001b[0;34m\u001b[0m\u001b[0;34m\u001b[0m\u001b[0m\n\u001b[1;32m    321\u001b[0m         \u001b[0;31m# we need to just return without initializing in that case.\u001b[0m\u001b[0;34m\u001b[0m\u001b[0;34m\u001b[0m\u001b[0m\n",
            "\u001b[0;31mRuntimeError\u001b[0m: Found no NVIDIA driver on your system. Please check that you have an NVIDIA GPU and installed a driver from http://www.nvidia.com/Download/index.aspx"
          ]
        }
      ]
    },
    {
      "cell_type": "code",
      "source": [
        "x_train_torch.shape, x_test_torch.shape, y_train_torch.shape, y_test_torch.shape"
      ],
      "metadata": {
        "id": "uEZ_iuaCVXYR"
      },
      "execution_count": null,
      "outputs": []
    },
    {
      "cell_type": "markdown",
      "source": [
        "# Baseline model"
      ],
      "metadata": {
        "id": "KFNXecrkW4-3"
      }
    },
    {
      "cell_type": "code",
      "source": [
        "# base line model that uses the previous time stamp's demand as the predicted demand\n",
        "\n",
        "#function for baseline model\n",
        "def baseline_rmse(df, ws, y_train_data, column_name):\n",
        "  y_base_test = np.array(df[column_name][ws+y_train.shape[0]-1:-1],dtype=np.float32)\n",
        "  y_base_label = np.array(df[column_name][ws+y_train.shape[0]:],dtype=np.float32)\n",
        "\n",
        "  print(y_base_test, y_base_label)\n",
        "  rmse_loss_test = np.sqrt(mean_squared_error(y_base_test, y_base_label))\n",
        "  return rmse_loss_test"
      ],
      "metadata": {
        "id": "VgvhGAq-Puyj"
      },
      "execution_count": null,
      "outputs": []
    },
    {
      "cell_type": "code",
      "source": [
        "baseline_rmse(df, ws, y_train, 'Price')"
      ],
      "metadata": {
        "id": "-QRbM0_PP-Kf"
      },
      "execution_count": null,
      "outputs": []
    },
    {
      "cell_type": "markdown",
      "metadata": {
        "id": "73Ip-SqqS11j"
      },
      "source": [
        "# LSTM Model Architecture\n"
      ]
    },
    {
      "cell_type": "code",
      "execution_count": null,
      "metadata": {
        "id": "OEtzYAFbU01B"
      },
      "outputs": [],
      "source": [
        "class LSTM(nn.Module):\n",
        "    def __init__(self, input_dim, hidden_dim, num_layers, output_dim, num_epochs, dropout_rate):\n",
        "        super(LSTM, self).__init__()\n",
        "        self.hidden_dim = hidden_dim\n",
        "        self.num_layers = num_layers\n",
        "\n",
        "        self.lstm = nn.LSTM(input_dim, hidden_dim, num_layers, batch_first=True)\n",
        "        self.fc = nn.Linear(hidden_dim, output_dim)\n",
        "\n",
        "    def forward(self, x):\n",
        "        h0 = torch.zeros(self.num_layers, x.size(0), self.hidden_dim).requires_grad_().cuda()\n",
        "        c0 = torch.zeros(self.num_layers, x.size(0), self.hidden_dim).requires_grad_().cuda()\n",
        "        out, (hn, cn) = self.lstm(x, (h0, c0))\n",
        "        out = self.fc(out[:, -1, :])\n",
        "        return out"
      ]
    },
    {
      "cell_type": "code",
      "source": [
        "def build_lstm_model(input_dim, hidden_dim, num_layers, output_dim, num_epochs, dropout_rate):\n",
        "  model = LSTM(input_dim=input_dim, hidden_dim=hidden_dim, output_dim=output_dim, num_layers=num_layers, num_epochs=num_epochs, dropout_rate=dropout_rate)\n",
        "  model = model.cuda()\n",
        "  cr = torch.nn.MSELoss(reduction='mean')\n",
        "  optimizer = torch.optim.Adam(model.parameters(), lr=0.01)\n",
        "  return model, cr, optimizer"
      ],
      "metadata": {
        "id": "jCOJmN4-SBaS"
      },
      "execution_count": null,
      "outputs": []
    },
    {
      "cell_type": "code",
      "source": [
        "#General Parameters\n",
        "#input_dim = 1\n",
        "#output_dim = 1\n",
        "#num_layers = 2\n",
        "#hidden_dim = 50\n",
        "#num_epochs = 100\n",
        "#dropout_rate = 0.3"
      ],
      "metadata": {
        "id": "HZqDYtW5qkLU"
      },
      "execution_count": null,
      "outputs": []
    },
    {
      "cell_type": "markdown",
      "source": [
        "# Train LSTM Model"
      ],
      "metadata": {
        "id": "zfQGXVvcYQMx"
      }
    },
    {
      "cell_type": "code",
      "source": [
        "def train_model(model, cr, optimizer, x_train_torch, y_train_torch, x_test_torch, y_test_torch, num_epochs):\n",
        "  torch.manual_seed(42)\n",
        "  torch.cuda.manual_seed(42)\n",
        "  torch.cuda.manual_seed_all(42)\n",
        "  np.random.seed(42)\n",
        "  torch.backends.cudnn.deterministic = True\n",
        "\n",
        "  train_hist = np.zeros(num_epochs)\n",
        "  test_hist = np.zeros(num_epochs)\n",
        "  start_time = time.time()\n",
        "  lstm = []\n",
        "\n",
        "\n",
        "  for t in range(num_epochs):\n",
        "    model.train()\n",
        "    y_train_pred = model(x_train_torch)\n",
        "    loss = cr(y_train_pred, y_train_torch)\n",
        "    train_hist[t] = loss.item()\n",
        "\n",
        "    optimizer.zero_grad()\n",
        "    loss.backward()\n",
        "    optimizer.step()\n",
        "\n",
        "    model.eval()\n",
        "    with torch.no_grad():\n",
        "      y_test_pred = model(x_test_torch)\n",
        "      loss = cr(y_test_pred, y_test_torch)\n",
        "      test_hist[t] = loss.item()\n",
        "      #print(\"Epoch \", t, \"train MSE: \", train_hist[t], \"Test MSE:\", test_hist[t])\n",
        "\n",
        "  training_time = time.time()-start_time\n",
        "  #print(\"Training time: {}\".format(training_time))\n",
        "  return y_train_pred, y_test_pred"
      ],
      "metadata": {
        "id": "jhjJL08dUa70"
      },
      "execution_count": null,
      "outputs": []
    },
    {
      "cell_type": "markdown",
      "source": [
        "# Get Train Test RMSE\n",
        "\n"
      ],
      "metadata": {
        "id": "T45S68m9YeKD"
      }
    },
    {
      "cell_type": "code",
      "source": [
        "def get_RMSE(y_train_pred, y_train_torch , type='Train'):\n",
        "  # invert predictions\n",
        "  y_train_pred = y_train_pred.cpu().detach().numpy()\n",
        "  y_train_final = y_train_torch.cpu().detach().numpy()\n",
        "\n",
        "  # calculate root mean squared error\n",
        "  trainScore = math.sqrt(mean_squared_error(y_train_final[:,0], y_train_pred[:,0]))\n",
        "  print(f\"{type} RMSE: \",trainScore)\n",
        "\n",
        "  return trainScore"
      ],
      "metadata": {
        "id": "UHoCKoRTOVWp"
      },
      "execution_count": null,
      "outputs": []
    },
    {
      "cell_type": "markdown",
      "source": [
        "#Model parameters fine tuneing"
      ],
      "metadata": {
        "id": "RsBaVqjLGYrk"
      }
    },
    {
      "cell_type": "code",
      "source": [
        "# Function to vary the number of layers and hidden dimensions, and epochs to find the combination with the best RMSE\n",
        "def model_tuning(x_train_torch, y_train_torch, x_test_torch, y_test_torch, input_dim, output_dim):\n",
        "  torch.manual_seed(42)\n",
        "  torch.cuda.manual_seed(42)\n",
        "  torch.cuda.manual_seed_all(42)\n",
        "  np.random.seed(42)\n",
        "  torch.backends.cudnn.deterministic = True\n",
        "  testscore = 0\n",
        "  nl = 0\n",
        "  hd = 0\n",
        "  epochs = 0\n",
        "  summary = []\n",
        "  for num_epochs in [100, 200, 300, 400]:\n",
        "    for num_layers in [2, 3, 4, 5]:\n",
        "      for hidden_dim in [25, 50, 75, 100]:\n",
        "        model, cr, optimizer = build_lstm_model(input_dim, hidden_dim, num_layers, output_dim, num_epochs,dropout_rate)\n",
        "        y_train_pred, y_test_pred = train_model(model, cr, optimizer, x_train_torch, y_train_torch, x_test_torch, y_test_torch, num_epochs)\n",
        "        train_score = get_RMSE(y_train_torch, y_train_pred, type='Train')\n",
        "        # test_score = get_test_rmse(x_test_torch, y_test_torch, model, ws, test_size)\n",
        "        test_score = get_RMSE(y_test_torch, y_test_pred, type='Test')\n",
        "        print(\", Number of layers: \", num_layers, \", Hidden dimensions: \", hidden_dim, \", Number of Epochs:\", num_epochs)\n",
        "        summary.append({\n",
        "            'Number of layers': num_layers,\n",
        "            'Hidden dimensions': hidden_dim,\n",
        "            'Number of Epochs': num_epochs,\n",
        "            'Train RMSE': train_score,\n",
        "            'Test RMSE': test_score\n",
        "        })\n",
        "\n",
        "        if test_score < testscore or testscore == 0 :\n",
        "          testscore = test_score\n",
        "          nl = num_layers\n",
        "          hd = hidden_dim\n",
        "          epochs = num_epochs\n",
        "  print(\"Optimum Number of layers:\", nl, \"Optimum Hidden dimensions:\", hd, \"Optimum Number of Epochs:\",epochs,\"Test RMSE:\", testscore)\n",
        "  return nl, hd, epochs, summary"
      ],
      "metadata": {
        "id": "UHTxP8QT25m5"
      },
      "execution_count": null,
      "outputs": []
    },
    {
      "cell_type": "code",
      "source": [
        "nl, hd, epochs, summary = model_tuning(x_train_torch, y_train_torch, x_test_torch, y_test_torch, input_dim, output_dim)"
      ],
      "metadata": {
        "id": "cjr2I5lAUYox"
      },
      "execution_count": null,
      "outputs": []
    },
    {
      "cell_type": "code",
      "source": [
        "summary_df = pd.DataFrame(summary)\n",
        "summary_df"
      ],
      "metadata": {
        "id": "KeXNdqYoWZmA"
      },
      "execution_count": null,
      "outputs": []
    },
    {
      "cell_type": "code",
      "source": [
        "train_min_idx = summary_df['Train RMSE'].idxmin()\n",
        "test_min_idx = summary_df['Test RMSE'].idxmin()\n",
        "\n",
        "train_min_row = summary_df.loc[train_min_idx]\n",
        "test_min_row = summary_df.loc[test_min_idx]\n",
        "\n",
        "# Display the results\n",
        "print(\"Row with the smallest Train Score: \", train_min_row)\n",
        "#print(train_min_row)\n",
        "print(\"\\nRow with the smallest Test Score: \", test_min_row)"
      ],
      "metadata": {
        "id": "S7QFS6lnk81d"
      },
      "execution_count": null,
      "outputs": []
    },
    {
      "cell_type": "code",
      "source": [
        "input_dim = 1\n",
        "hidden_dim = 75\n",
        "num_layers = 5\n",
        "output_dim = 1\n",
        "num_epochs = 400\n",
        "dropout_rate = 0.3\n",
        "model, cr, optimizer = build_lstm_model(input_dim, hidden_dim, num_layers, output_dim, num_epochs, dropout_rate)\n",
        "y_train_pred, y_test_pred = train_model(model, cr, optimizer, x_train_torch, y_train_torch, x_test_torch, y_test_torch, num_epochs)\n"
      ],
      "metadata": {
        "id": "-CqHabQjGpY-"
      },
      "execution_count": null,
      "outputs": []
    },
    {
      "cell_type": "code",
      "source": [
        "y_train.shape, y_train_pred.shape"
      ],
      "metadata": {
        "id": "Qjy2MfEiXcEF"
      },
      "execution_count": null,
      "outputs": []
    },
    {
      "cell_type": "code",
      "source": [
        "#reverse normalization\n",
        "y_train = scaler.inverse_transform(y_train)\n",
        "y_train_pred = scaler.inverse_transform(y_train_pred.cpu().detach().numpy())\n",
        "y_test = scaler.inverse_transform(y_test)\n",
        "y_test_pred = scaler.inverse_transform(y_test_pred.cpu().detach().numpy())"
      ],
      "metadata": {
        "id": "En3ZnW5roKo_"
      },
      "execution_count": null,
      "outputs": []
    },
    {
      "cell_type": "code",
      "source": [
        "y_test_pred[1]"
      ],
      "metadata": {
        "id": "EU1M9k2Mo2d5"
      },
      "execution_count": null,
      "outputs": []
    },
    {
      "cell_type": "code",
      "source": [
        "original_train = pd.DataFrame(y_train)\n",
        "predict_test = pd.DataFrame(y_test_pred)\n",
        "original_test = pd.DataFrame(y_test)\n"
      ],
      "metadata": {
        "id": "fB7FdWSTGNwn"
      },
      "execution_count": null,
      "outputs": []
    },
    {
      "cell_type": "code",
      "source": [
        "original_train.head()"
      ],
      "metadata": {
        "id": "pkDMVl7WtLMn"
      },
      "execution_count": null,
      "outputs": []
    },
    {
      "cell_type": "code",
      "execution_count": 59,
      "metadata": {
        "id": "L-bDYqauVFT1",
        "colab": {
          "base_uri": "https://localhost:8080/",
          "height": 426
        },
        "outputId": "8bba2f10-e76e-45c0-c129-a331b8edbab6"
      },
      "outputs": [
        {
          "output_type": "error",
          "ename": "KeyError",
          "evalue": "1",
          "traceback": [
            "\u001b[0;31m---------------------------------------------------------------------------\u001b[0m",
            "\u001b[0;31mValueError\u001b[0m                                Traceback (most recent call last)",
            "\u001b[0;32m/usr/local/lib/python3.10/dist-packages/pandas/core/indexes/range.py\u001b[0m in \u001b[0;36mget_loc\u001b[0;34m(self, key)\u001b[0m\n\u001b[1;32m    412\u001b[0m             \u001b[0;32mtry\u001b[0m\u001b[0;34m:\u001b[0m\u001b[0;34m\u001b[0m\u001b[0;34m\u001b[0m\u001b[0m\n\u001b[0;32m--> 413\u001b[0;31m                 \u001b[0;32mreturn\u001b[0m \u001b[0mself\u001b[0m\u001b[0;34m.\u001b[0m\u001b[0m_range\u001b[0m\u001b[0;34m.\u001b[0m\u001b[0mindex\u001b[0m\u001b[0;34m(\u001b[0m\u001b[0mnew_key\u001b[0m\u001b[0;34m)\u001b[0m\u001b[0;34m\u001b[0m\u001b[0;34m\u001b[0m\u001b[0m\n\u001b[0m\u001b[1;32m    414\u001b[0m             \u001b[0;32mexcept\u001b[0m \u001b[0mValueError\u001b[0m \u001b[0;32mas\u001b[0m \u001b[0merr\u001b[0m\u001b[0;34m:\u001b[0m\u001b[0;34m\u001b[0m\u001b[0;34m\u001b[0m\u001b[0m\n",
            "\u001b[0;31mValueError\u001b[0m: 1 is not in range",
            "\nThe above exception was the direct cause of the following exception:\n",
            "\u001b[0;31mKeyError\u001b[0m                                  Traceback (most recent call last)",
            "\u001b[0;32m<ipython-input-59-ce40b579f4af>\u001b[0m in \u001b[0;36m<cell line: 8>\u001b[0;34m()\u001b[0m\n\u001b[1;32m      6\u001b[0m \u001b[0;34m\u001b[0m\u001b[0m\n\u001b[1;32m      7\u001b[0m \u001b[0;34m\u001b[0m\u001b[0m\n\u001b[0;32m----> 8\u001b[0;31m \u001b[0max\u001b[0m \u001b[0;34m=\u001b[0m \u001b[0msns\u001b[0m\u001b[0;34m.\u001b[0m\u001b[0mlineplot\u001b[0m\u001b[0;34m(\u001b[0m\u001b[0mx\u001b[0m \u001b[0;34m=\u001b[0m \u001b[0moriginal_train\u001b[0m\u001b[0;34m.\u001b[0m\u001b[0mindex\u001b[0m\u001b[0;34m,\u001b[0m \u001b[0my\u001b[0m \u001b[0;34m=\u001b[0m \u001b[0moriginal_train\u001b[0m\u001b[0;34m[\u001b[0m\u001b[0;36m1\u001b[0m\u001b[0;34m]\u001b[0m\u001b[0;34m,\u001b[0m \u001b[0mlabel\u001b[0m\u001b[0;34m=\u001b[0m\u001b[0;34m\"Data\"\u001b[0m\u001b[0;34m,\u001b[0m \u001b[0mcolor\u001b[0m\u001b[0;34m=\u001b[0m\u001b[0;34m'blue'\u001b[0m\u001b[0;34m)\u001b[0m\u001b[0;34m\u001b[0m\u001b[0;34m\u001b[0m\u001b[0m\n\u001b[0m\u001b[1;32m      9\u001b[0m \u001b[0;31m#ax = sns.lineplot(x = predict_train.index, y = predict[0], label=\"LSTM\", color='red')\u001b[0m\u001b[0;34m\u001b[0m\u001b[0;34m\u001b[0m\u001b[0m\n\u001b[1;32m     10\u001b[0m \u001b[0max\u001b[0m \u001b[0;34m=\u001b[0m \u001b[0msns\u001b[0m\u001b[0;34m.\u001b[0m\u001b[0mlineplot\u001b[0m\u001b[0;34m(\u001b[0m\u001b[0mx\u001b[0m \u001b[0;34m=\u001b[0m \u001b[0moriginal_test\u001b[0m\u001b[0;34m.\u001b[0m\u001b[0mindex\u001b[0m\u001b[0;34m,\u001b[0m \u001b[0my\u001b[0m \u001b[0;34m=\u001b[0m \u001b[0moriginal_test\u001b[0m\u001b[0;34m,\u001b[0m \u001b[0mlabel\u001b[0m\u001b[0;34m=\u001b[0m\u001b[0;34m\"Data\"\u001b[0m\u001b[0;34m,\u001b[0m \u001b[0mcolor\u001b[0m\u001b[0;34m=\u001b[0m\u001b[0;34m'yellow'\u001b[0m\u001b[0;34m)\u001b[0m\u001b[0;34m\u001b[0m\u001b[0;34m\u001b[0m\u001b[0m\n",
            "\u001b[0;32m/usr/local/lib/python3.10/dist-packages/pandas/core/frame.py\u001b[0m in \u001b[0;36m__getitem__\u001b[0;34m(self, key)\u001b[0m\n\u001b[1;32m   4100\u001b[0m             \u001b[0;32mif\u001b[0m \u001b[0mself\u001b[0m\u001b[0;34m.\u001b[0m\u001b[0mcolumns\u001b[0m\u001b[0;34m.\u001b[0m\u001b[0mnlevels\u001b[0m \u001b[0;34m>\u001b[0m \u001b[0;36m1\u001b[0m\u001b[0;34m:\u001b[0m\u001b[0;34m\u001b[0m\u001b[0;34m\u001b[0m\u001b[0m\n\u001b[1;32m   4101\u001b[0m                 \u001b[0;32mreturn\u001b[0m \u001b[0mself\u001b[0m\u001b[0;34m.\u001b[0m\u001b[0m_getitem_multilevel\u001b[0m\u001b[0;34m(\u001b[0m\u001b[0mkey\u001b[0m\u001b[0;34m)\u001b[0m\u001b[0;34m\u001b[0m\u001b[0;34m\u001b[0m\u001b[0m\n\u001b[0;32m-> 4102\u001b[0;31m             \u001b[0mindexer\u001b[0m \u001b[0;34m=\u001b[0m \u001b[0mself\u001b[0m\u001b[0;34m.\u001b[0m\u001b[0mcolumns\u001b[0m\u001b[0;34m.\u001b[0m\u001b[0mget_loc\u001b[0m\u001b[0;34m(\u001b[0m\u001b[0mkey\u001b[0m\u001b[0;34m)\u001b[0m\u001b[0;34m\u001b[0m\u001b[0;34m\u001b[0m\u001b[0m\n\u001b[0m\u001b[1;32m   4103\u001b[0m             \u001b[0;32mif\u001b[0m \u001b[0mis_integer\u001b[0m\u001b[0;34m(\u001b[0m\u001b[0mindexer\u001b[0m\u001b[0;34m)\u001b[0m\u001b[0;34m:\u001b[0m\u001b[0;34m\u001b[0m\u001b[0;34m\u001b[0m\u001b[0m\n\u001b[1;32m   4104\u001b[0m                 \u001b[0mindexer\u001b[0m \u001b[0;34m=\u001b[0m \u001b[0;34m[\u001b[0m\u001b[0mindexer\u001b[0m\u001b[0;34m]\u001b[0m\u001b[0;34m\u001b[0m\u001b[0;34m\u001b[0m\u001b[0m\n",
            "\u001b[0;32m/usr/local/lib/python3.10/dist-packages/pandas/core/indexes/range.py\u001b[0m in \u001b[0;36mget_loc\u001b[0;34m(self, key)\u001b[0m\n\u001b[1;32m    413\u001b[0m                 \u001b[0;32mreturn\u001b[0m \u001b[0mself\u001b[0m\u001b[0;34m.\u001b[0m\u001b[0m_range\u001b[0m\u001b[0;34m.\u001b[0m\u001b[0mindex\u001b[0m\u001b[0;34m(\u001b[0m\u001b[0mnew_key\u001b[0m\u001b[0;34m)\u001b[0m\u001b[0;34m\u001b[0m\u001b[0;34m\u001b[0m\u001b[0m\n\u001b[1;32m    414\u001b[0m             \u001b[0;32mexcept\u001b[0m \u001b[0mValueError\u001b[0m \u001b[0;32mas\u001b[0m \u001b[0merr\u001b[0m\u001b[0;34m:\u001b[0m\u001b[0;34m\u001b[0m\u001b[0;34m\u001b[0m\u001b[0m\n\u001b[0;32m--> 415\u001b[0;31m                 \u001b[0;32mraise\u001b[0m \u001b[0mKeyError\u001b[0m\u001b[0;34m(\u001b[0m\u001b[0mkey\u001b[0m\u001b[0;34m)\u001b[0m \u001b[0;32mfrom\u001b[0m \u001b[0merr\u001b[0m\u001b[0;34m\u001b[0m\u001b[0;34m\u001b[0m\u001b[0m\n\u001b[0m\u001b[1;32m    416\u001b[0m         \u001b[0;32mif\u001b[0m \u001b[0misinstance\u001b[0m\u001b[0;34m(\u001b[0m\u001b[0mkey\u001b[0m\u001b[0;34m,\u001b[0m \u001b[0mHashable\u001b[0m\u001b[0;34m)\u001b[0m\u001b[0;34m:\u001b[0m\u001b[0;34m\u001b[0m\u001b[0;34m\u001b[0m\u001b[0m\n\u001b[1;32m    417\u001b[0m             \u001b[0;32mraise\u001b[0m \u001b[0mKeyError\u001b[0m\u001b[0;34m(\u001b[0m\u001b[0mkey\u001b[0m\u001b[0;34m)\u001b[0m\u001b[0;34m\u001b[0m\u001b[0;34m\u001b[0m\u001b[0m\n",
            "\u001b[0;31mKeyError\u001b[0m: 1"
          ]
        },
        {
          "output_type": "display_data",
          "data": {
            "text/plain": [
              "<Figure size 1200x1200 with 0 Axes>"
            ]
          },
          "metadata": {}
        }
      ],
      "source": [
        "import seaborn as sns\n",
        "sns.set_style(\"darkgrid\")\n",
        "\n",
        "fig = plt.figure(figsize=(12,12))\n",
        "fig.subplots_adjust(hspace=0.2, wspace=0.2)\n",
        "\n",
        "\n",
        "ax = sns.lineplot(x = original_train.index, y = original_train.loc[1], label=\"Data\", color='blue')\n",
        "#ax = sns.lineplot(x = predict_train.index, y = predict[0], label=\"LSTM\", color='red')\n",
        "ax = sns.lineplot(x = original_test.index, y = original_test.loc[1], label=\"Data\", color='yellow')\n",
        "ax = sns.lineplot(x = predict_test.index, y = predict_test, label=\"LSTM\", color='green')\n",
        "ax.set_title('SBM price', size = 14, fontweight='bold')\n",
        "ax.set_xlabel(\"Days\", size = 14)\n",
        "ax.set_ylabel(\"Cost (USD)\", size = 14)\n",
        "ax.set_xticklabels('', size=10)\n",
        "\n",
        "\n",
        "#plt.subplot(1, 2, 2)\n",
        "#ax = sns.lineplot(data=hist, color='royalblue')\n",
        "#ax.set_xlabel(\"Epoch\", size = 14)\n",
        "#ax.set_ylabel(\"Loss\", size = 14)\n",
        "#ax.set_title(\"Training Loss\", size = 14, fontweight='bold')\n",
        "#fig.set_figheight(6)\n",
        "#fig.set_figwidth(16)"
      ]
    },
    {
      "cell_type": "markdown",
      "source": [
        "## Create model\n"
      ],
      "metadata": {
        "id": "FKQG3kRHR9At"
      }
    },
    {
      "cell_type": "code",
      "source": [
        "def get_best_model(input_dim, hidden_dim, num_layers, output_dim, x_train_torch, y_train_torch, x_test_torch, y_test_torch, num_epochs, ws, test_size):\n",
        "  model, cr, optimizer = build_lstm_model(input_dim, hidden_dim, num_layers, output_dim, num_epochs)\n",
        "  y_train_pred, y_test_pred = train_model(model, cr, optimizer, x_train_torch, y_train_torch, x_test_torch, y_test_torch, num_epochs)\n",
        "  train_score = get_train_RMSE(y_train_pred, y_train_torch)\n",
        "  test_score = get_test_rmse(x_test_torch, y_test_torch, model, ws, test_size)\n",
        "  return train_score, test_score, model"
      ],
      "metadata": {
        "id": "IitPvEbmP-Ek"
      },
      "execution_count": null,
      "outputs": []
    },
    {
      "cell_type": "markdown",
      "source": [
        "#Get x months ahead worth of predictions"
      ],
      "metadata": {
        "id": "fTzSbb_QxH3-"
      }
    },
    {
      "cell_type": "code",
      "source": [
        "#Function to take in the correct window of data and generate 5 months ahead predictions\n",
        "def forecast_x_months(ws, df, model, months_ahead, column_name):\n",
        "  predictions = []\n",
        "  current_window = df[[column_name]][-ws:].to_numpy()\n",
        "  current_window = current_window.reshape(1,ws,1)\n",
        "  for i in range(months_ahead):\n",
        "    current_window_torch = torch.from_numpy(current_window).type(torch.Tensor).cuda()\n",
        "    pred = model(current_window_torch)\n",
        "    pred = pred.cpu().detach().numpy()\n",
        "    predictions.append(pred)\n",
        "    current_window_torch = current_window_torch.cpu().detach().numpy()\n",
        "    current_window = np.append(current_window, pred)\n",
        "    current_window = current_window[-ws:].reshape(1,ws,1)\n",
        "  predictions = scale.inverse_transform(np.array(predictions).reshape(months_ahead,1))\n",
        "  return predictions"
      ],
      "metadata": {
        "id": "yckUodTuxGs8"
      },
      "execution_count": null,
      "outputs": []
    },
    {
      "cell_type": "code",
      "source": [
        "#Function to take in the correct window of data and generate 6 months ahead predictions\n",
        "def forecast_x_days(ws, df, model, months_ahead):\n",
        "  predictions = []\n",
        "  current_window = df['DailySalesQuantity'][-ws:].to_numpy()\n",
        "  current_window = current_window.reshape(1,ws,1)\n",
        "  for i in range(months_ahead):\n",
        "    current_window_torch = torch.from_numpy(current_window).type(torch.Tensor).cuda()\n",
        "    pred = model(current_window_torch)\n",
        "    pred = pred.cpu().detach().numpy()\n",
        "    predictions.append(pred)\n",
        "    current_window_torch = current_window_torch.cpu().detach().numpy()\n",
        "    current_window = np.append(current_window, pred)\n",
        "    current_window = current_window[-ws:].reshape(1,ws,1)\n",
        "  predictions = scale.inverse_transform(np.array(predictions).reshape(months_ahead,1))\n",
        "  return predictions"
      ],
      "metadata": {
        "id": "N4vV2lBIoWb7"
      },
      "execution_count": null,
      "outputs": []
    },
    {
      "cell_type": "code",
      "source": [
        "predictions = forecast_x_days(ws, df, model, test_size)\n",
        "predictions"
      ],
      "metadata": {
        "colab": {
          "base_uri": "https://localhost:8080/",
          "height": 158
        },
        "id": "mbEA0YJO1lS3",
        "outputId": "495fd52d-454a-4d3d-f0bb-5bf0ee35e7c6"
      },
      "execution_count": null,
      "outputs": [
        {
          "output_type": "error",
          "ename": "NameError",
          "evalue": "name 'model' is not defined",
          "traceback": [
            "\u001b[0;31m---------------------------------------------------------------------------\u001b[0m",
            "\u001b[0;31mNameError\u001b[0m                                 Traceback (most recent call last)",
            "\u001b[0;32m<ipython-input-28-22ae8be57c25>\u001b[0m in \u001b[0;36m<cell line: 1>\u001b[0;34m()\u001b[0m\n\u001b[0;32m----> 1\u001b[0;31m \u001b[0mOTO_predictions\u001b[0m \u001b[0;34m=\u001b[0m \u001b[0mforecast_x_days\u001b[0m\u001b[0;34m(\u001b[0m\u001b[0mws\u001b[0m\u001b[0;34m,\u001b[0m \u001b[0mdf\u001b[0m\u001b[0;34m,\u001b[0m \u001b[0mmodel\u001b[0m\u001b[0;34m,\u001b[0m \u001b[0mtest_size\u001b[0m\u001b[0;34m)\u001b[0m\u001b[0;34m\u001b[0m\u001b[0;34m\u001b[0m\u001b[0m\n\u001b[0m\u001b[1;32m      2\u001b[0m \u001b[0mOTO_predictions\u001b[0m\u001b[0;34m\u001b[0m\u001b[0;34m\u001b[0m\u001b[0m\n",
            "\u001b[0;31mNameError\u001b[0m: name 'model' is not defined"
          ]
        }
      ]
    },
    {
      "cell_type": "code",
      "source": [
        "  #Detach all torch tensors\n",
        "  x_train_torch = x_train_torch.cpu().detach().numpy()\n",
        "  x_test_torch = x_test_torch.cpu().detach()\n",
        "  y_train_torch = y_train_torch.cpu().detach().numpy()\n",
        "  y_test_torch = y_test_torch.cpu().detach().numpy()"
      ],
      "metadata": {
        "id": "wl8GLpqjbz5M"
      },
      "execution_count": null,
      "outputs": []
    }
  ],
  "metadata": {
    "colab": {
      "provenance": [],
      "gpuType": "T4",
      "include_colab_link": true
    },
    "kernelspec": {
      "display_name": "Python 3",
      "name": "python3"
    },
    "language_info": {
      "codemirror_mode": {
        "name": "ipython",
        "version": 3
      },
      "file_extension": ".py",
      "mimetype": "text/x-python",
      "name": "python",
      "nbconvert_exporter": "python",
      "pygments_lexer": "ipython3",
      "version": "3.11.5"
    },
    "accelerator": "GPU"
  },
  "nbformat": 4,
  "nbformat_minor": 0
}